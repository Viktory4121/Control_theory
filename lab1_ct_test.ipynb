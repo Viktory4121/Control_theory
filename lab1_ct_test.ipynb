{
  "nbformat": 4,
  "nbformat_minor": 0,
  "metadata": {
    "colab": {
      "name": "lab1_ct.ipynb",
      "provenance": [],
      "collapsed_sections": [],
      "authorship_tag": "ABX9TyNzZpuThTLS6ANflkX9Czip",
      "include_colab_link": true
    },
    "kernelspec": {
      "name": "python3",
      "display_name": "Python 3"
    },
    "language_info": {
      "name": "python"
    }
  },
  "cells": [
    {
      "cell_type": "markdown",
      "metadata": {
        "id": "view-in-github",
        "colab_type": "text"
      },
      "source": [
        "<a href=\"https://colab.research.google.com/github/Viktory4121/Control_theory/blob/main/lab1_ct_test.ipynb\" target=\"_parent\"><img src=\"https://colab.research.google.com/assets/colab-badge.svg\" alt=\"Open In Colab\"/></a>"
      ]
    },
    {
      "cell_type": "code",
      "execution_count": 28,
      "metadata": {
        "id": "ptY-1mfW0yb2"
      },
      "outputs": [],
      "source": [
        "import pandas as pd\n",
        "import numpy as np"
      ]
    },
    {
      "cell_type": "code",
      "source": [
        "#Матрица собственных чисел:\n",
        "print('lambda = ')\n",
        "lambda_matrix = np.matrix([[3, 0, 0, 0], [0, -6, 0, 0], [0, 0, 1, 0], [0, 0, 0, 1]])\n",
        "print(lambda_matrix)\n",
        "#обратимая матрица\n",
        "L = np.matrix([[1,1,0,3],[3,2,0,1],[1,0,3,4],[0,1,0,3]])\n",
        "print('L = ')\n",
        "print(L)\n",
        "#также даны:\n",
        "B = np.matrix([[1, -2], [0, 5],[7, -9],[0, 2]])\n",
        "C = np.matrix([-8, -4, 1, 0])\n",
        "print('B = ')\n",
        "print(B)\n",
        "print('C = ')\n",
        "print(C)"
      ],
      "metadata": {
        "colab": {
          "base_uri": "https://localhost:8080/"
        },
        "id": "iTp9Vy0T04mG",
        "outputId": "3d6df720-80ac-4b57-bb63-8c65a10fa7e9"
      },
      "execution_count": 40,
      "outputs": [
        {
          "output_type": "stream",
          "name": "stdout",
          "text": [
            "lambda = \n",
            "[[ 3  0  0  0]\n",
            " [ 0 -6  0  0]\n",
            " [ 0  0  1  0]\n",
            " [ 0  0  0  1]]\n",
            "L = \n",
            "[[1 1 0 3]\n",
            " [3 2 0 1]\n",
            " [1 0 3 4]\n",
            " [0 1 0 3]]\n",
            "B = \n",
            "[[ 1 -2]\n",
            " [ 0  5]\n",
            " [ 7 -9]\n",
            " [ 0  2]]\n",
            "C = \n",
            "[[-8 -4  1  0]]\n"
          ]
        }
      ]
    },
    {
      "cell_type": "code",
      "source": [
        "print('det(L) = ' + str(np.linalg.det(L)))"
      ],
      "metadata": {
        "id": "CKaY_Fj4njCT",
        "outputId": "03a57d64-a20a-4d61-c151-4b16c6956c0c",
        "colab": {
          "base_uri": "https://localhost:8080/"
        }
      },
      "execution_count": 41,
      "outputs": [
        {
          "output_type": "stream",
          "name": "stdout",
          "text": [
            "det(L) = 15.000000000000007\n"
          ]
        }
      ]
    },
    {
      "cell_type": "code",
      "source": [
        "#обратная матрица от обратимой\n",
        "L_ = np.linalg.inv(L)\n",
        "print('L_обр = ')\n",
        "print(L_)"
      ],
      "metadata": {
        "colab": {
          "base_uri": "https://localhost:8080/"
        },
        "id": "4w7zjhBk1vH-",
        "outputId": "00024e1d-d472-48c8-9329-6a859c989c81"
      },
      "execution_count": 42,
      "outputs": [
        {
          "output_type": "stream",
          "name": "stdout",
          "text": [
            "L_обр = \n",
            "[[ 1.          0.          0.         -1.        ]\n",
            " [-1.8         0.6         0.          1.6       ]\n",
            " [-1.13333333  0.26666667  0.33333333  0.6       ]\n",
            " [ 0.6        -0.2         0.         -0.2       ]]\n"
          ]
        }
      ]
    },
    {
      "cell_type": "code",
      "source": [
        "#исходная матрица\n",
        "A = L.dot(lambda_matrix).dot(L_)\n",
        "print('A = ')\n",
        "print(A)"
      ],
      "metadata": {
        "colab": {
          "base_uri": "https://localhost:8080/"
        },
        "id": "32RnsVUS2Pgh",
        "outputId": "def9c1c1-fbeb-4901-f1d2-06700768dae6"
      },
      "execution_count": 43,
      "outputs": [
        {
          "output_type": "stream",
          "name": "stdout",
          "text": [
            "A = \n",
            "[[ 1.56000000e+01 -4.20000000e+00  0.00000000e+00 -1.32000000e+01]\n",
            " [ 3.12000000e+01 -7.40000000e+00  0.00000000e+00 -2.84000000e+01]\n",
            " [ 2.00000000e+00  1.11022302e-16  1.00000000e+00 -2.00000000e+00]\n",
            " [ 1.26000000e+01 -4.20000000e+00  0.00000000e+00 -1.02000000e+01]]\n"
          ]
        }
      ]
    },
    {
      "cell_type": "code",
      "source": [
        "#дополнительные вычисления для составления матрицы управляемости\n",
        "\n",
        "AB = A.dot(B)\n",
        "print(\"A * B = \")\n",
        "print(AB)\n",
        "print(\"\\n\")\n",
        "\n",
        "AAB = A.dot(A).dot(B)\n",
        "print(\"A * A * B = \")\n",
        "print(AAB)\n",
        "print(\"\\n\")\n",
        "\n",
        "AAAB = A.dot(A).dot(A).dot(B)\n",
        "print(\"A * A * A * B = \")\n",
        "print(AAAB)"
      ],
      "metadata": {
        "colab": {
          "base_uri": "https://localhost:8080/"
        },
        "id": "z8EDG3gErQDn",
        "outputId": "0430c0da-a245-4935-c517-98791590456f"
      },
      "execution_count": 45,
      "outputs": [
        {
          "output_type": "stream",
          "name": "stdout",
          "text": [
            "A * B = \n",
            "[[  15.6  -78.6]\n",
            " [  31.2 -156.2]\n",
            " [   9.   -17. ]\n",
            " [  12.6  -66.6]]\n",
            "\n",
            "\n",
            "A * A * B = \n",
            "[[ -54.  309.]\n",
            " [-102.  595.]\n",
            " [  15.  -41.]\n",
            " [ -63.  345.]]\n",
            "\n",
            "\n",
            "A * A * A * B = \n",
            "[[  417.6 -2232.6]\n",
            " [  859.2 -4560.2]\n",
            " [   33.   -113. ]\n",
            " [  390.6 -2124.6]]\n"
          ]
        }
      ]
    },
    {
      "cell_type": "code",
      "source": [
        "#матрица управляемости\n",
        "beta = np.concatenate((np.round(B), np.round(AB), np.round(AAB), np.round(AAAB)), axis=1)\n",
        "print(\"{A,B} = \")\n",
        "print(pd.DataFrame(beta))"
      ],
      "metadata": {
        "colab": {
          "base_uri": "https://localhost:8080/"
        },
        "id": "SjXNaaIOyqTV",
        "outputId": "5c33e357-3c08-48fd-b736-6a5a2195f822"
      },
      "execution_count": 46,
      "outputs": [
        {
          "output_type": "stream",
          "name": "stdout",
          "text": [
            "{A,B} = \n",
            "     0    1     2      3      4      5      6       7\n",
            "0  1.0 -2.0  16.0  -79.0  -54.0  309.0  418.0 -2233.0\n",
            "1  0.0  5.0  31.0 -156.0 -102.0  595.0  859.0 -4560.0\n",
            "2  7.0 -9.0   9.0  -17.0   15.0  -41.0   33.0  -113.0\n",
            "3  0.0  2.0  13.0  -67.0  -63.0  345.0  391.0 -2125.0\n"
          ]
        }
      ]
    },
    {
      "cell_type": "code",
      "source": [
        "rang_beta = np.linalg.matrix_rank(beta)\n",
        "print(\"Ранг матрицы управляемости rg {A,B} = \" + str(rang_beta))"
      ],
      "metadata": {
        "colab": {
          "base_uri": "https://localhost:8080/"
        },
        "id": "QsnOyf_bz2qS",
        "outputId": "28818357-a0c4-4a3f-e41d-cfa49c983a78"
      },
      "execution_count": 47,
      "outputs": [
        {
          "output_type": "stream",
          "name": "stdout",
          "text": [
            "Ранг матрицы управляемости rg {A,B} = 4\n"
          ]
        }
      ]
    },
    {
      "cell_type": "code",
      "source": [
        "#проверка для 1.15\n",
        "print(\"B_1 = \")\n",
        "print(B[:,0])\n",
        "print('\\n')\n",
        "\n",
        "print('A * B_1 = ')\n",
        "AB1 = A.dot(B[:,0])\n",
        "print(AB1)\n",
        "print('\\n')\n",
        "\n",
        "AAB1 = A.dot(A).dot(B[:,0])\n",
        "print('A * A * B_1 = ')\n",
        "print(AAB1)\n",
        "print('\\n')\n",
        "\n",
        "print('A * A * A * B_1 = ')\n",
        "AAAB1 = A.dot(A).dot(A).dot(B[:,0])\n",
        "print(AAAB1)"
      ],
      "metadata": {
        "colab": {
          "base_uri": "https://localhost:8080/"
        },
        "id": "_nAZ3tkZ04cQ",
        "outputId": "91751868-db4a-43f7-ae93-9b4279b8cef6"
      },
      "execution_count": 48,
      "outputs": [
        {
          "output_type": "stream",
          "name": "stdout",
          "text": [
            "B_1 = \n",
            "[[1]\n",
            " [0]\n",
            " [7]\n",
            " [0]]\n",
            "\n",
            "\n",
            "A * B_1 = \n",
            "[[15.6]\n",
            " [31.2]\n",
            " [ 9. ]\n",
            " [12.6]]\n",
            "\n",
            "\n",
            "A * A * B_1 = \n",
            "[[ -54.]\n",
            " [-102.]\n",
            " [  15.]\n",
            " [ -63.]]\n",
            "\n",
            "\n",
            "A * A * A * B_1 = \n",
            "[[417.6]\n",
            " [859.2]\n",
            " [ 33. ]\n",
            " [390.6]]\n"
          ]
        }
      ]
    },
    {
      "cell_type": "code",
      "source": [
        "beta1 = np.concatenate((B[:,0], AB1, AAB1, AAAB1), axis=1)\n",
        "print('{A, B_1} = ')\n",
        "print(pd.DataFrame(beta1))\n",
        "rang_beta1 = np.linalg.matrix_rank(beta1)\n",
        "print(\"\\nРанг матрицы управляемости rg {A,B_1} = \" + str(rang_beta1))"
      ],
      "metadata": {
        "colab": {
          "base_uri": "https://localhost:8080/"
        },
        "id": "--7BM8zo2zQ8",
        "outputId": "dcf5467f-3ca3-46d7-d6b7-38f3ba6b2de0"
      },
      "execution_count": 49,
      "outputs": [
        {
          "output_type": "stream",
          "name": "stdout",
          "text": [
            "{A, B_1} = \n",
            "     0     1      2      3\n",
            "0  1.0  15.6  -54.0  417.6\n",
            "1  0.0  31.2 -102.0  859.2\n",
            "2  7.0   9.0   15.0   33.0\n",
            "3  0.0  12.6  -63.0  390.6\n",
            "\n",
            "Ранг матрицы управляемости rg {A,B_1} = 3\n"
          ]
        }
      ]
    },
    {
      "cell_type": "code",
      "source": [
        "#дополнительные вычисления для матрицы наблюдаемости\n",
        "A_arr = A.T\n",
        "C_arr = C.T\n",
        "\n",
        "AC = np.matrix(A_arr.dot(C_arr))\n",
        "AAC = np.matrix(A_arr.dot(A_arr).dot(C_arr))\n",
        "AAAC = np.matrix(A_arr.dot(A_arr).dot(A_arr).dot(C_arr))\n",
        "print(\"A * C = \")\n",
        "print(AC)\n",
        "print('\\n')\n",
        "\n",
        "print(\"A * A * C = \")\n",
        "print(AAC)\n",
        "print('\\n')\n",
        "print(\"A * A * A * C = \")\n",
        "print(AAAC)\n",
        "print('\\n')"
      ],
      "metadata": {
        "colab": {
          "base_uri": "https://localhost:8080/"
        },
        "id": "DuT-hlaL3DLo",
        "outputId": "b0ac15bf-65b4-4c08-db73-165857ce0551"
      },
      "execution_count": 50,
      "outputs": [
        {
          "output_type": "stream",
          "name": "stdout",
          "text": [
            "A * C = \n",
            "[[-247.6]\n",
            " [  63.2]\n",
            " [   1. ]\n",
            " [ 217.2]]\n",
            "\n",
            "\n",
            "A * A * C = \n",
            "[[ 848.]\n",
            " [-340.]\n",
            " [   1.]\n",
            " [-744.]]\n",
            "\n",
            "\n",
            "A * A * A * C = \n",
            "[[-6.7516e+03]\n",
            " [ 2.0792e+03]\n",
            " [ 1.0000e+00]\n",
            " [ 6.0492e+03]]\n",
            "\n",
            "\n"
          ]
        }
      ]
    },
    {
      "cell_type": "code",
      "source": [
        "gamma = np.concatenate((C.T, AC, AAC, AAAC), axis=1)\n",
        "print('{A, С} = ')\n",
        "print(pd.DataFrame(gamma))\n",
        "rang_gamma = np.linalg.matrix_rank(gamma)\n",
        "print(\"\\nРанг матрицы наблюдаемости rg {A,C} = \" + str(rang_gamma))"
      ],
      "metadata": {
        "colab": {
          "base_uri": "https://localhost:8080/"
        },
        "id": "ViaGBBzh7CGh",
        "outputId": "c3d1d36b-25f6-447c-fab1-7ff585c08e4b"
      },
      "execution_count": 51,
      "outputs": [
        {
          "output_type": "stream",
          "name": "stdout",
          "text": [
            "{A, С} = \n",
            "     0      1      2       3\n",
            "0 -8.0 -247.6  848.0 -6751.6\n",
            "1 -4.0   63.2 -340.0  2079.2\n",
            "2  1.0    1.0    1.0     1.0\n",
            "3  0.0  217.2 -744.0  6049.2\n",
            "\n",
            "Ранг матрицы наблюдаемости rg {A,C} = 3\n"
          ]
        }
      ]
    },
    {
      "cell_type": "code",
      "source": [
        "#пункт 1.15\n",
        "#1) дополнительные вычисления (в методичке описаны пунктом 1.2.2)\n",
        "I = np.eye(4)\n",
        "print(\"D_0 = \")\n",
        "D0 = I\n",
        "print(D0)\n",
        "print('\\n')\n",
        "\n",
        "d1 = -np.trace(D0.dot(A))\n",
        "print(\"d_1 = \" + str(d1))\n",
        "print(\"D_1 = \")\n",
        "D1 = D0 + (I.dot(d1))\n",
        "print(D1)\n",
        "print('\\n')\n",
        "\n",
        "d2 = -0.5 * np.trace(D1.dot(A))\n",
        "print(\"d_2 = \" + str(d2))\n",
        "print(\"D_2 = \")\n",
        "D2 = D1 + (I.dot(d2))\n",
        "print(D2)\n",
        "print('\\n')\n",
        "\n",
        "\n",
        "d3 = -(1.0/3.0) * np.trace(D2.dot(A))\n",
        "print(\"d_3 = \" + str(d3))\n",
        "print(\"D_3 = \")\n",
        "D3 = D2 + (I.dot(d3))\n",
        "print(D3)\n",
        "print('\\n')\n",
        "\n",
        "d4 = -0.25 * np.trace(D3.dot(A))\n",
        "print(\"d_4 = \" + str(d4))\n",
        "print('\\n')\n",
        "\n",
        "#почему-то не работает проверка... (она должна вывести 0)\n",
        "check = D3.dot(A) + (I.dot(d4))\n",
        "print(np.round(check))"
      ],
      "metadata": {
        "colab": {
          "base_uri": "https://localhost:8080/"
        },
        "id": "Zunn80UL9Cxr",
        "outputId": "f205f3bf-2807-480a-dbd3-b5954d7badc6"
      },
      "execution_count": 53,
      "outputs": [
        {
          "output_type": "stream",
          "name": "stdout",
          "text": [
            "D_0 = \n",
            "[[1. 0. 0. 0.]\n",
            " [0. 1. 0. 0.]\n",
            " [0. 0. 1. 0.]\n",
            " [0. 0. 0. 1.]]\n",
            "\n",
            "\n",
            "d_1 = 1.0000000000000018\n",
            "D_1 = \n",
            "[[2. 0. 0. 0.]\n",
            " [0. 2. 0. 0.]\n",
            " [0. 0. 2. 0.]\n",
            " [0. 0. 0. 2.]]\n",
            "\n",
            "\n",
            "d_2 = 1.0000000000000036\n",
            "D_2 = \n",
            "[[3. 0. 0. 0.]\n",
            " [0. 3. 0. 0.]\n",
            " [0. 0. 3. 0.]\n",
            " [0. 0. 0. 3.]]\n",
            "\n",
            "\n",
            "d_3 = 1.0000000000000047\n",
            "D_3 = \n",
            "[[4. 0. 0. 0.]\n",
            " [0. 4. 0. 0.]\n",
            " [0. 0. 4. 0.]\n",
            " [0. 0. 0. 4.]]\n",
            "\n",
            "\n",
            "d_4 = 1.000000000000007\n",
            "\n",
            "\n",
            "[[  63.  -17.    0.  -53.]\n",
            " [ 125.  -29.    0. -114.]\n",
            " [   8.    0.    5.   -8.]\n",
            " [  50.  -17.    0.  -40.]]\n"
          ]
        }
      ]
    },
    {
      "cell_type": "code",
      "source": [
        "#нахождение матрицы S\n",
        "S4 = B[:,0]\n",
        "S3 = A.dot(S4) + d1 * B[:,0]\n",
        "S2 = A.dot(S3) + d2 * B[:,0]\n",
        "S1 = A.dot(S2) + d3 * B[:,0]\n",
        "print('S_1 = ')\n",
        "print(S1)\n",
        "print('\\nS_2 = ')\n",
        "print(S2)\n",
        "print('\\nS_3 = ')\n",
        "print(S3)\n",
        "print('\\nS_4 = ')\n",
        "print(S4)\n",
        "print('\\nS = ')\n",
        "S = np.concatenate((S1, S2, S3, S4), axis=1)\n",
        "print(pd.DataFrame(S))\n",
        "print('\\nS_ = ')\n",
        "S_ = np.linalg.inv(S)\n",
        "print(pd.DataFrame(S_))"
      ],
      "metadata": {
        "colab": {
          "base_uri": "https://localhost:8080/"
        },
        "id": "J9RSXOWf-08F",
        "outputId": "3109b0be-8b67-4018-be7c-1952f1511397"
      },
      "execution_count": 16,
      "outputs": [
        {
          "output_type": "stream",
          "name": "stdout",
          "text": [
            "S_1 = \n",
            "[[-210.]\n",
            " [-324.]\n",
            " [4542.]\n",
            " [4410.]]\n",
            "\n",
            "S_2 = \n",
            "[[   33.]\n",
            " [   18.]\n",
            " [-1059.]\n",
            " [-1092.]]\n",
            "\n",
            "S_3 = \n",
            "[[-16.]\n",
            " [-18.]\n",
            " [ 74.]\n",
            " [134.]]\n",
            "\n",
            "S_4 = \n",
            "[[1]\n",
            " [0]\n",
            " [7]\n",
            " [0]]\n",
            "\n",
            "S = \n",
            "        0       1      2    3\n",
            "0  -210.0    33.0  -16.0  1.0\n",
            "1  -324.0    18.0  -18.0  0.0\n",
            "2  4542.0 -1059.0   74.0  7.0\n",
            "3  4410.0 -1092.0  134.0  0.0\n",
            "\n",
            "S_ = \n",
            "          0         1         2         3\n",
            "0 -0.019364  0.004853  0.002766 -0.003188\n",
            "1 -0.040385  0.002350  0.005769 -0.007692\n",
            "2  0.308160 -0.140558 -0.044023  0.049688\n",
            "3  3.196899 -1.307375 -0.313843  0.379418\n"
          ]
        }
      ]
    },
    {
      "cell_type": "code",
      "source": [
        "print('det(S) = ' + str(np.linalg.det(S)) + ' не равно 0')"
      ],
      "metadata": {
        "id": "TSf-EopTsi1w",
        "outputId": "27514b42-3ef0-484f-c699-e33f030423bf",
        "colab": {
          "base_uri": "https://localhost:8080/"
        }
      },
      "execution_count": 18,
      "outputs": [
        {
          "output_type": "stream",
          "name": "stdout",
          "text": [
            "det(S) = -6233759.999999989 не равно 0\n"
          ]
        }
      ]
    },
    {
      "cell_type": "code",
      "source": [
        "#в пункте 2) надо самому разложить многочлен по примеру и коэффициенты при p будут равны соответствующим позициям для вектора d с чертой"
      ],
      "metadata": {
        "id": "5dmXC0bgPwEN"
      },
      "execution_count": null,
      "outputs": []
    },
    {
      "cell_type": "code",
      "source": [
        "#3-4) поиск матрицы K\n",
        "K_ = np.matrix([-219, 124, -39, 14]) #это K с чертой (ее можно найти с помощью пункта 2)\n",
        "K = K_.dot(S_)\n",
        "print(\"K = \")\n",
        "print(K)"
      ],
      "metadata": {
        "colab": {
          "base_uri": "https://localhost:8080/"
        },
        "id": "0J47zdi0HCMD",
        "outputId": "368aec05-4285-44e7-c03c-0603d7bf61ab"
      },
      "execution_count": null,
      "outputs": [
        {
          "output_type": "stream",
          "name": "stdout",
          "text": [
            "K = \n",
            "[[ 31.97127512 -13.59282744  -2.56732502   3.11829522]]\n"
          ]
        }
      ]
    },
    {
      "cell_type": "code",
      "source": [
        "#5) поиск A с чертой\n",
        "A_ = A - (B[:,0]).dot(K)\n",
        "print('A_ = ')\n",
        "print(A_)"
      ],
      "metadata": {
        "colab": {
          "base_uri": "https://localhost:8080/"
        },
        "id": "CFaY090vSFaO",
        "outputId": "da1503bc-9e11-433d-8230-037e2abf3e20"
      },
      "execution_count": null,
      "outputs": [
        {
          "output_type": "stream",
          "name": "stdout",
          "text": [
            "A_ = \n",
            "[[ -37.97127512   19.59282744    2.56732502   -3.11829522]\n",
            " [ -18.           15.            0.            0.        ]\n",
            " [-142.79892585   47.1497921    26.97127512  -33.82806653]\n",
            " [  92.          -56.            6.           -8.        ]]\n"
          ]
        }
      ]
    }
  ]
}