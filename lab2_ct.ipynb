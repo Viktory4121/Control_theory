{
  "nbformat": 4,
  "nbformat_minor": 0,
  "metadata": {
    "colab": {
      "name": "lab2_ct.ipynb",
      "provenance": [],
      "authorship_tag": "ABX9TyOoLVuYv8vztc4FiLyXl2hK",
      "include_colab_link": true
    },
    "kernelspec": {
      "name": "python3",
      "display_name": "Python 3"
    },
    "language_info": {
      "name": "python"
    }
  },
  "cells": [
    {
      "cell_type": "markdown",
      "metadata": {
        "id": "view-in-github",
        "colab_type": "text"
      },
      "source": [
        "<a href=\"https://colab.research.google.com/github/Viktory4121/Control_theory/blob/main/lab2_ct.ipynb\" target=\"_parent\"><img src=\"https://colab.research.google.com/assets/colab-badge.svg\" alt=\"Open In Colab\"/></a>"
      ]
    },
    {
      "cell_type": "code",
      "execution_count": 1,
      "metadata": {
        "id": "JdKMmxDLpnqc"
      },
      "outputs": [],
      "source": [
        "import pandas as pd\n",
        "import numpy as np"
      ]
    },
    {
      "cell_type": "markdown",
      "source": [
        "#2.11"
      ],
      "metadata": {
        "id": "shacY_3Mssm7"
      }
    },
    {
      "cell_type": "code",
      "source": [
        "#Матрица собственных чисел:\n",
        "print('lambda = ')\n",
        "lambda_matrix = np.matrix([[28, 0, 0, 0], [0, -2, 0, 0], [0, 0, 1, 0], [0, 0, 0, 11]])\n",
        "print(lambda_matrix)\n",
        "#обратимая матрица\n",
        "L = np.matrix([[2,1,0,0],[3,2,0,0],[1,1,3,4],[2,-1,2,3]])\n",
        "print('L = ')\n",
        "print(L)\n",
        "#также даны:\n",
        "B = np.matrix([[1, -2, 43], [0, 5, -9],[7, -9, 11],[0, 2, 8]])\n",
        "C = np.matrix([[-8, -4, 51, 31], [1, 0, 71, 5]])\n",
        "print('B = ')\n",
        "print(B)\n",
        "print('C = ')\n",
        "print(C)"
      ],
      "metadata": {
        "colab": {
          "base_uri": "https://localhost:8080/"
        },
        "id": "i5LnMEDNpoua",
        "outputId": "d58c0397-201f-469f-a8ec-3b69b806fb8c"
      },
      "execution_count": 2,
      "outputs": [
        {
          "output_type": "stream",
          "name": "stdout",
          "text": [
            "lambda = \n",
            "[[28  0  0  0]\n",
            " [ 0 -2  0  0]\n",
            " [ 0  0  1  0]\n",
            " [ 0  0  0 11]]\n",
            "L = \n",
            "[[ 2  1  0  0]\n",
            " [ 3  2  0  0]\n",
            " [ 1  1  3  4]\n",
            " [ 2 -1  2  3]]\n",
            "B = \n",
            "[[ 1 -2 43]\n",
            " [ 0  5 -9]\n",
            " [ 7 -9 11]\n",
            " [ 0  2  8]]\n",
            "C = \n",
            "[[-8 -4 51 31]\n",
            " [ 1  0 71  5]]\n"
          ]
        }
      ]
    },
    {
      "cell_type": "code",
      "source": [
        "print('det(L) = ' + str(np.linalg.det(L)))"
      ],
      "metadata": {
        "colab": {
          "base_uri": "https://localhost:8080/"
        },
        "id": "KOGPfFMssUiI",
        "outputId": "16568067-875a-4ec8-fcc9-eac05edc51f3"
      },
      "execution_count": 3,
      "outputs": [
        {
          "output_type": "stream",
          "name": "stdout",
          "text": [
            "det(L) = 0.9999999999999991\n"
          ]
        }
      ]
    },
    {
      "cell_type": "code",
      "source": [
        "#обратная матрица от обратимой\n",
        "L_ = np.linalg.inv(L)\n",
        "print('L_обр = ')\n",
        "print(L_)"
      ],
      "metadata": {
        "colab": {
          "base_uri": "https://localhost:8080/"
        },
        "id": "rQlWD4nUsXgZ",
        "outputId": "712c7449-aa3b-4294-a574-9fe3f1b9cd26"
      },
      "execution_count": 4,
      "outputs": [
        {
          "output_type": "stream",
          "name": "stdout",
          "text": [
            "L_обр = \n",
            "[[  2.  -1.   0.   0.]\n",
            " [ -3.   2.  -0.  -0.]\n",
            " [ 31. -19.   3.  -4.]\n",
            " [-23.  14.  -2.   3.]]\n"
          ]
        }
      ]
    },
    {
      "cell_type": "code",
      "source": [
        "print(\"L * L_обр = \")\n",
        "print(pd.DataFrame(np.round(L.dot(L_))))"
      ],
      "metadata": {
        "colab": {
          "base_uri": "https://localhost:8080/"
        },
        "id": "5xRVlCZ0sflf",
        "outputId": "2bdeba27-d2aa-4ec8-8217-da84eb8b545e"
      },
      "execution_count": 5,
      "outputs": [
        {
          "output_type": "stream",
          "name": "stdout",
          "text": [
            "L * L_обр = \n",
            "     0    1    2    3\n",
            "0  1.0  0.0  0.0  0.0\n",
            "1  0.0  1.0  0.0  0.0\n",
            "2  0.0 -0.0  1.0  0.0\n",
            "3  0.0  0.0 -0.0  1.0\n"
          ]
        }
      ]
    },
    {
      "cell_type": "code",
      "source": [
        "#исходная матрица\n",
        "A = L.dot(lambda_matrix).dot(L_)\n",
        "print('A = ')\n",
        "print(np.round(A))"
      ],
      "metadata": {
        "colab": {
          "base_uri": "https://localhost:8080/"
        },
        "id": "AvjzVNs6sjro",
        "outputId": "8e61dc72-5198-4e96-b25c-acc8c4c9e2d4"
      },
      "execution_count": 6,
      "outputs": [
        {
          "output_type": "stream",
          "name": "stdout",
          "text": [
            "A = \n",
            "[[ 118.  -60.    0.    0.]\n",
            " [ 180.  -92.    0.    0.]\n",
            " [-857.  527.  -79.  120.]\n",
            " [-591.  372.  -60.   91.]]\n"
          ]
        }
      ]
    },
    {
      "cell_type": "markdown",
      "source": [
        "#2.12"
      ],
      "metadata": {
        "id": "3oYvR7GcsxXI"
      }
    },
    {
      "cell_type": "code",
      "source": [
        "#дополнительные вычисления для составления матрицы управляемости\n",
        "\n",
        "AB = np.round(A.dot(B))\n",
        "print(\"A * B = \")\n",
        "print(AB)\n",
        "print(\"\\n\")\n",
        "\n",
        "AAB = np.round(A.dot(A).dot(B))\n",
        "print(\"A * A * B = \")\n",
        "print(AAB)\n",
        "print(\"\\n\")\n",
        "\n",
        "AAAB = np.round(A.dot(A).dot(A).dot(B))\n",
        "print(\"A * A * A * B = \")\n",
        "print(AAAB)"
      ],
      "metadata": {
        "colab": {
          "base_uri": "https://localhost:8080/"
        },
        "id": "F42-7o-2sm-L",
        "outputId": "bcab13aa-8a4d-4979-c11c-00f6a2365827"
      },
      "execution_count": 7,
      "outputs": [
        {
          "output_type": "stream",
          "name": "stdout",
          "text": [
            "A * B = \n",
            "[[   118.   -536.   5614.]\n",
            " [   180.   -820.   8568.]\n",
            " [ -1410.   5300. -41503.]\n",
            " [ -1011.   3764. -28693.]]\n",
            "\n",
            "\n",
            "A * A * B = \n",
            "[[   3124.  -14048.  148372.]\n",
            " [   4680.  -21040.  222264.]\n",
            " [ -16196.   60192. -460285.]\n",
            " [ -10179.   36260. -251461.]]\n",
            "\n",
            "\n",
            "A * A * A * B = \n",
            "[[   87832.  -395264.  4172056.]\n",
            " [  131760.  -592960.  6258672.]\n",
            " [ -152904.   547088. -3834481.]\n",
            " [  -59853.   163628.  -271495.]]\n"
          ]
        }
      ]
    },
    {
      "cell_type": "code",
      "source": [
        "# Сброс ограничений на количество выводимых рядов\n",
        "pd.set_option('display.max_rows', None)\n",
        "# Сброс ограничений на число столбцов\n",
        "pd.set_option('display.max_columns', None)\n",
        "# Сброс ограничений на количество символов в записи\n",
        "pd.set_option('display.max_colwidth', None)"
      ],
      "metadata": {
        "id": "UznyqPRAz9FN"
      },
      "execution_count": 8,
      "outputs": []
    },
    {
      "cell_type": "code",
      "source": [
        "#матрица управляемости\n",
        "beta = np.concatenate((np.round(B), np.round(AB), np.round(AAB), np.round(AAAB)), axis=1)\n",
        "print(\"{A,B} = \")\n",
        "print(pd.DataFrame(beta))\n",
        "\n",
        "rang_beta = np.linalg.matrix_rank(beta)\n",
        "print(\"\\nРанг матрицы управляемости rg {A,B} = \" + str(rang_beta))"
      ],
      "metadata": {
        "colab": {
          "base_uri": "https://localhost:8080/"
        },
        "id": "uqh2F_VRxNIa",
        "outputId": "2bb0d3ec-cbd7-4dd9-8fb8-08fcdd43e7f4"
      },
      "execution_count": 9,
      "outputs": [
        {
          "output_type": "stream",
          "name": "stdout",
          "text": [
            "{A,B} = \n",
            "    0    1     2       3       4        5        6        7         8   \\\n",
            "0  1.0 -2.0  43.0   118.0  -536.0   5614.0   3124.0 -14048.0  148372.0   \n",
            "1  0.0  5.0  -9.0   180.0  -820.0   8568.0   4680.0 -21040.0  222264.0   \n",
            "2  7.0 -9.0  11.0 -1410.0  5300.0 -41503.0 -16196.0  60192.0 -460285.0   \n",
            "3  0.0  2.0   8.0 -1011.0  3764.0 -28693.0 -10179.0  36260.0 -251461.0   \n",
            "\n",
            "         9         10         11  \n",
            "0   87832.0 -395264.0  4172056.0  \n",
            "1  131760.0 -592960.0  6258672.0  \n",
            "2 -152904.0  547088.0 -3834481.0  \n",
            "3  -59853.0  163628.0  -271495.0  \n",
            "\n",
            "Ранг матрицы управляемости rg {A,B} = 4\n"
          ]
        }
      ]
    },
    {
      "cell_type": "code",
      "source": [
        "#проверка для 2.15\n",
        "print(\"B_1 = \")\n",
        "print(B[:,0])\n",
        "print('\\n')\n",
        "\n",
        "print('A * B_1 = ')\n",
        "AB1 = A.dot(B[:,0])\n",
        "print(AB1)\n",
        "print('\\n')\n",
        "\n",
        "AAB1 = A.dot(A).dot(B[:,0])\n",
        "print('A * A * B_1 = ')\n",
        "print(AAB1)\n",
        "print('\\n')\n",
        "\n",
        "print('A * A * A * B_1 = ')\n",
        "AAAB1 = A.dot(A).dot(A).dot(B[:,0])\n",
        "print(AAAB1)"
      ],
      "metadata": {
        "colab": {
          "base_uri": "https://localhost:8080/"
        },
        "id": "5DAw_xg-x8cZ",
        "outputId": "efc0b3e9-5137-45bc-b775-f58ab63ed6fc"
      },
      "execution_count": 10,
      "outputs": [
        {
          "output_type": "stream",
          "name": "stdout",
          "text": [
            "B_1 = \n",
            "[[1]\n",
            " [0]\n",
            " [7]\n",
            " [0]]\n",
            "\n",
            "\n",
            "A * B_1 = \n",
            "[[  118.]\n",
            " [  180.]\n",
            " [-1410.]\n",
            " [-1011.]]\n",
            "\n",
            "\n",
            "A * A * B_1 = \n",
            "[[  3124.]\n",
            " [  4680.]\n",
            " [-16196.]\n",
            " [-10179.]]\n",
            "\n",
            "\n",
            "A * A * A * B_1 = \n",
            "[[  87832.]\n",
            " [ 131760.]\n",
            " [-152904.]\n",
            " [ -59853.]]\n"
          ]
        }
      ]
    },
    {
      "cell_type": "code",
      "source": [
        "beta1 = np.concatenate((B[:,0], AB1, AAB1, AAAB1), axis=1)\n",
        "print('{A, B_1} = ')\n",
        "print(pd.DataFrame(beta1))\n",
        "rang_beta1 = np.linalg.matrix_rank(beta1)\n",
        "print(\"\\nРанг матрицы управляемости rg {A,B_1} = \" + str(rang_beta1))"
      ],
      "metadata": {
        "colab": {
          "base_uri": "https://localhost:8080/"
        },
        "id": "-0-zpHX00a87",
        "outputId": "2cd18251-7678-4cb0-ec90-e32469bc265e"
      },
      "execution_count": 11,
      "outputs": [
        {
          "output_type": "stream",
          "name": "stdout",
          "text": [
            "{A, B_1} = \n",
            "     0       1        2         3\n",
            "0  1.0   118.0   3124.0   87832.0\n",
            "1  0.0   180.0   4680.0  131760.0\n",
            "2  7.0 -1410.0 -16196.0 -152904.0\n",
            "3  0.0 -1011.0 -10179.0  -59853.0\n",
            "\n",
            "Ранг матрицы управляемости rg {A,B_1} = 4\n"
          ]
        }
      ]
    },
    {
      "cell_type": "code",
      "source": [
        "def Fadeev(A_T_A, F, mu, A_T):\n",
        "    I = np.diag(np.diag(np.ones([3,3])))\n",
        "    i = 2\n",
        "    while mu != 0.0:\n",
        "        if sum(np.diag(A_T_A.dot(mu*I - A_T_A.dot(F))))/float(i) == 0.0:\n",
        "            _mu = mu\n",
        "            _F = F\n",
        "        F = mu*I - A_T_A.dot(F)\n",
        "        mu = sum(np.diag(A_T_A.dot(F)))/float(i)\n",
        "        \n",
        "        print(\"\\nШаг\", i-1)\n",
        "        print(\"F:\\n\", F)\n",
        "        print(\"\\nA_T_A * F:\\n\", A_T_A.dot(F))\n",
        "        print(\"mu\\n\", mu)\n",
        "        print(\"\\n\")\n",
        "        \n",
        "        i+=1\n",
        "        \n",
        "    return(_F.dot(A_T), _mu)"
      ],
      "metadata": {
        "id": "Nro3KjgV3Yxv"
      },
      "execution_count": 33,
      "outputs": []
    },
    {
      "cell_type": "code",
      "source": [
        "B_T = B.transpose()\n",
        "B_T_B = B_T.dot(B) #перемножены транспонированная матрица и обычная\n",
        "F = np.diag(np.diag(np.ones([3,3]))) #единичная матрица\n",
        "mu = sum(np.diag(B_T_B)) #это фи1 (сумма значений матрицы B_T_B по диагонали)\n",
        "print(\"B =\\n\", B)\n",
        "print(\"B^T * B =\\n\", B_T_B)\n",
        "print(\"mu_0 =\\n\", mu)\n",
        "print(\"F_0 =\\n\", F)\n",
        "\n",
        "B_, coef_ = Fadeev(B_T_B, F, mu, B_T)\n",
        "print(\"1/\" + str(coef_) + \" * B_обр:\\n\" + str(B_))"
      ],
      "metadata": {
        "colab": {
          "base_uri": "https://localhost:8080/"
        },
        "id": "Moel2ka-0gt3",
        "outputId": "376d1624-74bb-4ff2-e2c6-da5da980844c"
      },
      "execution_count": 34,
      "outputs": [
        {
          "output_type": "stream",
          "name": "stdout",
          "text": [
            "B =\n",
            " [[ 1 -2 43]\n",
            " [ 0  5 -9]\n",
            " [ 7 -9 11]\n",
            " [ 0  2  8]]\n",
            "B^T * B =\n",
            " [[  50  -65  120]\n",
            " [ -65  114 -214]\n",
            " [ 120 -214 2115]]\n",
            "mu_0 =\n",
            " 2279\n",
            "F_0 =\n",
            " [[1. 0. 0.]\n",
            " [0. 1. 0.]\n",
            " [0. 0. 1.]]\n",
            "\n",
            "Шаг 1\n",
            "F:\n",
            " [[2229.   65. -120.]\n",
            " [  65. 2165.  214.]\n",
            " [-120.  214.  164.]]\n",
            "\n",
            "A_T_A * F:\n",
            " [[ 9.28250e+04 -1.11795e+05 -2.30000e+02]\n",
            " [-1.11795e+05  1.96789e+05 -2.90000e+03]\n",
            " [-2.30000e+02 -2.90000e+03  2.86664e+05]]\n",
            "mu\n",
            " 288139.0\n",
            "\n",
            "\n",
            "\n",
            "Шаг 2\n",
            "F:\n",
            " [[195314. 111795.    230.]\n",
            " [111795.  91350.   2900.]\n",
            " [   230.   2900.   1475.]]\n",
            "\n",
            "A_T_A * F:\n",
            " [[2526625.       0.       0.]\n",
            " [      0. 2526625.       0.]\n",
            " [      0.       0. 2526625.]]\n",
            "mu\n",
            " 2526625.0\n",
            "\n",
            "\n",
            "\n",
            "Шаг 3\n",
            "F:\n",
            " [[0. 0. 0.]\n",
            " [0. 0. 0.]\n",
            " [0. 0. 0.]]\n",
            "\n",
            "A_T_A * F:\n",
            " [[0. 0. 0.]\n",
            " [0. 0. 0.]\n",
            " [0. 0. 0.]]\n",
            "mu\n",
            " 0.0\n",
            "\n",
            "\n",
            "1/2526625.0 * B_обр:\n",
            "[[-18386. 556905. 363573. 225430.]\n",
            " [ 53795. 430650.  -7685. 205900.]\n",
            " [ 57855.   1225.  -8265.  17600.]]\n"
          ]
        }
      ]
    },
    {
      "cell_type": "code",
      "source": [
        "print(\"По свойству псевдообратной матрицы, где В*B_обр*В=B,\\n = \\nВ * B_обр * В =\")\n",
        "print(np.round(B.dot(B_/coef_).dot(B)))\n",
        "\n",
        "print(\"B = \\n\", B)"
      ],
      "metadata": {
        "colab": {
          "base_uri": "https://localhost:8080/"
        },
        "id": "DTHykkWD4fhc",
        "outputId": "64c202fd-ccdc-47a0-e770-d4f99944d860"
      },
      "execution_count": 37,
      "outputs": [
        {
          "output_type": "stream",
          "name": "stdout",
          "text": [
            "По свойству псевдообратной матрицы, где В*B_обр*В=B,\n",
            " = \n",
            "В * B_обр * В =\n",
            "[[ 1. -2. 43.]\n",
            " [-0.  5. -9.]\n",
            " [ 7. -9. 11.]\n",
            " [ 0.  2.  8.]]\n",
            "B = \n",
            " [[ 1 -2 43]\n",
            " [ 0  5 -9]\n",
            " [ 7 -9 11]\n",
            " [ 0  2  8]]\n"
          ]
        }
      ]
    },
    {
      "cell_type": "code",
      "source": [
        "print(\"B * B_обр = 1/\" + str(coef_) + \"\\n\" + str(B.dot(B_)))\n",
        "BB_ = B.dot(B_/coef_)"
      ],
      "metadata": {
        "id": "ZvCTcrb652Bu",
        "colab": {
          "base_uri": "https://localhost:8080/"
        },
        "outputId": "8adb9f6f-86e5-4279-9efb-66a25cf8c67b"
      },
      "execution_count": 44,
      "outputs": [
        {
          "output_type": "stream",
          "name": "stdout",
          "text": [
            "B * B_обр = 1/2526625.0\n",
            "[[2361789. -251720.   23548.  570430.]\n",
            " [-251720. 2142225.   35960.  871100.]\n",
            " [  23548.   35960. 2523261.  -81490.]\n",
            " [ 570430.  871100.  -81490.  552600.]]\n"
          ]
        }
      ]
    },
    {
      "cell_type": "code",
      "source": [
        ""
      ],
      "metadata": {
        "id": "UNDBRN6pdsg-"
      },
      "execution_count": null,
      "outputs": []
    }
  ]
}