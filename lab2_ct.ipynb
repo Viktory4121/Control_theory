{
  "nbformat": 4,
  "nbformat_minor": 0,
  "metadata": {
    "colab": {
      "name": "lab2_ct.ipynb",
      "provenance": [],
      "authorship_tag": "ABX9TyPRih1JeCbaCa9r95whBgIH",
      "include_colab_link": true
    },
    "kernelspec": {
      "name": "python3",
      "display_name": "Python 3"
    },
    "language_info": {
      "name": "python"
    }
  },
  "cells": [
    {
      "cell_type": "markdown",
      "metadata": {
        "id": "view-in-github",
        "colab_type": "text"
      },
      "source": [
        "<a href=\"https://colab.research.google.com/github/Viktory4121/Control_theory/blob/main/lab2_ct.ipynb\" target=\"_parent\"><img src=\"https://colab.research.google.com/assets/colab-badge.svg\" alt=\"Open In Colab\"/></a>"
      ]
    },
    {
      "cell_type": "code",
      "execution_count": 1,
      "metadata": {
        "id": "JdKMmxDLpnqc"
      },
      "outputs": [],
      "source": [
        "import pandas as pd\n",
        "import numpy as np"
      ]
    },
    {
      "cell_type": "markdown",
      "source": [
        "#2.11"
      ],
      "metadata": {
        "id": "shacY_3Mssm7"
      }
    },
    {
      "cell_type": "code",
      "source": [
        "#Матрица собственных чисел:\n",
        "print('lambda = ')\n",
        "lambda_matrix = np.matrix([[28, 0, 0, 0], [0, -2, 0, 0], [0, 0, 1, 0], [0, 0, 0, 11]])\n",
        "print(lambda_matrix)\n",
        "#обратимая матрица\n",
        "L = np.matrix([[2,1,0,0],[3,2,0,0],[1,1,3,4],[2,-1,2,3]])\n",
        "print('L = ')\n",
        "print(L)\n",
        "#также даны:\n",
        "B = np.matrix([[1, -2, 43], [0, 5, -9],[7, -9, 11],[0, 2, 8]])\n",
        "C = np.matrix([[-8, -4, 51, 31], [1, 0, 71, 5]])\n",
        "print('B = ')\n",
        "print(B)\n",
        "print('C = ')\n",
        "print(C)"
      ],
      "metadata": {
        "colab": {
          "base_uri": "https://localhost:8080/"
        },
        "id": "i5LnMEDNpoua",
        "outputId": "a8153c0e-0726-4764-b1e7-fa2a9f0fec85"
      },
      "execution_count": 3,
      "outputs": [
        {
          "output_type": "stream",
          "name": "stdout",
          "text": [
            "lambda = \n",
            "[[28  0  0  0]\n",
            " [ 0 -2  0  0]\n",
            " [ 0  0  1  0]\n",
            " [ 0  0  0 11]]\n",
            "L = \n",
            "[[ 2  1  0  0]\n",
            " [ 3  2  0  0]\n",
            " [ 1  1  3  4]\n",
            " [ 2 -1  2  3]]\n",
            "B = \n",
            "[[ 1 -2 43]\n",
            " [ 0  5 -9]\n",
            " [ 7 -9 11]\n",
            " [ 0  2  8]]\n",
            "C = \n",
            "[[-8 -4 51 31]\n",
            " [ 1  0 71  5]]\n"
          ]
        }
      ]
    },
    {
      "cell_type": "code",
      "source": [
        "print('det(L) = ' + str(np.linalg.det(L)))"
      ],
      "metadata": {
        "colab": {
          "base_uri": "https://localhost:8080/"
        },
        "id": "KOGPfFMssUiI",
        "outputId": "7aa815b8-1e87-4186-ad30-6653bc24576c"
      },
      "execution_count": 6,
      "outputs": [
        {
          "output_type": "stream",
          "name": "stdout",
          "text": [
            "det(L) = 0.9999999999999991\n"
          ]
        }
      ]
    },
    {
      "cell_type": "code",
      "source": [
        "#обратная матрица от обратимой\n",
        "L_ = np.linalg.inv(L)\n",
        "print('L_обр = ')\n",
        "print(L_)"
      ],
      "metadata": {
        "colab": {
          "base_uri": "https://localhost:8080/"
        },
        "id": "rQlWD4nUsXgZ",
        "outputId": "0d25644c-990c-4226-941d-d1400c11426e"
      },
      "execution_count": 7,
      "outputs": [
        {
          "output_type": "stream",
          "name": "stdout",
          "text": [
            "L_обр = \n",
            "[[  2.  -1.   0.   0.]\n",
            " [ -3.   2.  -0.  -0.]\n",
            " [ 31. -19.   3.  -4.]\n",
            " [-23.  14.  -2.   3.]]\n"
          ]
        }
      ]
    },
    {
      "cell_type": "code",
      "source": [
        "print(\"L * L_обр = \")\n",
        "print(pd.DataFrame(np.round(L.dot(L_))))"
      ],
      "metadata": {
        "colab": {
          "base_uri": "https://localhost:8080/"
        },
        "id": "5xRVlCZ0sflf",
        "outputId": "1c918e58-7b77-4f51-ac9c-bc2b5f64c666"
      },
      "execution_count": 8,
      "outputs": [
        {
          "output_type": "stream",
          "name": "stdout",
          "text": [
            "L * L_обр = \n",
            "     0    1    2    3\n",
            "0  1.0  0.0  0.0  0.0\n",
            "1  0.0  1.0  0.0  0.0\n",
            "2  0.0 -0.0  1.0  0.0\n",
            "3  0.0  0.0 -0.0  1.0\n"
          ]
        }
      ]
    },
    {
      "cell_type": "code",
      "source": [
        "#исходная матрица\n",
        "A = L.dot(lambda_matrix).dot(L_)\n",
        "print('A = ')\n",
        "print(np.round(A))"
      ],
      "metadata": {
        "colab": {
          "base_uri": "https://localhost:8080/"
        },
        "id": "AvjzVNs6sjro",
        "outputId": "619b014a-75f5-43ad-835e-929f0809df80"
      },
      "execution_count": 9,
      "outputs": [
        {
          "output_type": "stream",
          "name": "stdout",
          "text": [
            "A = \n",
            "[[ 118.  -60.    0.    0.]\n",
            " [ 180.  -92.    0.    0.]\n",
            " [-857.  527.  -79.  120.]\n",
            " [-591.  372.  -60.   91.]]\n"
          ]
        }
      ]
    },
    {
      "cell_type": "markdown",
      "source": [
        "#2.12"
      ],
      "metadata": {
        "id": "3oYvR7GcsxXI"
      }
    },
    {
      "cell_type": "code",
      "source": [
        "#дополнительные вычисления для составления матрицы управляемости\n",
        "\n",
        "AB = np.round(A.dot(B))\n",
        "print(\"A * B = \")\n",
        "print(AB)\n",
        "print(\"\\n\")\n",
        "\n",
        "AAB = np.round(A.dot(A).dot(B))\n",
        "print(\"A * A * B = \")\n",
        "print(AAB)\n",
        "print(\"\\n\")\n",
        "\n",
        "AAAB = np.round(A.dot(A).dot(A).dot(B))\n",
        "print(\"A * A * A * B = \")\n",
        "print(AAAB)"
      ],
      "metadata": {
        "colab": {
          "base_uri": "https://localhost:8080/"
        },
        "id": "F42-7o-2sm-L",
        "outputId": "4850f050-2067-4760-9ab6-6643a7f82694"
      },
      "execution_count": 11,
      "outputs": [
        {
          "output_type": "stream",
          "name": "stdout",
          "text": [
            "A * B = \n",
            "[[   118.   -536.   5614.]\n",
            " [   180.   -820.   8568.]\n",
            " [ -1410.   5300. -41503.]\n",
            " [ -1011.   3764. -28693.]]\n",
            "\n",
            "\n",
            "A * A * B = \n",
            "[[   3124.  -14048.  148372.]\n",
            " [   4680.  -21040.  222264.]\n",
            " [ -16196.   60192. -460285.]\n",
            " [ -10179.   36260. -251461.]]\n",
            "\n",
            "\n",
            "A * A * A * B = \n",
            "[[   87832.  -395264.  4172056.]\n",
            " [  131760.  -592960.  6258672.]\n",
            " [ -152904.   547088. -3834481.]\n",
            " [  -59853.   163628.  -271495.]]\n"
          ]
        }
      ]
    },
    {
      "cell_type": "code",
      "source": [
        "# Сброс ограничений на количество выводимых рядов\n",
        "pd.set_option('display.max_rows', None)\n",
        "# Сброс ограничений на число столбцов\n",
        "pd.set_option('display.max_columns', None)\n",
        "# Сброс ограничений на количество символов в записи\n",
        "pd.set_option('display.max_colwidth', None)"
      ],
      "metadata": {
        "id": "UznyqPRAz9FN"
      },
      "execution_count": 25,
      "outputs": []
    },
    {
      "cell_type": "code",
      "source": [
        "#матрица управляемости\n",
        "beta = np.concatenate((np.round(B), np.round(AB), np.round(AAB), np.round(AAAB)), axis=1)\n",
        "print(\"{A,B} = \")\n",
        "print(pd.DataFrame(beta))\n",
        "\n",
        "rang_beta = np.linalg.matrix_rank(beta)\n",
        "print(\"\\nРанг матрицы управляемости rg {A,B} = \" + str(rang_beta))"
      ],
      "metadata": {
        "colab": {
          "base_uri": "https://localhost:8080/"
        },
        "id": "uqh2F_VRxNIa",
        "outputId": "dae3a59e-25fd-4b8e-f91f-98a62e54e90b"
      },
      "execution_count": 26,
      "outputs": [
        {
          "output_type": "stream",
          "name": "stdout",
          "text": [
            "{A,B} = \n",
            "    0    1     2       3       4        5        6        7         8   \\\n",
            "0  1.0 -2.0  43.0   118.0  -536.0   5614.0   3124.0 -14048.0  148372.0   \n",
            "1  0.0  5.0  -9.0   180.0  -820.0   8568.0   4680.0 -21040.0  222264.0   \n",
            "2  7.0 -9.0  11.0 -1410.0  5300.0 -41503.0 -16196.0  60192.0 -460285.0   \n",
            "3  0.0  2.0   8.0 -1011.0  3764.0 -28693.0 -10179.0  36260.0 -251461.0   \n",
            "\n",
            "         9         10         11  \n",
            "0   87832.0 -395264.0  4172056.0  \n",
            "1  131760.0 -592960.0  6258672.0  \n",
            "2 -152904.0  547088.0 -3834481.0  \n",
            "3  -59853.0  163628.0  -271495.0  \n",
            "\n",
            "Ранг матрицы управляемости rg {A,B} = 4\n"
          ]
        }
      ]
    },
    {
      "cell_type": "code",
      "source": [
        "#проверка для 2.15\n",
        "print(\"B_1 = \")\n",
        "print(B[:,0])\n",
        "print('\\n')\n",
        "\n",
        "print('A * B_1 = ')\n",
        "AB1 = A.dot(B[:,0])\n",
        "print(AB1)\n",
        "print('\\n')\n",
        "\n",
        "AAB1 = A.dot(A).dot(B[:,0])\n",
        "print('A * A * B_1 = ')\n",
        "print(AAB1)\n",
        "print('\\n')\n",
        "\n",
        "print('A * A * A * B_1 = ')\n",
        "AAAB1 = A.dot(A).dot(A).dot(B[:,0])\n",
        "print(AAAB1)"
      ],
      "metadata": {
        "colab": {
          "base_uri": "https://localhost:8080/"
        },
        "id": "5DAw_xg-x8cZ",
        "outputId": "f970ab80-345c-452c-fbb5-d6b93e934503"
      },
      "execution_count": 27,
      "outputs": [
        {
          "output_type": "stream",
          "name": "stdout",
          "text": [
            "B_1 = \n",
            "[[1]\n",
            " [0]\n",
            " [7]\n",
            " [0]]\n",
            "\n",
            "\n",
            "A * B_1 = \n",
            "[[  118.]\n",
            " [  180.]\n",
            " [-1410.]\n",
            " [-1011.]]\n",
            "\n",
            "\n",
            "A * A * B_1 = \n",
            "[[  3124.]\n",
            " [  4680.]\n",
            " [-16196.]\n",
            " [-10179.]]\n",
            "\n",
            "\n",
            "A * A * A * B_1 = \n",
            "[[  87832.]\n",
            " [ 131760.]\n",
            " [-152904.]\n",
            " [ -59853.]]\n"
          ]
        }
      ]
    },
    {
      "cell_type": "code",
      "source": [
        "beta1 = np.concatenate((B[:,0], AB1, AAB1, AAAB1), axis=1)\n",
        "print('{A, B_1} = ')\n",
        "print(pd.DataFrame(beta1))\n",
        "rang_beta1 = np.linalg.matrix_rank(beta1)\n",
        "print(\"\\nРанг матрицы управляемости rg {A,B_1} = \" + str(rang_beta1))"
      ],
      "metadata": {
        "colab": {
          "base_uri": "https://localhost:8080/"
        },
        "id": "-0-zpHX00a87",
        "outputId": "acad0829-92c1-4662-f5c3-9fa9971b3756"
      },
      "execution_count": 28,
      "outputs": [
        {
          "output_type": "stream",
          "name": "stdout",
          "text": [
            "{A, B_1} = \n",
            "     0       1        2         3\n",
            "0  1.0   118.0   3124.0   87832.0\n",
            "1  0.0   180.0   4680.0  131760.0\n",
            "2  7.0 -1410.0 -16196.0 -152904.0\n",
            "3  0.0 -1011.0 -10179.0  -59853.0\n",
            "\n",
            "Ранг матрицы управляемости rg {A,B_1} = 4\n"
          ]
        }
      ]
    },
    {
      "cell_type": "code",
      "source": [
        ""
      ],
      "metadata": {
        "id": "Moel2ka-0gt3"
      },
      "execution_count": null,
      "outputs": []
    }
  ]
}