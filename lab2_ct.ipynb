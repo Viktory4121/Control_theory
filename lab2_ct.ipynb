{
  "nbformat": 4,
  "nbformat_minor": 0,
  "metadata": {
    "colab": {
      "name": "lab2_ct.ipynb",
      "provenance": [],
      "authorship_tag": "ABX9TyNcd2ywVWktkG4hyFKErbar",
      "include_colab_link": true
    },
    "kernelspec": {
      "name": "python3",
      "display_name": "Python 3"
    },
    "language_info": {
      "name": "python"
    }
  },
  "cells": [
    {
      "cell_type": "markdown",
      "metadata": {
        "id": "view-in-github",
        "colab_type": "text"
      },
      "source": [
        "<a href=\"https://colab.research.google.com/github/Viktory4121/Control_theory/blob/main/lab2_ct.ipynb\" target=\"_parent\"><img src=\"https://colab.research.google.com/assets/colab-badge.svg\" alt=\"Open In Colab\"/></a>"
      ]
    },
    {
      "cell_type": "code",
      "execution_count": 1,
      "metadata": {
        "id": "JdKMmxDLpnqc"
      },
      "outputs": [],
      "source": [
        "import pandas as pd\n",
        "import numpy as np"
      ]
    },
    {
      "cell_type": "markdown",
      "source": [
        "#2.11"
      ],
      "metadata": {
        "id": "shacY_3Mssm7"
      }
    },
    {
      "cell_type": "code",
      "source": [
        "#Матрица собственных чисел:\n",
        "print('lambda = ')\n",
        "lambda_matrix = np.matrix([[28, 0, 0, 0], [0, -2, 0, 0], [0, 0, 1, 0], [0, 0, 0, 11]])\n",
        "print(lambda_matrix)\n",
        "#обратимая матрица\n",
        "L = np.matrix([[2,1,0,0],[3,2,0,0],[1,1,3,4],[2,-1,2,3]])\n",
        "print('L = ')\n",
        "print(L)\n",
        "#также даны:\n",
        "B = np.matrix([[1, -2, 43], [0, 5, -9],[7, -9, 11],[0, 2, 8]])\n",
        "C = np.matrix([[-8, -4, 51, 31], [1, 0, 71, 5]])\n",
        "print('B = ')\n",
        "print(B)\n",
        "print('C = ')\n",
        "print(C)"
      ],
      "metadata": {
        "colab": {
          "base_uri": "https://localhost:8080/"
        },
        "id": "i5LnMEDNpoua",
        "outputId": "fe007f01-f2a8-4df5-b625-6e3a634e447c"
      },
      "execution_count": 2,
      "outputs": [
        {
          "output_type": "stream",
          "name": "stdout",
          "text": [
            "lambda = \n",
            "[[28  0  0  0]\n",
            " [ 0 -2  0  0]\n",
            " [ 0  0  1  0]\n",
            " [ 0  0  0 11]]\n",
            "L = \n",
            "[[ 2  1  0  0]\n",
            " [ 3  2  0  0]\n",
            " [ 1  1  3  4]\n",
            " [ 2 -1  2  3]]\n",
            "B = \n",
            "[[ 1 -2 43]\n",
            " [ 0  5 -9]\n",
            " [ 7 -9 11]\n",
            " [ 0  2  8]]\n",
            "C = \n",
            "[[-8 -4 51 31]\n",
            " [ 1  0 71  5]]\n"
          ]
        }
      ]
    },
    {
      "cell_type": "code",
      "source": [
        "print('det(L) = ' + str(np.linalg.det(L)))"
      ],
      "metadata": {
        "colab": {
          "base_uri": "https://localhost:8080/"
        },
        "id": "KOGPfFMssUiI",
        "outputId": "d7126680-d1b1-4ede-dada-c3303c72f931"
      },
      "execution_count": 3,
      "outputs": [
        {
          "output_type": "stream",
          "name": "stdout",
          "text": [
            "det(L) = 0.9999999999999991\n"
          ]
        }
      ]
    },
    {
      "cell_type": "code",
      "source": [
        "#обратная матрица от обратимой\n",
        "L_ = np.linalg.inv(L)\n",
        "print('L_обр = ')\n",
        "print(L_)"
      ],
      "metadata": {
        "colab": {
          "base_uri": "https://localhost:8080/"
        },
        "id": "rQlWD4nUsXgZ",
        "outputId": "a6557295-67f1-4e85-a5df-8d8e5aabfa0d"
      },
      "execution_count": 4,
      "outputs": [
        {
          "output_type": "stream",
          "name": "stdout",
          "text": [
            "L_обр = \n",
            "[[  2.  -1.   0.   0.]\n",
            " [ -3.   2.  -0.  -0.]\n",
            " [ 31. -19.   3.  -4.]\n",
            " [-23.  14.  -2.   3.]]\n"
          ]
        }
      ]
    },
    {
      "cell_type": "code",
      "source": [
        "print(\"L * L_обр = \")\n",
        "print(pd.DataFrame(np.round(L.dot(L_))))"
      ],
      "metadata": {
        "colab": {
          "base_uri": "https://localhost:8080/"
        },
        "id": "5xRVlCZ0sflf",
        "outputId": "97d84e20-ee39-4931-9ee6-1577af3c53ea"
      },
      "execution_count": 5,
      "outputs": [
        {
          "output_type": "stream",
          "name": "stdout",
          "text": [
            "L * L_обр = \n",
            "     0    1    2    3\n",
            "0  1.0  0.0  0.0  0.0\n",
            "1  0.0  1.0  0.0  0.0\n",
            "2  0.0 -0.0  1.0  0.0\n",
            "3  0.0  0.0 -0.0  1.0\n"
          ]
        }
      ]
    },
    {
      "cell_type": "code",
      "source": [
        "#исходная матрица\n",
        "A = L.dot(lambda_matrix).dot(L_)\n",
        "print('A = ')\n",
        "print(np.round(A))"
      ],
      "metadata": {
        "colab": {
          "base_uri": "https://localhost:8080/"
        },
        "id": "AvjzVNs6sjro",
        "outputId": "b1b4d7be-c491-4aa4-8c5e-a555a97ee548"
      },
      "execution_count": 6,
      "outputs": [
        {
          "output_type": "stream",
          "name": "stdout",
          "text": [
            "A = \n",
            "[[ 118.  -60.    0.    0.]\n",
            " [ 180.  -92.    0.    0.]\n",
            " [-857.  527.  -79.  120.]\n",
            " [-591.  372.  -60.   91.]]\n"
          ]
        }
      ]
    },
    {
      "cell_type": "markdown",
      "source": [
        "#2.12"
      ],
      "metadata": {
        "id": "3oYvR7GcsxXI"
      }
    },
    {
      "cell_type": "code",
      "source": [
        "#дополнительные вычисления для составления матрицы управляемости\n",
        "\n",
        "AB = np.round(A.dot(B))\n",
        "print(\"A * B = \")\n",
        "print(AB)\n",
        "print(\"\\n\")\n",
        "\n",
        "AAB = np.round(A.dot(A).dot(B))\n",
        "print(\"A * A * B = \")\n",
        "print(AAB)\n",
        "print(\"\\n\")\n",
        "\n",
        "AAAB = np.round(A.dot(A).dot(A).dot(B))\n",
        "print(\"A * A * A * B = \")\n",
        "print(AAAB)"
      ],
      "metadata": {
        "colab": {
          "base_uri": "https://localhost:8080/"
        },
        "id": "F42-7o-2sm-L",
        "outputId": "65eaa8d3-1780-48a0-e960-66f9dae98ff8"
      },
      "execution_count": 7,
      "outputs": [
        {
          "output_type": "stream",
          "name": "stdout",
          "text": [
            "A * B = \n",
            "[[   118.   -536.   5614.]\n",
            " [   180.   -820.   8568.]\n",
            " [ -1410.   5300. -41503.]\n",
            " [ -1011.   3764. -28693.]]\n",
            "\n",
            "\n",
            "A * A * B = \n",
            "[[   3124.  -14048.  148372.]\n",
            " [   4680.  -21040.  222264.]\n",
            " [ -16196.   60192. -460285.]\n",
            " [ -10179.   36260. -251461.]]\n",
            "\n",
            "\n",
            "A * A * A * B = \n",
            "[[   87832.  -395264.  4172056.]\n",
            " [  131760.  -592960.  6258672.]\n",
            " [ -152904.   547088. -3834481.]\n",
            " [  -59853.   163628.  -271495.]]\n"
          ]
        }
      ]
    },
    {
      "cell_type": "code",
      "source": [
        "# Сброс ограничений на количество выводимых рядов\n",
        "pd.set_option('display.max_rows', None)\n",
        "# Сброс ограничений на число столбцов\n",
        "pd.set_option('display.max_columns', None)\n",
        "# Сброс ограничений на количество символов в записи\n",
        "pd.set_option('display.max_colwidth', None)"
      ],
      "metadata": {
        "id": "UznyqPRAz9FN"
      },
      "execution_count": null,
      "outputs": []
    },
    {
      "cell_type": "code",
      "source": [
        "#матрица управляемости\n",
        "beta = np.concatenate((np.round(B), np.round(AB), np.round(AAB), np.round(AAAB)), axis=1)\n",
        "print(\"{A,B} = \")\n",
        "print(pd.DataFrame(beta))\n",
        "\n",
        "rang_beta = np.linalg.matrix_rank(beta)\n",
        "print(\"\\nРанг матрицы управляемости rg {A,B} = \" + str(rang_beta))"
      ],
      "metadata": {
        "colab": {
          "base_uri": "https://localhost:8080/"
        },
        "id": "uqh2F_VRxNIa",
        "outputId": "c0bae690-873e-4c60-ccb3-9cf7eef3854d"
      },
      "execution_count": 8,
      "outputs": [
        {
          "output_type": "stream",
          "name": "stdout",
          "text": [
            "{A,B} = \n",
            "    0    1     2       3       4        5        6        7         8   \\\n",
            "0  1.0 -2.0  43.0   118.0  -536.0   5614.0   3124.0 -14048.0  148372.0   \n",
            "1  0.0  5.0  -9.0   180.0  -820.0   8568.0   4680.0 -21040.0  222264.0   \n",
            "2  7.0 -9.0  11.0 -1410.0  5300.0 -41503.0 -16196.0  60192.0 -460285.0   \n",
            "3  0.0  2.0   8.0 -1011.0  3764.0 -28693.0 -10179.0  36260.0 -251461.0   \n",
            "\n",
            "         9         10         11  \n",
            "0   87832.0 -395264.0  4172056.0  \n",
            "1  131760.0 -592960.0  6258672.0  \n",
            "2 -152904.0  547088.0 -3834481.0  \n",
            "3  -59853.0  163628.0  -271495.0  \n",
            "\n",
            "Ранг матрицы управляемости rg {A,B} = 4\n"
          ]
        }
      ]
    },
    {
      "cell_type": "code",
      "source": [
        "#проверка для 2.15\n",
        "print(\"B_1 = \")\n",
        "print(B[:,0])\n",
        "print('\\n')\n",
        "\n",
        "print('A * B_1 = ')\n",
        "AB1 = A.dot(B[:,0])\n",
        "print(AB1)\n",
        "print('\\n')\n",
        "\n",
        "AAB1 = A.dot(A).dot(B[:,0])\n",
        "print('A * A * B_1 = ')\n",
        "print(AAB1)\n",
        "print('\\n')\n",
        "\n",
        "print('A * A * A * B_1 = ')\n",
        "AAAB1 = A.dot(A).dot(A).dot(B[:,0])\n",
        "print(AAAB1)"
      ],
      "metadata": {
        "colab": {
          "base_uri": "https://localhost:8080/"
        },
        "id": "5DAw_xg-x8cZ",
        "outputId": "bb8324fa-1d90-45a8-d25b-cbfa46a4283d"
      },
      "execution_count": 9,
      "outputs": [
        {
          "output_type": "stream",
          "name": "stdout",
          "text": [
            "B_1 = \n",
            "[[1]\n",
            " [0]\n",
            " [7]\n",
            " [0]]\n",
            "\n",
            "\n",
            "A * B_1 = \n",
            "[[  118.]\n",
            " [  180.]\n",
            " [-1410.]\n",
            " [-1011.]]\n",
            "\n",
            "\n",
            "A * A * B_1 = \n",
            "[[  3124.]\n",
            " [  4680.]\n",
            " [-16196.]\n",
            " [-10179.]]\n",
            "\n",
            "\n",
            "A * A * A * B_1 = \n",
            "[[  87832.]\n",
            " [ 131760.]\n",
            " [-152904.]\n",
            " [ -59853.]]\n"
          ]
        }
      ]
    },
    {
      "cell_type": "code",
      "source": [
        "beta1 = np.concatenate((B[:,0], AB1, AAB1, AAAB1), axis=1)\n",
        "print('{A, B_1} = ')\n",
        "print(pd.DataFrame(beta1))\n",
        "rang_beta1 = np.linalg.matrix_rank(beta1)\n",
        "print(\"\\nРанг матрицы управляемости rg {A,B_1} = \" + str(rang_beta1))"
      ],
      "metadata": {
        "colab": {
          "base_uri": "https://localhost:8080/"
        },
        "id": "-0-zpHX00a87",
        "outputId": "7855d662-2805-4b18-be94-a22a94444f8f"
      },
      "execution_count": 10,
      "outputs": [
        {
          "output_type": "stream",
          "name": "stdout",
          "text": [
            "{A, B_1} = \n",
            "     0       1        2         3\n",
            "0  1.0   118.0   3124.0   87832.0\n",
            "1  0.0   180.0   4680.0  131760.0\n",
            "2  7.0 -1410.0 -16196.0 -152904.0\n",
            "3  0.0 -1011.0 -10179.0  -59853.0\n",
            "\n",
            "Ранг матрицы управляемости rg {A,B_1} = 4\n"
          ]
        }
      ]
    },
    {
      "cell_type": "markdown",
      "source": [
        "##2.12.2"
      ],
      "metadata": {
        "id": "q34-xC9-d9B5"
      }
    },
    {
      "cell_type": "code",
      "source": [
        "def Fadeev(A_T_A, F, mu, A_T):\n",
        "    I = np.diag(np.diag(np.ones([3,3])))\n",
        "    i = 2\n",
        "    while mu != 0.0:\n",
        "        if sum(np.diag(A_T_A.dot(mu*I - A_T_A.dot(F))))/float(i) == 0.0:\n",
        "            _mu = mu\n",
        "            _F = F\n",
        "        F = mu*I - A_T_A.dot(F)\n",
        "        mu = sum(np.diag(A_T_A.dot(F)))/float(i)\n",
        "        \n",
        "        print(\"\\nШаг\", i-1)\n",
        "        print(\"F:\\n\", F)\n",
        "        print(\"\\nA_T_A * F:\\n\", A_T_A.dot(F))\n",
        "        print(\"mu\\n\", mu)\n",
        "        print(\"\\n\")\n",
        "        \n",
        "        i+=1\n",
        "        \n",
        "    return(_F.dot(A_T), _mu)"
      ],
      "metadata": {
        "id": "Nro3KjgV3Yxv"
      },
      "execution_count": null,
      "outputs": []
    },
    {
      "cell_type": "code",
      "source": [
        "B_T = B.transpose()\n",
        "B_T_B = B_T.dot(B) #перемножены транспонированная матрица и обычная\n",
        "F = np.diag(np.diag(np.ones([3,3]))) #единичная матрица\n",
        "mu = sum(np.diag(B_T_B)) #это фи1 (сумма значений матрицы B_T_B по диагонали)\n",
        "print(\"B =\\n\", B)\n",
        "print(\"B^T * B =\\n\", B_T_B)\n",
        "print(\"mu_0 =\\n\", mu)\n",
        "print(\"F_0 =\\n\", F)\n",
        "\n",
        "B_, coef_ = Fadeev(B_T_B, F, mu, B_T)\n",
        "print(\"1/\" + str(coef_) + \" * B_обр:\\n\" + str(B_))"
      ],
      "metadata": {
        "colab": {
          "base_uri": "https://localhost:8080/"
        },
        "id": "Moel2ka-0gt3",
        "outputId": "376d1624-74bb-4ff2-e2c6-da5da980844c"
      },
      "execution_count": null,
      "outputs": [
        {
          "output_type": "stream",
          "name": "stdout",
          "text": [
            "B =\n",
            " [[ 1 -2 43]\n",
            " [ 0  5 -9]\n",
            " [ 7 -9 11]\n",
            " [ 0  2  8]]\n",
            "B^T * B =\n",
            " [[  50  -65  120]\n",
            " [ -65  114 -214]\n",
            " [ 120 -214 2115]]\n",
            "mu_0 =\n",
            " 2279\n",
            "F_0 =\n",
            " [[1. 0. 0.]\n",
            " [0. 1. 0.]\n",
            " [0. 0. 1.]]\n",
            "\n",
            "Шаг 1\n",
            "F:\n",
            " [[2229.   65. -120.]\n",
            " [  65. 2165.  214.]\n",
            " [-120.  214.  164.]]\n",
            "\n",
            "A_T_A * F:\n",
            " [[ 9.28250e+04 -1.11795e+05 -2.30000e+02]\n",
            " [-1.11795e+05  1.96789e+05 -2.90000e+03]\n",
            " [-2.30000e+02 -2.90000e+03  2.86664e+05]]\n",
            "mu\n",
            " 288139.0\n",
            "\n",
            "\n",
            "\n",
            "Шаг 2\n",
            "F:\n",
            " [[195314. 111795.    230.]\n",
            " [111795.  91350.   2900.]\n",
            " [   230.   2900.   1475.]]\n",
            "\n",
            "A_T_A * F:\n",
            " [[2526625.       0.       0.]\n",
            " [      0. 2526625.       0.]\n",
            " [      0.       0. 2526625.]]\n",
            "mu\n",
            " 2526625.0\n",
            "\n",
            "\n",
            "\n",
            "Шаг 3\n",
            "F:\n",
            " [[0. 0. 0.]\n",
            " [0. 0. 0.]\n",
            " [0. 0. 0.]]\n",
            "\n",
            "A_T_A * F:\n",
            " [[0. 0. 0.]\n",
            " [0. 0. 0.]\n",
            " [0. 0. 0.]]\n",
            "mu\n",
            " 0.0\n",
            "\n",
            "\n",
            "1/2526625.0 * B_обр:\n",
            "[[-18386. 556905. 363573. 225430.]\n",
            " [ 53795. 430650.  -7685. 205900.]\n",
            " [ 57855.   1225.  -8265.  17600.]]\n"
          ]
        }
      ]
    },
    {
      "cell_type": "code",
      "source": [
        "print(\"По свойству псевдообратной матрицы, где В*B_обр*В=B,\\n = \\nВ * B_обр * В =\")\n",
        "print(np.round(B.dot(B_/coef_).dot(B)))\n",
        "\n",
        "print(\"B = \\n\", B)"
      ],
      "metadata": {
        "colab": {
          "base_uri": "https://localhost:8080/"
        },
        "id": "DTHykkWD4fhc",
        "outputId": "64c202fd-ccdc-47a0-e770-d4f99944d860"
      },
      "execution_count": null,
      "outputs": [
        {
          "output_type": "stream",
          "name": "stdout",
          "text": [
            "По свойству псевдообратной матрицы, где В*B_обр*В=B,\n",
            " = \n",
            "В * B_обр * В =\n",
            "[[ 1. -2. 43.]\n",
            " [-0.  5. -9.]\n",
            " [ 7. -9. 11.]\n",
            " [ 0.  2.  8.]]\n",
            "B = \n",
            " [[ 1 -2 43]\n",
            " [ 0  5 -9]\n",
            " [ 7 -9 11]\n",
            " [ 0  2  8]]\n"
          ]
        }
      ]
    },
    {
      "cell_type": "code",
      "source": [
        "print(\"B * B_обр = 1/\" + str(coef_) + \"\\n\" + str(B.dot(B_)))\n",
        "BB_ = B.dot(B_/coef_)\n",
        "print(BB_)"
      ],
      "metadata": {
        "id": "ZvCTcrb652Bu",
        "colab": {
          "base_uri": "https://localhost:8080/"
        },
        "outputId": "f3ad3796-c88b-4e74-a474-8c72784bbeef"
      },
      "execution_count": null,
      "outputs": [
        {
          "output_type": "stream",
          "name": "stdout",
          "text": [
            "B * B_обр = 1/2526625.0\n",
            "[[2361789. -251720.   23548.  570430.]\n",
            " [-251720. 2142225.   35960.  871100.]\n",
            " [  23548.   35960. 2523261.  -81490.]\n",
            " [ 570430.  871100.  -81490.  552600.]]\n",
            "[[ 0.9347604  -0.09962697  0.00931994  0.22576758]\n",
            " [-0.09962697  0.84786029  0.01423242  0.34476822]\n",
            " [ 0.00931994  0.01423242  0.99866858 -0.03225251]\n",
            " [ 0.22576758  0.34476822 -0.03225251  0.21871073]]\n"
          ]
        }
      ]
    },
    {
      "cell_type": "markdown",
      "source": [
        "##2.12.3"
      ],
      "metadata": {
        "id": "vmCXxX36eDv5"
      }
    },
    {
      "cell_type": "code",
      "source": [
        "#инвариантность\n",
        "CB = C.dot(B)\n",
        "print(\"CB =\\n\", CB)\n",
        "\n",
        "CAB = C.dot(A).dot(B)\n",
        "print(\"\\nCAB =\\n\", CAB)\n",
        "\n",
        "CAAB = C.dot(A).dot(A).dot(B)\n",
        "print(\"\\nCAAB =\\n\", CAAB)\n",
        "\n",
        "CAAAB = C.dot(A).dot(A).dot(A).dot(B)\n",
        "print(\"\\nCAAAB =\\n\", CAAAB)"
      ],
      "metadata": {
        "id": "UNDBRN6pdsg-",
        "colab": {
          "base_uri": "https://localhost:8080/"
        },
        "outputId": "f1852611-9cf6-4dfb-8b8a-e6ee043b7c21"
      },
      "execution_count": 11,
      "outputs": [
        {
          "output_type": "stream",
          "name": "stdout",
          "text": [
            "CB =\n",
            " [[ 349 -401  501]\n",
            " [ 498 -631  864]]\n",
            "\n",
            "CAB =\n",
            " [[ -104915.   394552. -3085320.]\n",
            " [ -105047.   394584. -3084564.]]\n",
            "\n",
            "CAAB =\n",
            " [[ -1185257.           4390396.00000001 -33345858.00000013]\n",
            " [ -1197687.           4440884.00000001 -33789168.00000013]]\n",
            "\n",
            "CAAAB =\n",
            " [[-1.08832430e+07  3.85079080e+07 -2.62386012e+08]\n",
            " [-1.10676170e+07  3.92661240e+07 -2.69433570e+08]]\n"
          ]
        }
      ]
    },
    {
      "cell_type": "markdown",
      "source": [
        "##2.13"
      ],
      "metadata": {
        "id": "o56VNDqCfIf1"
      }
    },
    {
      "cell_type": "code",
      "source": [
        "#дополнительные вычисления для матрицы наблюдаемости\n",
        "A_arr = A.T\n",
        "C_arr = C.T\n",
        "\n",
        "AC = np.matrix(A_arr.dot(C_arr))\n",
        "AAC = np.matrix(A_arr.dot(A_arr).dot(C_arr))\n",
        "AAAC = np.matrix(A_arr.dot(A_arr).dot(A_arr).dot(C_arr))\n",
        "print(\"A * C = \")\n",
        "print(AC)\n",
        "print('\\n')\n",
        "\n",
        "print(\"A * A * C = \")\n",
        "print(AAC)\n",
        "print('\\n')\n",
        "print(\"A * A * A * C = \")\n",
        "print(AAAC)\n",
        "print('\\n')"
      ],
      "metadata": {
        "colab": {
          "base_uri": "https://localhost:8080/"
        },
        "id": "M4OlPaXZfBUr",
        "outputId": "9142cdbb-9706-4bb6-dec8-e5a64f03b85c"
      },
      "execution_count": 12,
      "outputs": [
        {
          "output_type": "stream",
          "name": "stdout",
          "text": [
            "A * C = \n",
            "[[-63692. -63684.]\n",
            " [ 39257.  39217.]\n",
            " [ -5889.  -5909.]\n",
            " [  8941.   8975.]]\n",
            "\n",
            "\n",
            "A * A * C = \n",
            "[[-686654. -695864.]\n",
            " [ 432425.  437733.]\n",
            " [ -71229.  -71689.]\n",
            " [ 106951.  107645.]]\n",
            "\n",
            "\n",
            "A * A * A * C = \n",
            "[[-5353460.00000014 -5500734.00000014]\n",
            " [ 3664229.00000003  3744241.00000003]\n",
            " [ -789969.00000001  -795269.00000001]\n",
            " [ 1185061.00000001  1193015.00000001]]\n",
            "\n",
            "\n"
          ]
        }
      ]
    },
    {
      "cell_type": "code",
      "source": [
        "gamma = np.concatenate((C.T, AC, AAC, AAAC), axis=1)\n",
        "print('{A, С} = ')\n",
        "print(pd.DataFrame(gamma))\n",
        "rang_gamma = np.linalg.matrix_rank(gamma)\n",
        "print(\"\\nРанг матрицы наблюдаемости rg {A,C} = \" + str(rang_gamma))"
      ],
      "metadata": {
        "colab": {
          "base_uri": "https://localhost:8080/"
        },
        "id": "JXVsYzDwgA8e",
        "outputId": "6fc7506d-7ea9-4ec2-e99a-d47dbc7a1361"
      },
      "execution_count": 13,
      "outputs": [
        {
          "output_type": "stream",
          "name": "stdout",
          "text": [
            "{A, С} = \n",
            "      0     1        2        3         4         5          6          7\n",
            "0  -8.0   1.0 -63692.0 -63684.0 -686654.0 -695864.0 -5353460.0 -5500734.0\n",
            "1  -4.0   0.0  39257.0  39217.0  432425.0  437733.0  3664229.0  3744241.0\n",
            "2  51.0  71.0  -5889.0  -5909.0  -71229.0  -71689.0  -789969.0  -795269.0\n",
            "3  31.0   5.0   8941.0   8975.0  106951.0  107645.0  1185061.0  1193015.0\n",
            "\n",
            "Ранг матрицы наблюдаемости rg {A,C} = 4\n"
          ]
        }
      ]
    },
    {
      "cell_type": "markdown",
      "source": [
        "##2.15"
      ],
      "metadata": {
        "id": "wh1C6jOzggZv"
      }
    },
    {
      "cell_type": "code",
      "source": [
        "#-38 & 267 & 386 & -616\n",
        "d0 = 1\n",
        "d1 = -38\n",
        "d2 = 267\n",
        "d3 = 386"
      ],
      "metadata": {
        "id": "mx4DfrAkgC9z"
      },
      "execution_count": 14,
      "outputs": []
    },
    {
      "cell_type": "code",
      "source": [
        "#нахождение матрицы S\n",
        "S4 = np.round(B[:,0])\n",
        "S3 = np.round(A.dot(S4) + d1 * B[:,0])\n",
        "S2 = np.round(A.dot(S3) + d2 * B[:,0])\n",
        "S1 = np.round(A.dot(S2) + d3 * B[:,0])\n",
        "print('S_1 = ')\n",
        "print(S1)\n",
        "print('\\nS_2 = ')\n",
        "print(S2)\n",
        "print('\\nS_3 = ')\n",
        "print(S3)\n",
        "print('\\nS_4 = ')\n",
        "print(S4)\n",
        "print('\\nS = ')\n",
        "S = np.concatenate((S1, S2, S3, S4), axis=1)\n",
        "print(pd.DataFrame(S))\n",
        "\n",
        "coef_S = np.round(np.linalg.det(S))\n",
        "print('det(S) = ' + str(coef_S))\n",
        "\n",
        "print('\\nS_обр = 1/(' + str(coef_S) + \") * \")\n",
        "S_ = np.linalg.inv(S)\n",
        "print(pd.DataFrame(S_ * coef_S))\n",
        "\n",
        "print(\"\\nS * S_обр = \")\n",
        "pd.DataFrame(np.round(S.dot(S_)))"
      ],
      "metadata": {
        "id": "pS2iQnELivFn",
        "outputId": "fefa8044-8c72-40d3-a0f8-4fabbf9d7a30",
        "colab": {
          "base_uri": "https://localhost:8080/",
          "height": 869
        }
      },
      "execution_count": 20,
      "outputs": [
        {
          "output_type": "stream",
          "name": "stdout",
          "text": [
            "S_1 = \n",
            "[[ 1012.]\n",
            " [ 1980.]\n",
            " [88776.]\n",
            " [57012.]]\n",
            "\n",
            "S_2 = \n",
            "[[-1093.]\n",
            " [-2160.]\n",
            " [39253.]\n",
            " [28239.]]\n",
            "\n",
            "S_3 = \n",
            "[[   80.]\n",
            " [  180.]\n",
            " [-1676.]\n",
            " [-1011.]]\n",
            "\n",
            "S_4 = \n",
            "[[1]\n",
            " [0]\n",
            " [7]\n",
            " [0]]\n",
            "\n",
            "S = \n",
            "         0        1       2    3\n",
            "0   1012.0  -1093.0    80.0  1.0\n",
            "1   1980.0  -2160.0   180.0  0.0\n",
            "2  88776.0  39253.0 -1676.0  7.0\n",
            "3  57012.0  28239.0 -1011.0  0.0\n",
            "det(S) = -61994743200.0\n",
            "\n",
            "S_обр = 1/(-61994743200.0) * \n",
            "              0             1             2             3\n",
            "0  2.029482e+07 -1.572246e+07 -2.899260e+06  3.612960e+06\n",
            "1 -8.584758e+07  4.488822e+07  1.226394e+07 -1.913184e+07\n",
            "2 -1.253414e+09  3.671905e+08  1.790591e+08 -2.693246e+08\n",
            "3 -7.609139e+10  3.559872e+10  2.013806e+09 -3.021445e+09\n",
            "\n",
            "S * S_обр = \n"
          ]
        },
        {
          "output_type": "execute_result",
          "data": {
            "text/plain": [
              "     0    1    2    3\n",
              "0  1.0  0.0  0.0  0.0\n",
              "1 -0.0  1.0 -0.0  0.0\n",
              "2  0.0 -0.0  1.0  0.0\n",
              "3  0.0 -0.0 -0.0  1.0"
            ],
            "text/html": [
              "\n",
              "  <div id=\"df-19b79269-b594-44a0-9e08-eab967d9326c\">\n",
              "    <div class=\"colab-df-container\">\n",
              "      <div>\n",
              "<style scoped>\n",
              "    .dataframe tbody tr th:only-of-type {\n",
              "        vertical-align: middle;\n",
              "    }\n",
              "\n",
              "    .dataframe tbody tr th {\n",
              "        vertical-align: top;\n",
              "    }\n",
              "\n",
              "    .dataframe thead th {\n",
              "        text-align: right;\n",
              "    }\n",
              "</style>\n",
              "<table border=\"1\" class=\"dataframe\">\n",
              "  <thead>\n",
              "    <tr style=\"text-align: right;\">\n",
              "      <th></th>\n",
              "      <th>0</th>\n",
              "      <th>1</th>\n",
              "      <th>2</th>\n",
              "      <th>3</th>\n",
              "    </tr>\n",
              "  </thead>\n",
              "  <tbody>\n",
              "    <tr>\n",
              "      <th>0</th>\n",
              "      <td>1.0</td>\n",
              "      <td>0.0</td>\n",
              "      <td>0.0</td>\n",
              "      <td>0.0</td>\n",
              "    </tr>\n",
              "    <tr>\n",
              "      <th>1</th>\n",
              "      <td>-0.0</td>\n",
              "      <td>1.0</td>\n",
              "      <td>-0.0</td>\n",
              "      <td>0.0</td>\n",
              "    </tr>\n",
              "    <tr>\n",
              "      <th>2</th>\n",
              "      <td>0.0</td>\n",
              "      <td>-0.0</td>\n",
              "      <td>1.0</td>\n",
              "      <td>0.0</td>\n",
              "    </tr>\n",
              "    <tr>\n",
              "      <th>3</th>\n",
              "      <td>0.0</td>\n",
              "      <td>-0.0</td>\n",
              "      <td>-0.0</td>\n",
              "      <td>1.0</td>\n",
              "    </tr>\n",
              "  </tbody>\n",
              "</table>\n",
              "</div>\n",
              "      <button class=\"colab-df-convert\" onclick=\"convertToInteractive('df-19b79269-b594-44a0-9e08-eab967d9326c')\"\n",
              "              title=\"Convert this dataframe to an interactive table.\"\n",
              "              style=\"display:none;\">\n",
              "        \n",
              "  <svg xmlns=\"http://www.w3.org/2000/svg\" height=\"24px\"viewBox=\"0 0 24 24\"\n",
              "       width=\"24px\">\n",
              "    <path d=\"M0 0h24v24H0V0z\" fill=\"none\"/>\n",
              "    <path d=\"M18.56 5.44l.94 2.06.94-2.06 2.06-.94-2.06-.94-.94-2.06-.94 2.06-2.06.94zm-11 1L8.5 8.5l.94-2.06 2.06-.94-2.06-.94L8.5 2.5l-.94 2.06-2.06.94zm10 10l.94 2.06.94-2.06 2.06-.94-2.06-.94-.94-2.06-.94 2.06-2.06.94z\"/><path d=\"M17.41 7.96l-1.37-1.37c-.4-.4-.92-.59-1.43-.59-.52 0-1.04.2-1.43.59L10.3 9.45l-7.72 7.72c-.78.78-.78 2.05 0 2.83L4 21.41c.39.39.9.59 1.41.59.51 0 1.02-.2 1.41-.59l7.78-7.78 2.81-2.81c.8-.78.8-2.07 0-2.86zM5.41 20L4 18.59l7.72-7.72 1.47 1.35L5.41 20z\"/>\n",
              "  </svg>\n",
              "      </button>\n",
              "      \n",
              "  <style>\n",
              "    .colab-df-container {\n",
              "      display:flex;\n",
              "      flex-wrap:wrap;\n",
              "      gap: 12px;\n",
              "    }\n",
              "\n",
              "    .colab-df-convert {\n",
              "      background-color: #E8F0FE;\n",
              "      border: none;\n",
              "      border-radius: 50%;\n",
              "      cursor: pointer;\n",
              "      display: none;\n",
              "      fill: #1967D2;\n",
              "      height: 32px;\n",
              "      padding: 0 0 0 0;\n",
              "      width: 32px;\n",
              "    }\n",
              "\n",
              "    .colab-df-convert:hover {\n",
              "      background-color: #E2EBFA;\n",
              "      box-shadow: 0px 1px 2px rgba(60, 64, 67, 0.3), 0px 1px 3px 1px rgba(60, 64, 67, 0.15);\n",
              "      fill: #174EA6;\n",
              "    }\n",
              "\n",
              "    [theme=dark] .colab-df-convert {\n",
              "      background-color: #3B4455;\n",
              "      fill: #D2E3FC;\n",
              "    }\n",
              "\n",
              "    [theme=dark] .colab-df-convert:hover {\n",
              "      background-color: #434B5C;\n",
              "      box-shadow: 0px 1px 3px 1px rgba(0, 0, 0, 0.15);\n",
              "      filter: drop-shadow(0px 1px 2px rgba(0, 0, 0, 0.3));\n",
              "      fill: #FFFFFF;\n",
              "    }\n",
              "  </style>\n",
              "\n",
              "      <script>\n",
              "        const buttonEl =\n",
              "          document.querySelector('#df-19b79269-b594-44a0-9e08-eab967d9326c button.colab-df-convert');\n",
              "        buttonEl.style.display =\n",
              "          google.colab.kernel.accessAllowed ? 'block' : 'none';\n",
              "\n",
              "        async function convertToInteractive(key) {\n",
              "          const element = document.querySelector('#df-19b79269-b594-44a0-9e08-eab967d9326c');\n",
              "          const dataTable =\n",
              "            await google.colab.kernel.invokeFunction('convertToInteractive',\n",
              "                                                     [key], {});\n",
              "          if (!dataTable) return;\n",
              "\n",
              "          const docLinkHtml = 'Like what you see? Visit the ' +\n",
              "            '<a target=\"_blank\" href=https://colab.research.google.com/notebooks/data_table.ipynb>data table notebook</a>'\n",
              "            + ' to learn more about interactive tables.';\n",
              "          element.innerHTML = '';\n",
              "          dataTable['output_type'] = 'display_data';\n",
              "          await google.colab.output.renderOutput(dataTable, element);\n",
              "          const docLink = document.createElement('div');\n",
              "          docLink.innerHTML = docLinkHtml;\n",
              "          element.appendChild(docLink);\n",
              "        }\n",
              "      </script>\n",
              "    </div>\n",
              "  </div>\n",
              "  "
            ]
          },
          "metadata": {},
          "execution_count": 20
        }
      ]
    },
    {
      "cell_type": "code",
      "source": [
        "#-45 & -2433 & 23357 & 367920\n",
        "#3-4) поиск матрицы K\n",
        "d_ = [-45, -2433, 23357, 367920]\n",
        "d = [-38, 267, 386, -616]\n",
        "K_ = np.matrix([d_[3] - d[3], d_[2] - d[2], d_[1] - d[1], d_[0] - d[0]]) #это K с чертой (ее можно найти с помощью пункта 2)\n",
        "print(K_)\n",
        "K = K_.dot(S_)\n",
        "print(\"K = 1/(\" + str(coef_S) + \") *\")\n",
        "pd.DataFrame(K * coef_S)"
      ],
      "metadata": {
        "id": "rDHUwGwDkS0d",
        "outputId": "99166661-a36a-4948-c03e-39a4a8d7619b",
        "colab": {
          "base_uri": "https://localhost:8080/",
          "height": 115
        }
      },
      "execution_count": 26,
      "outputs": [
        {
          "output_type": "stream",
          "name": "stdout",
          "text": [
            "[[368536  22971  -2700     -7]]\n",
            "K = 1/(-61994743200.0) *\n"
          ]
        },
        {
          "output_type": "execute_result",
          "data": {
            "text/plain": [
              "              0             1             2             3\n",
              "0  9.424224e+12 -6.003770e+12 -1.284323e+12  1.640355e+12"
            ],
            "text/html": [
              "\n",
              "  <div id=\"df-d838fee2-57b4-484e-a989-6d72b03c5f6f\">\n",
              "    <div class=\"colab-df-container\">\n",
              "      <div>\n",
              "<style scoped>\n",
              "    .dataframe tbody tr th:only-of-type {\n",
              "        vertical-align: middle;\n",
              "    }\n",
              "\n",
              "    .dataframe tbody tr th {\n",
              "        vertical-align: top;\n",
              "    }\n",
              "\n",
              "    .dataframe thead th {\n",
              "        text-align: right;\n",
              "    }\n",
              "</style>\n",
              "<table border=\"1\" class=\"dataframe\">\n",
              "  <thead>\n",
              "    <tr style=\"text-align: right;\">\n",
              "      <th></th>\n",
              "      <th>0</th>\n",
              "      <th>1</th>\n",
              "      <th>2</th>\n",
              "      <th>3</th>\n",
              "    </tr>\n",
              "  </thead>\n",
              "  <tbody>\n",
              "    <tr>\n",
              "      <th>0</th>\n",
              "      <td>9.424224e+12</td>\n",
              "      <td>-6.003770e+12</td>\n",
              "      <td>-1.284323e+12</td>\n",
              "      <td>1.640355e+12</td>\n",
              "    </tr>\n",
              "  </tbody>\n",
              "</table>\n",
              "</div>\n",
              "      <button class=\"colab-df-convert\" onclick=\"convertToInteractive('df-d838fee2-57b4-484e-a989-6d72b03c5f6f')\"\n",
              "              title=\"Convert this dataframe to an interactive table.\"\n",
              "              style=\"display:none;\">\n",
              "        \n",
              "  <svg xmlns=\"http://www.w3.org/2000/svg\" height=\"24px\"viewBox=\"0 0 24 24\"\n",
              "       width=\"24px\">\n",
              "    <path d=\"M0 0h24v24H0V0z\" fill=\"none\"/>\n",
              "    <path d=\"M18.56 5.44l.94 2.06.94-2.06 2.06-.94-2.06-.94-.94-2.06-.94 2.06-2.06.94zm-11 1L8.5 8.5l.94-2.06 2.06-.94-2.06-.94L8.5 2.5l-.94 2.06-2.06.94zm10 10l.94 2.06.94-2.06 2.06-.94-2.06-.94-.94-2.06-.94 2.06-2.06.94z\"/><path d=\"M17.41 7.96l-1.37-1.37c-.4-.4-.92-.59-1.43-.59-.52 0-1.04.2-1.43.59L10.3 9.45l-7.72 7.72c-.78.78-.78 2.05 0 2.83L4 21.41c.39.39.9.59 1.41.59.51 0 1.02-.2 1.41-.59l7.78-7.78 2.81-2.81c.8-.78.8-2.07 0-2.86zM5.41 20L4 18.59l7.72-7.72 1.47 1.35L5.41 20z\"/>\n",
              "  </svg>\n",
              "      </button>\n",
              "      \n",
              "  <style>\n",
              "    .colab-df-container {\n",
              "      display:flex;\n",
              "      flex-wrap:wrap;\n",
              "      gap: 12px;\n",
              "    }\n",
              "\n",
              "    .colab-df-convert {\n",
              "      background-color: #E8F0FE;\n",
              "      border: none;\n",
              "      border-radius: 50%;\n",
              "      cursor: pointer;\n",
              "      display: none;\n",
              "      fill: #1967D2;\n",
              "      height: 32px;\n",
              "      padding: 0 0 0 0;\n",
              "      width: 32px;\n",
              "    }\n",
              "\n",
              "    .colab-df-convert:hover {\n",
              "      background-color: #E2EBFA;\n",
              "      box-shadow: 0px 1px 2px rgba(60, 64, 67, 0.3), 0px 1px 3px 1px rgba(60, 64, 67, 0.15);\n",
              "      fill: #174EA6;\n",
              "    }\n",
              "\n",
              "    [theme=dark] .colab-df-convert {\n",
              "      background-color: #3B4455;\n",
              "      fill: #D2E3FC;\n",
              "    }\n",
              "\n",
              "    [theme=dark] .colab-df-convert:hover {\n",
              "      background-color: #434B5C;\n",
              "      box-shadow: 0px 1px 3px 1px rgba(0, 0, 0, 0.15);\n",
              "      filter: drop-shadow(0px 1px 2px rgba(0, 0, 0, 0.3));\n",
              "      fill: #FFFFFF;\n",
              "    }\n",
              "  </style>\n",
              "\n",
              "      <script>\n",
              "        const buttonEl =\n",
              "          document.querySelector('#df-d838fee2-57b4-484e-a989-6d72b03c5f6f button.colab-df-convert');\n",
              "        buttonEl.style.display =\n",
              "          google.colab.kernel.accessAllowed ? 'block' : 'none';\n",
              "\n",
              "        async function convertToInteractive(key) {\n",
              "          const element = document.querySelector('#df-d838fee2-57b4-484e-a989-6d72b03c5f6f');\n",
              "          const dataTable =\n",
              "            await google.colab.kernel.invokeFunction('convertToInteractive',\n",
              "                                                     [key], {});\n",
              "          if (!dataTable) return;\n",
              "\n",
              "          const docLinkHtml = 'Like what you see? Visit the ' +\n",
              "            '<a target=\"_blank\" href=https://colab.research.google.com/notebooks/data_table.ipynb>data table notebook</a>'\n",
              "            + ' to learn more about interactive tables.';\n",
              "          element.innerHTML = '';\n",
              "          dataTable['output_type'] = 'display_data';\n",
              "          await google.colab.output.renderOutput(dataTable, element);\n",
              "          const docLink = document.createElement('div');\n",
              "          docLink.innerHTML = docLinkHtml;\n",
              "          element.appendChild(docLink);\n",
              "        }\n",
              "      </script>\n",
              "    </div>\n",
              "  </div>\n",
              "  "
            ]
          },
          "metadata": {},
          "execution_count": 26
        }
      ]
    },
    {
      "cell_type": "code",
      "source": [
        "#5) поиск A с чертой\n",
        "A_ = A - (B[:,0]).dot(K)\n",
        "print(\"A_ = 1/(\" + str(coef_S) + \") *\")\n",
        "print(pd.DataFrame(A_ * coef_S))"
      ],
      "metadata": {
        "id": "xeqEI2ZGoz6Q",
        "outputId": "9e22ab9d-d6c4-4a0c-c218-03364c0e2a74",
        "colab": {
          "base_uri": "https://localhost:8080/"
        }
      },
      "execution_count": 27,
      "outputs": [
        {
          "output_type": "stream",
          "name": "stdout",
          "text": [
            "A_ = 1/(-61994743200.0) *\n",
            "              0             1             2             3\n",
            "0 -1.673960e+13  9.723455e+12  1.284323e+12 -1.640355e+12\n",
            "1 -1.115905e+13  5.703516e+12  0.000000e+00  0.000000e+00\n",
            "2 -1.284008e+13  9.355164e+12  1.388785e+13 -1.892185e+13\n",
            "3  3.663889e+13 -2.306204e+13  3.719685e+12 -5.641522e+12\n"
          ]
        }
      ]
    },
    {
      "cell_type": "code",
      "source": [
        "#check\n",
        "lambda1 = 73\n",
        "I = np.eye(4)\n",
        "check1 = lambda1 * I - A_\n",
        "print(\"lambda * I - A_ = 1/(\" + str(coef_S) + \") *\" + str(pd.DataFrame(check1 * coef_S)))\n",
        "print('\\ndet (lambda * I - A_) = ' + str(np.round(np.linalg.det(check1))))"
      ],
      "metadata": {
        "id": "ozAu6_OUpbNk",
        "outputId": "e9f8a4bc-286c-4929-c091-6515582cc836",
        "colab": {
          "base_uri": "https://localhost:8080/"
        }
      },
      "execution_count": 30,
      "outputs": [
        {
          "output_type": "stream",
          "name": "stdout",
          "text": [
            "lambda * I - A_ = 1/(-61994743200.0) *              0             1             2             3\n",
            "0  1.221399e+13 -9.723455e+12 -1.284323e+12  1.640355e+12\n",
            "1  1.115905e+13 -1.022913e+13  0.000000e+00  0.000000e+00\n",
            "2  1.284008e+13 -9.355164e+12 -1.841346e+13  1.892185e+13\n",
            "3 -3.663889e+13  2.306204e+13 -3.719685e+12  1.115905e+12\n",
            "\n",
            "det (lambda * I - A_) = 0.0\n"
          ]
        }
      ]
    },
    {
      "cell_type": "code",
      "source": [
        "lambda2 = -9\n",
        "check2 = lambda2 * I - A_\n",
        "print(\"lambda * I - A_ = 1/(\" + str(coef_S) + \") *\" + str(pd.DataFrame(check2*coef_S)))\n",
        "print('\\ndet (lambda * I - A_) = ' + str((np.round(np.linalg.det(check2)))))"
      ],
      "metadata": {
        "id": "Qgs4tp7rqAyD",
        "outputId": "38062064-e1a4-4c5e-a073-bbbdb82c08da",
        "colab": {
          "base_uri": "https://localhost:8080/"
        }
      },
      "execution_count": 31,
      "outputs": [
        {
          "output_type": "stream",
          "name": "stdout",
          "text": [
            "lambda * I - A_ = 1/(-61994743200.0) *              0             1             2             3\n",
            "0  1.729756e+13 -9.723455e+12 -1.284323e+12  1.640355e+12\n",
            "1  1.115905e+13 -5.145564e+12  0.000000e+00  0.000000e+00\n",
            "2  1.284008e+13 -9.355164e+12 -1.332989e+13  1.892185e+13\n",
            "3 -3.663889e+13  2.306204e+13 -3.719685e+12  6.199474e+12\n",
            "\n",
            "det (lambda * I - A_) = -0.0\n"
          ]
        }
      ]
    },
    {
      "cell_type": "code",
      "source": [
        "lambda3 = 16\n",
        "check3 = lambda3 * I - A_\n",
        "print(\"lambda * I - A_ = 1/(\" + str(coef_S) + \") *\" + str(pd.DataFrame(check3*6233760)))\n",
        "print('\\ndet (lambda * I - A_) = ' + str(np.round((np.linalg.det(check3)))))"
      ],
      "metadata": {
        "id": "0Y2RJHBZqRLk",
        "outputId": "2b38d982-f6bb-4482-f807-fc1386449f93",
        "colab": {
          "base_uri": "https://localhost:8080/"
        }
      },
      "execution_count": 32,
      "outputs": [
        {
          "output_type": "stream",
          "name": "stdout",
          "text": [
            "lambda * I - A_ = 1/(-61994743200.0) *              0             1             2             3\n",
            "0 -1.583478e+09  9.777230e+08  1.291426e+08 -1.649427e+08\n",
            "1 -1.122077e+09  6.732461e+08  0.000000e+00  0.000000e+00\n",
            "2 -1.291109e+09  9.406902e+08  1.496205e+09 -1.902650e+09\n",
            "3  3.684152e+09 -2.318959e+09  3.740256e+08 -4.675320e+08\n",
            "\n",
            "det (lambda * I - A_) = -0.0\n"
          ]
        }
      ]
    },
    {
      "cell_type": "code",
      "source": [
        "lambda4 = -35\n",
        "check4 = lambda4 * I - A_\n",
        "print(\"lambda * I - A_ = 1/(\" + str(coef_S) + \") *\" + str(pd.DataFrame(check4*6233760)))\n",
        "print('\\ndet (lambda * I - A_) = ' + str((np.round(np.linalg.det(check4)))))"
      ],
      "metadata": {
        "id": "OVOrinYnqTw5",
        "outputId": "950fdb99-b114-4a1e-cfd8-92597072cc01",
        "colab": {
          "base_uri": "https://localhost:8080/"
        }
      },
      "execution_count": 33,
      "outputs": [
        {
          "output_type": "stream",
          "name": "stdout",
          "text": [
            "lambda * I - A_ = 1/(-61994743200.0) *              0             1             2             3\n",
            "0 -1.901400e+09  9.777230e+08  1.291426e+08 -1.649427e+08\n",
            "1 -1.122077e+09  3.553243e+08  0.000000e+00  0.000000e+00\n",
            "2 -1.291109e+09  9.406902e+08  1.178284e+09 -1.902650e+09\n",
            "3  3.684152e+09 -2.318959e+09  3.740256e+08 -7.854538e+08\n",
            "\n",
            "det (lambda * I - A_) = -0.0\n"
          ]
        }
      ]
    }
  ]
}