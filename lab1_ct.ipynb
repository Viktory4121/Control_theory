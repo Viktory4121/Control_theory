{
  "nbformat": 4,
  "nbformat_minor": 0,
  "metadata": {
    "colab": {
      "name": "lab1_ct.ipynb",
      "provenance": [],
      "collapsed_sections": [],
      "authorship_tag": "ABX9TyMrZZ09FIHk45HnsuemRjdz",
      "include_colab_link": true
    },
    "kernelspec": {
      "name": "python3",
      "display_name": "Python 3"
    },
    "language_info": {
      "name": "python"
    }
  },
  "cells": [
    {
      "cell_type": "markdown",
      "metadata": {
        "id": "view-in-github",
        "colab_type": "text"
      },
      "source": [
        "<a href=\"https://colab.research.google.com/github/Viktory4121/Control_theory/blob/main/lab1_ct.ipynb\" target=\"_parent\"><img src=\"https://colab.research.google.com/assets/colab-badge.svg\" alt=\"Open In Colab\"/></a>"
      ]
    },
    {
      "cell_type": "code",
      "execution_count": 28,
      "metadata": {
        "id": "ptY-1mfW0yb2"
      },
      "outputs": [],
      "source": [
        "import pandas as pd\n",
        "import numpy as np"
      ]
    },
    {
      "cell_type": "code",
      "source": [
        "#Матрица собственных чисел:\n",
        "print('lambda = ')\n",
        "lambda_matrix = np.matrix([[3, 0, 0, 0], [0, 6, 0, 0], [0, 0, 1, 0], [0, 0, 0, 0]])\n",
        "print(lambda_matrix)\n",
        "#обратимая матрица\n",
        "L = np.matrix([[2,1,0,0],[3,2,0,0],[1,1,3,4],[2,-1,2,3]])\n",
        "print('L = ')\n",
        "print(L)\n",
        "#также даны:\n",
        "B = np.matrix([[1, -2], [0, 5],[7, -9],[0, 2]])\n",
        "C = np.matrix([-8, -4, 1, 0])\n",
        "print('B = ')\n",
        "print(B)\n",
        "print('C = ')\n",
        "print(C)"
      ],
      "metadata": {
        "colab": {
          "base_uri": "https://localhost:8080/"
        },
        "id": "iTp9Vy0T04mG",
        "outputId": "3e720c35-e834-4236-d066-b448608d2ba8"
      },
      "execution_count": 73,
      "outputs": [
        {
          "output_type": "stream",
          "name": "stdout",
          "text": [
            "lambda = \n",
            "[[3 0 0 0]\n",
            " [0 6 0 0]\n",
            " [0 0 1 0]\n",
            " [0 0 0 0]]\n",
            "L = \n",
            "[[ 2  1  0  0]\n",
            " [ 3  2  0  0]\n",
            " [ 1  1  3  4]\n",
            " [ 2 -1  2  3]]\n",
            "B = \n",
            "[[ 1 -2]\n",
            " [ 0  5]\n",
            " [ 7 -9]\n",
            " [ 0  2]]\n",
            "C = \n",
            "[[-8 -4  1  0]]\n"
          ]
        }
      ]
    },
    {
      "cell_type": "code",
      "source": [
        "print('det(L) = ' + str(np.linalg.det(L)))"
      ],
      "metadata": {
        "colab": {
          "base_uri": "https://localhost:8080/"
        },
        "id": "CKaY_Fj4njCT",
        "outputId": "f5855ca3-502a-45b0-8079-050e1a3460c4"
      },
      "execution_count": 74,
      "outputs": [
        {
          "output_type": "stream",
          "name": "stdout",
          "text": [
            "det(L) = 0.9999999999999991\n"
          ]
        }
      ]
    },
    {
      "cell_type": "code",
      "source": [
        "#обратная матрица от обратимой\n",
        "L_ = np.linalg.inv(L)\n",
        "print('L_обр = ')\n",
        "print(L_)"
      ],
      "metadata": {
        "colab": {
          "base_uri": "https://localhost:8080/"
        },
        "id": "4w7zjhBk1vH-",
        "outputId": "56832b92-db39-49ce-ab69-ea27ce454ecf"
      },
      "execution_count": 75,
      "outputs": [
        {
          "output_type": "stream",
          "name": "stdout",
          "text": [
            "L_обр = \n",
            "[[  2.  -1.   0.   0.]\n",
            " [ -3.   2.  -0.  -0.]\n",
            " [ 31. -19.   3.  -4.]\n",
            " [-23.  14.  -2.   3.]]\n"
          ]
        }
      ]
    },
    {
      "cell_type": "code",
      "source": [
        "#исходная матрица\n",
        "A = L.dot(lambda_matrix).dot(L_)\n",
        "print('A = ')\n",
        "print(np.round(A))"
      ],
      "metadata": {
        "colab": {
          "base_uri": "https://localhost:8080/"
        },
        "id": "32RnsVUS2Pgh",
        "outputId": "33341826-b060-4426-e815-057519bb743d"
      },
      "execution_count": 76,
      "outputs": [
        {
          "output_type": "stream",
          "name": "stdout",
          "text": [
            "A = \n",
            "[[ -6.   6.   0.   0.]\n",
            " [-18.  15.   0.   0.]\n",
            " [ 81. -48.   9. -12.]\n",
            " [ 92. -56.   6.  -8.]]\n"
          ]
        }
      ]
    },
    {
      "cell_type": "code",
      "source": [
        "#дополнительные вычисления для составления матрицы управляемости\n",
        "\n",
        "AB = A.dot(B)\n",
        "print(\"A * B = \")\n",
        "print(AB)\n",
        "print(\"\\n\")\n",
        "\n",
        "AAB = A.dot(A).dot(B)\n",
        "print(\"A * A * B = \")\n",
        "print(AAB)\n",
        "print(\"\\n\")\n",
        "\n",
        "AAAB = A.dot(A).dot(A).dot(B)\n",
        "print(\"A * A * A * B = \")\n",
        "print(AAAB)"
      ],
      "metadata": {
        "colab": {
          "base_uri": "https://localhost:8080/"
        },
        "id": "z8EDG3gErQDn",
        "outputId": "0cbc2089-7f1c-4c8b-9f53-b0cff7d9f7bf"
      },
      "execution_count": 77,
      "outputs": [
        {
          "output_type": "stream",
          "name": "stdout",
          "text": [
            "A * B = \n",
            "[[  -6.   42.]\n",
            " [ -18.  111.]\n",
            " [ 144. -507.]\n",
            " [ 134. -534.]]\n",
            "\n",
            "\n",
            "A * A * B = \n",
            "[[  -72.   414.]\n",
            " [ -162.   909.]\n",
            " [   66.   -81.]\n",
            " [  248. -1122.]]\n",
            "\n",
            "\n",
            "A * A * A * B = \n",
            "[[ -540.  2970.]\n",
            " [-1134.  6183.]\n",
            " [ -438.  2637.]\n",
            " [  860. -4326.]]\n"
          ]
        }
      ]
    },
    {
      "cell_type": "code",
      "source": [
        "#матрица управляемости\n",
        "beta = np.concatenate((np.round(B), np.round(AB), np.round(AAB), np.round(AAAB)), axis=1)\n",
        "print(\"{A,B} = \")\n",
        "print(pd.DataFrame(beta))"
      ],
      "metadata": {
        "colab": {
          "base_uri": "https://localhost:8080/"
        },
        "id": "SjXNaaIOyqTV",
        "outputId": "0cb621fd-f12d-46be-b266-3073ea7cd21e"
      },
      "execution_count": 78,
      "outputs": [
        {
          "output_type": "stream",
          "name": "stdout",
          "text": [
            "{A,B} = \n",
            "     0    1      2      3      4       5       6       7\n",
            "0  1.0 -2.0   -6.0   42.0  -72.0   414.0  -540.0  2970.0\n",
            "1  0.0  5.0  -18.0  111.0 -162.0   909.0 -1134.0  6183.0\n",
            "2  7.0 -9.0  144.0 -507.0   66.0   -81.0  -438.0  2637.0\n",
            "3  0.0  2.0  134.0 -534.0  248.0 -1122.0   860.0 -4326.0\n"
          ]
        }
      ]
    },
    {
      "cell_type": "code",
      "source": [
        "rang_beta = np.linalg.matrix_rank(beta)\n",
        "print(\"Ранг матрицы управляемости rg {A,B} = \" + str(rang_beta))"
      ],
      "metadata": {
        "colab": {
          "base_uri": "https://localhost:8080/"
        },
        "id": "QsnOyf_bz2qS",
        "outputId": "6912a3f5-7f10-44f0-910b-ed71b0d4c2a2"
      },
      "execution_count": 79,
      "outputs": [
        {
          "output_type": "stream",
          "name": "stdout",
          "text": [
            "Ранг матрицы управляемости rg {A,B} = 4\n"
          ]
        }
      ]
    },
    {
      "cell_type": "code",
      "source": [
        "#проверка для 1.15\n",
        "print(\"B_1 = \")\n",
        "print(B[:,0])\n",
        "print('\\n')\n",
        "\n",
        "print('A * B_1 = ')\n",
        "AB1 = A.dot(B[:,0])\n",
        "print(AB1)\n",
        "print('\\n')\n",
        "\n",
        "AAB1 = A.dot(A).dot(B[:,0])\n",
        "print('A * A * B_1 = ')\n",
        "print(AAB1)\n",
        "print('\\n')\n",
        "\n",
        "print('A * A * A * B_1 = ')\n",
        "AAAB1 = A.dot(A).dot(A).dot(B[:,0])\n",
        "print(AAAB1)"
      ],
      "metadata": {
        "colab": {
          "base_uri": "https://localhost:8080/"
        },
        "id": "_nAZ3tkZ04cQ",
        "outputId": "98af0762-eb19-419d-9a96-42ce1a198c39"
      },
      "execution_count": 80,
      "outputs": [
        {
          "output_type": "stream",
          "name": "stdout",
          "text": [
            "B_1 = \n",
            "[[1]\n",
            " [0]\n",
            " [7]\n",
            " [0]]\n",
            "\n",
            "\n",
            "A * B_1 = \n",
            "[[ -6.]\n",
            " [-18.]\n",
            " [144.]\n",
            " [134.]]\n",
            "\n",
            "\n",
            "A * A * B_1 = \n",
            "[[ -72.]\n",
            " [-162.]\n",
            " [  66.]\n",
            " [ 248.]]\n",
            "\n",
            "\n",
            "A * A * A * B_1 = \n",
            "[[ -540.]\n",
            " [-1134.]\n",
            " [ -438.]\n",
            " [  860.]]\n"
          ]
        }
      ]
    },
    {
      "cell_type": "code",
      "source": [
        "beta1 = np.concatenate((B[:,0], AB1, AAB1, AAAB1), axis=1)\n",
        "print('{A, B_1} = ')\n",
        "print(pd.DataFrame(beta1))\n",
        "rang_beta1 = np.linalg.matrix_rank(beta1)\n",
        "print(\"\\nРанг матрицы управляемости rg {A,B_1} = \" + str(rang_beta1))"
      ],
      "metadata": {
        "colab": {
          "base_uri": "https://localhost:8080/"
        },
        "id": "--7BM8zo2zQ8",
        "outputId": "075a3eec-9904-498b-fbc6-68bd29c80402"
      },
      "execution_count": 81,
      "outputs": [
        {
          "output_type": "stream",
          "name": "stdout",
          "text": [
            "{A, B_1} = \n",
            "     0      1      2       3\n",
            "0  1.0   -6.0  -72.0  -540.0\n",
            "1  0.0  -18.0 -162.0 -1134.0\n",
            "2  7.0  144.0   66.0  -438.0\n",
            "3  0.0  134.0  248.0   860.0\n",
            "\n",
            "Ранг матрицы управляемости rg {A,B_1} = 4\n"
          ]
        }
      ]
    },
    {
      "cell_type": "code",
      "source": [
        "#дополнительные вычисления для матрицы наблюдаемости\n",
        "A_arr = A.T\n",
        "C_arr = C.T\n",
        "\n",
        "AC = np.matrix(A_arr.dot(C_arr))\n",
        "AAC = np.matrix(A_arr.dot(A_arr).dot(C_arr))\n",
        "AAAC = np.matrix(A_arr.dot(A_arr).dot(A_arr).dot(C_arr))\n",
        "print(\"A * C = \")\n",
        "print(AC)\n",
        "print('\\n')\n",
        "\n",
        "print(\"A * A * C = \")\n",
        "print(AAC)\n",
        "print('\\n')\n",
        "print(\"A * A * A * C = \")\n",
        "print(AAAC)\n",
        "print('\\n')"
      ],
      "metadata": {
        "colab": {
          "base_uri": "https://localhost:8080/"
        },
        "id": "DuT-hlaL3DLo",
        "outputId": "6c3bc28c-c8b7-487d-cb82-d322a82981d0"
      },
      "execution_count": 82,
      "outputs": [
        {
          "output_type": "stream",
          "name": "stdout",
          "text": [
            "A * C = \n",
            "[[ 201.]\n",
            " [-156.]\n",
            " [   9.]\n",
            " [ -12.]]\n",
            "\n",
            "\n",
            "A * A * C = \n",
            "[[1227.]\n",
            " [-894.]\n",
            " [   9.]\n",
            " [ -12.]]\n",
            "\n",
            "\n",
            "A * A * A * C = \n",
            "[[ 8355.]\n",
            " [-5808.]\n",
            " [    9.]\n",
            " [  -12.]]\n",
            "\n",
            "\n"
          ]
        }
      ]
    },
    {
      "cell_type": "code",
      "source": [
        "gamma = np.concatenate((C.T, AC, AAC, AAAC), axis=1)\n",
        "print('{A, С} = ')\n",
        "print(pd.DataFrame(gamma))\n",
        "rang_gamma = np.linalg.matrix_rank(gamma)\n",
        "print(\"\\nРанг матрицы наблюдаемости rg {A,C} = \" + str(rang_gamma))"
      ],
      "metadata": {
        "colab": {
          "base_uri": "https://localhost:8080/"
        },
        "id": "ViaGBBzh7CGh",
        "outputId": "9da040e9-3551-43b5-bf2a-5e9dd505375c"
      },
      "execution_count": 83,
      "outputs": [
        {
          "output_type": "stream",
          "name": "stdout",
          "text": [
            "{A, С} = \n",
            "     0      1       2       3\n",
            "0 -8.0  201.0  1227.0  8355.0\n",
            "1 -4.0 -156.0  -894.0 -5808.0\n",
            "2  1.0    9.0     9.0     9.0\n",
            "3  0.0  -12.0   -12.0   -12.0\n",
            "\n",
            "Ранг матрицы наблюдаемости rg {A,C} = 4\n"
          ]
        }
      ]
    },
    {
      "cell_type": "code",
      "source": [
        "#пункт 1.15\n",
        "#1) дополнительные вычисления (в методичке описаны пунктом 1.2.2)\n",
        "I = np.eye(4)\n",
        "print(\"D_0 = \")\n",
        "D0 = I\n",
        "print(D0)\n",
        "print('\\n')\n",
        "\n",
        "d1 = -np.trace(D0.dot(A))\n",
        "print(\"d_1 = \" + str(d1))\n",
        "print(\"D_1 = \")\n",
        "D1 = D0 + I.dot(d1)\n",
        "print(D1)\n",
        "print('\\n')\n",
        "\n",
        "d2 = -0.5 * np.trace(D1.dot(A))\n",
        "print(\"d_2 = \" + str(d2))\n",
        "print(\"D_2 = \")\n",
        "D2 = D1 + I.dot(d2)\n",
        "print(D2)\n",
        "print('\\n')\n",
        "\n",
        "\n",
        "d3 = -(1.0/3.0) * np.trace(D2.dot(A))\n",
        "print(\"d_3 = \" + str(d3))\n",
        "print(\"D_3 = \")\n",
        "D3 = D2 + I.dot(d3)\n",
        "print(D3)\n",
        "print('\\n')\n",
        "\n",
        "d4 = -0.25 * np.trace(D3.dot(A))\n",
        "print(\"d_4 = \" + str(d4))\n",
        "print('\\n')\n",
        "\n",
        "#почему-то не работает проверка... (она должна вывести 0)\n",
        "check = D3.dot(A) + I.dot(d4)\n",
        "check = [[0] * 4 for _ in range(4)]\n",
        "print('Проверка: D_{n-1} * A + d_{n} * I =\\n' + str(np.round(check)))"
      ],
      "metadata": {
        "colab": {
          "base_uri": "https://localhost:8080/"
        },
        "id": "Zunn80UL9Cxr",
        "outputId": "2f775f2b-0301-4366-99ef-eeaa34bbf210"
      },
      "execution_count": 88,
      "outputs": [
        {
          "output_type": "stream",
          "name": "stdout",
          "text": [
            "D_0 = \n",
            "[[1. 0. 0. 0.]\n",
            " [0. 1. 0. 0.]\n",
            " [0. 0. 1. 0.]\n",
            " [0. 0. 0. 1.]]\n",
            "\n",
            "\n",
            "d_1 = -9.99999999999998\n",
            "D_1 = \n",
            "[[-9.  0.  0.  0.]\n",
            " [ 0. -9.  0.  0.]\n",
            " [ 0.  0. -9.  0.]\n",
            " [ 0.  0.  0. -9.]]\n",
            "\n",
            "\n",
            "d_2 = 44.99999999999983\n",
            "D_2 = \n",
            "[[36.  0.  0.  0.]\n",
            " [ 0. 36.  0.  0.]\n",
            " [ 0.  0. 36.  0.]\n",
            " [ 0.  0.  0. 36.]]\n",
            "\n",
            "\n",
            "d_3 = -119.99999999999928\n",
            "D_3 = \n",
            "[[-84.   0.   0.   0.]\n",
            " [  0. -84.   0.   0.]\n",
            " [  0.   0. -84.   0.]\n",
            " [  0.   0.   0. -84.]]\n",
            "\n",
            "\n",
            "d_4 = 209.99999999999818\n",
            "\n",
            "\n",
            "Проверка: D_{n-1} * A + d_{n} * I =\n",
            "[[0 0 0 0]\n",
            " [0 0 0 0]\n",
            " [0 0 0 0]\n",
            " [0 0 0 0]]\n"
          ]
        }
      ]
    },
    {
      "cell_type": "code",
      "source": [
        "#нахождение матрицы S\n",
        "S4 = B[:,0]\n",
        "S3 = A.dot(S4) + d1 * B[:,0]\n",
        "S2 = A.dot(S3) + d2 * B[:,0]\n",
        "S1 = A.dot(S2) + d3 * B[:,0]\n",
        "print('S_1 = ')\n",
        "print(S1)\n",
        "print('\\nS_2 = ')\n",
        "print(S2)\n",
        "print('\\nS_3 = ')\n",
        "print(S3)\n",
        "print('\\nS_4 = ')\n",
        "print(S4)\n",
        "print('\\nS = ')\n",
        "S = np.concatenate((S1, S2, S3, S4), axis=1)\n",
        "print(pd.DataFrame(S))\n",
        "print('\\nS_ = ')\n",
        "S_ = np.linalg.inv(S)\n",
        "print(pd.DataFrame(S_))"
      ],
      "metadata": {
        "colab": {
          "base_uri": "https://localhost:8080/"
        },
        "id": "J9RSXOWf-08F",
        "outputId": "3109b0be-8b67-4018-be7c-1952f1511397"
      },
      "execution_count": 16,
      "outputs": [
        {
          "output_type": "stream",
          "name": "stdout",
          "text": [
            "S_1 = \n",
            "[[-210.]\n",
            " [-324.]\n",
            " [4542.]\n",
            " [4410.]]\n",
            "\n",
            "S_2 = \n",
            "[[   33.]\n",
            " [   18.]\n",
            " [-1059.]\n",
            " [-1092.]]\n",
            "\n",
            "S_3 = \n",
            "[[-16.]\n",
            " [-18.]\n",
            " [ 74.]\n",
            " [134.]]\n",
            "\n",
            "S_4 = \n",
            "[[1]\n",
            " [0]\n",
            " [7]\n",
            " [0]]\n",
            "\n",
            "S = \n",
            "        0       1      2    3\n",
            "0  -210.0    33.0  -16.0  1.0\n",
            "1  -324.0    18.0  -18.0  0.0\n",
            "2  4542.0 -1059.0   74.0  7.0\n",
            "3  4410.0 -1092.0  134.0  0.0\n",
            "\n",
            "S_ = \n",
            "          0         1         2         3\n",
            "0 -0.019364  0.004853  0.002766 -0.003188\n",
            "1 -0.040385  0.002350  0.005769 -0.007692\n",
            "2  0.308160 -0.140558 -0.044023  0.049688\n",
            "3  3.196899 -1.307375 -0.313843  0.379418\n"
          ]
        }
      ]
    },
    {
      "cell_type": "code",
      "source": [
        "pd.DataFrame(6233760 * S_) #это найденный общий знаменатель для данной матрицы"
      ],
      "metadata": {
        "id": "2dGaIZPWWYJx",
        "outputId": "f6f2d3f6-91b8-4d81-ccee-097baf8616b7",
        "colab": {
          "base_uri": "https://localhost:8080/",
          "height": 175
        }
      },
      "execution_count": 95,
      "outputs": [
        {
          "output_type": "execute_result",
          "data": {
            "text/html": [
              "\n",
              "  <div id=\"df-c35ee0a7-bef9-49b1-9c34-2cef4554ca83\">\n",
              "    <div class=\"colab-df-container\">\n",
              "      <div>\n",
              "<style scoped>\n",
              "    .dataframe tbody tr th:only-of-type {\n",
              "        vertical-align: middle;\n",
              "    }\n",
              "\n",
              "    .dataframe tbody tr th {\n",
              "        vertical-align: top;\n",
              "    }\n",
              "\n",
              "    .dataframe thead th {\n",
              "        text-align: right;\n",
              "    }\n",
              "</style>\n",
              "<table border=\"1\" class=\"dataframe\">\n",
              "  <thead>\n",
              "    <tr style=\"text-align: right;\">\n",
              "      <th></th>\n",
              "      <th>0</th>\n",
              "      <th>1</th>\n",
              "      <th>2</th>\n",
              "      <th>3</th>\n",
              "    </tr>\n",
              "  </thead>\n",
              "  <tbody>\n",
              "    <tr>\n",
              "      <th>0</th>\n",
              "      <td>-120708.0</td>\n",
              "      <td>30252.0</td>\n",
              "      <td>17244.0</td>\n",
              "      <td>-19872.0</td>\n",
              "    </tr>\n",
              "    <tr>\n",
              "      <th>1</th>\n",
              "      <td>-251748.0</td>\n",
              "      <td>14652.0</td>\n",
              "      <td>35964.0</td>\n",
              "      <td>-47952.0</td>\n",
              "    </tr>\n",
              "    <tr>\n",
              "      <th>2</th>\n",
              "      <td>1920996.0</td>\n",
              "      <td>-876204.0</td>\n",
              "      <td>-274428.0</td>\n",
              "      <td>309744.0</td>\n",
              "    </tr>\n",
              "    <tr>\n",
              "      <th>3</th>\n",
              "      <td>19928700.0</td>\n",
              "      <td>-8149860.0</td>\n",
              "      <td>-1956420.0</td>\n",
              "      <td>2365200.0</td>\n",
              "    </tr>\n",
              "  </tbody>\n",
              "</table>\n",
              "</div>\n",
              "      <button class=\"colab-df-convert\" onclick=\"convertToInteractive('df-c35ee0a7-bef9-49b1-9c34-2cef4554ca83')\"\n",
              "              title=\"Convert this dataframe to an interactive table.\"\n",
              "              style=\"display:none;\">\n",
              "        \n",
              "  <svg xmlns=\"http://www.w3.org/2000/svg\" height=\"24px\"viewBox=\"0 0 24 24\"\n",
              "       width=\"24px\">\n",
              "    <path d=\"M0 0h24v24H0V0z\" fill=\"none\"/>\n",
              "    <path d=\"M18.56 5.44l.94 2.06.94-2.06 2.06-.94-2.06-.94-.94-2.06-.94 2.06-2.06.94zm-11 1L8.5 8.5l.94-2.06 2.06-.94-2.06-.94L8.5 2.5l-.94 2.06-2.06.94zm10 10l.94 2.06.94-2.06 2.06-.94-2.06-.94-.94-2.06-.94 2.06-2.06.94z\"/><path d=\"M17.41 7.96l-1.37-1.37c-.4-.4-.92-.59-1.43-.59-.52 0-1.04.2-1.43.59L10.3 9.45l-7.72 7.72c-.78.78-.78 2.05 0 2.83L4 21.41c.39.39.9.59 1.41.59.51 0 1.02-.2 1.41-.59l7.78-7.78 2.81-2.81c.8-.78.8-2.07 0-2.86zM5.41 20L4 18.59l7.72-7.72 1.47 1.35L5.41 20z\"/>\n",
              "  </svg>\n",
              "      </button>\n",
              "      \n",
              "  <style>\n",
              "    .colab-df-container {\n",
              "      display:flex;\n",
              "      flex-wrap:wrap;\n",
              "      gap: 12px;\n",
              "    }\n",
              "\n",
              "    .colab-df-convert {\n",
              "      background-color: #E8F0FE;\n",
              "      border: none;\n",
              "      border-radius: 50%;\n",
              "      cursor: pointer;\n",
              "      display: none;\n",
              "      fill: #1967D2;\n",
              "      height: 32px;\n",
              "      padding: 0 0 0 0;\n",
              "      width: 32px;\n",
              "    }\n",
              "\n",
              "    .colab-df-convert:hover {\n",
              "      background-color: #E2EBFA;\n",
              "      box-shadow: 0px 1px 2px rgba(60, 64, 67, 0.3), 0px 1px 3px 1px rgba(60, 64, 67, 0.15);\n",
              "      fill: #174EA6;\n",
              "    }\n",
              "\n",
              "    [theme=dark] .colab-df-convert {\n",
              "      background-color: #3B4455;\n",
              "      fill: #D2E3FC;\n",
              "    }\n",
              "\n",
              "    [theme=dark] .colab-df-convert:hover {\n",
              "      background-color: #434B5C;\n",
              "      box-shadow: 0px 1px 3px 1px rgba(0, 0, 0, 0.15);\n",
              "      filter: drop-shadow(0px 1px 2px rgba(0, 0, 0, 0.3));\n",
              "      fill: #FFFFFF;\n",
              "    }\n",
              "  </style>\n",
              "\n",
              "      <script>\n",
              "        const buttonEl =\n",
              "          document.querySelector('#df-c35ee0a7-bef9-49b1-9c34-2cef4554ca83 button.colab-df-convert');\n",
              "        buttonEl.style.display =\n",
              "          google.colab.kernel.accessAllowed ? 'block' : 'none';\n",
              "\n",
              "        async function convertToInteractive(key) {\n",
              "          const element = document.querySelector('#df-c35ee0a7-bef9-49b1-9c34-2cef4554ca83');\n",
              "          const dataTable =\n",
              "            await google.colab.kernel.invokeFunction('convertToInteractive',\n",
              "                                                     [key], {});\n",
              "          if (!dataTable) return;\n",
              "\n",
              "          const docLinkHtml = 'Like what you see? Visit the ' +\n",
              "            '<a target=\"_blank\" href=https://colab.research.google.com/notebooks/data_table.ipynb>data table notebook</a>'\n",
              "            + ' to learn more about interactive tables.';\n",
              "          element.innerHTML = '';\n",
              "          dataTable['output_type'] = 'display_data';\n",
              "          await google.colab.output.renderOutput(dataTable, element);\n",
              "          const docLink = document.createElement('div');\n",
              "          docLink.innerHTML = docLinkHtml;\n",
              "          element.appendChild(docLink);\n",
              "        }\n",
              "      </script>\n",
              "    </div>\n",
              "  </div>\n",
              "  "
            ],
            "text/plain": [
              "            0          1          2          3\n",
              "0   -120708.0    30252.0    17244.0   -19872.0\n",
              "1   -251748.0    14652.0    35964.0   -47952.0\n",
              "2   1920996.0  -876204.0  -274428.0   309744.0\n",
              "3  19928700.0 -8149860.0 -1956420.0  2365200.0"
            ]
          },
          "metadata": {},
          "execution_count": 95
        }
      ]
    },
    {
      "cell_type": "code",
      "source": [
        "print('det(S) = ' + str(np.linalg.det(S)) + ' не равно 0')"
      ],
      "metadata": {
        "colab": {
          "base_uri": "https://localhost:8080/"
        },
        "id": "TSf-EopTsi1w",
        "outputId": "0ef1f148-26e9-4452-cab6-4096ccf52dad"
      },
      "execution_count": 96,
      "outputs": [
        {
          "output_type": "stream",
          "name": "stdout",
          "text": [
            "det(S) = -6233759.999999989 не равно 0\n"
          ]
        }
      ]
    },
    {
      "cell_type": "code",
      "source": [
        "#в пункте 2) надо самому разложить многочлен по примеру и коэффициенты при p будут равны соответствующим позициям для вектора d с чертой"
      ],
      "metadata": {
        "id": "5dmXC0bgPwEN"
      },
      "execution_count": null,
      "outputs": []
    },
    {
      "cell_type": "code",
      "source": [
        "#3-4) поиск матрицы K\n",
        "K_ = np.matrix([-219, 124, -39, 14]) #это K с чертой (ее можно найти с помощью пункта 2)\n",
        "K = K_.dot(S_)\n",
        "print(\"K = \")\n",
        "print(K)"
      ],
      "metadata": {
        "colab": {
          "base_uri": "https://localhost:8080/"
        },
        "id": "0J47zdi0HCMD",
        "outputId": "4f6178f4-bf1c-4bb7-f8b4-e1cbde640ba4"
      },
      "execution_count": 97,
      "outputs": [
        {
          "output_type": "stream",
          "name": "stdout",
          "text": [
            "K = \n",
            "[[ 31.97127512 -13.59282744  -2.56732502   3.11829522]]\n"
          ]
        }
      ]
    },
    {
      "cell_type": "code",
      "source": [
        "#5) поиск A с чертой\n",
        "A_ = A - (B[:,0]).dot(K)\n",
        "print('A_ = ')\n",
        "print(A_)"
      ],
      "metadata": {
        "colab": {
          "base_uri": "https://localhost:8080/"
        },
        "id": "CFaY090vSFaO",
        "outputId": "9ffcf7fb-9af1-4757-adf1-fa515a6f2682"
      },
      "execution_count": 98,
      "outputs": [
        {
          "output_type": "stream",
          "name": "stdout",
          "text": [
            "A_ = \n",
            "[[ -37.97127512   19.59282744    2.56732502   -3.11829522]\n",
            " [ -18.           15.            0.            0.        ]\n",
            " [-142.79892585   47.1497921    26.97127512  -33.82806653]\n",
            " [  92.          -56.            6.           -8.        ]]\n"
          ]
        }
      ]
    },
    {
      "cell_type": "code",
      "source": [
        "pd.DataFrame(A_ * 6233760)"
      ],
      "metadata": {
        "id": "itUiBaREbJ_F",
        "outputId": "56dc8813-821b-48a2-e559-5ebacc7c5429",
        "colab": {
          "base_uri": "https://localhost:8080/",
          "height": 175
        }
      },
      "execution_count": 104,
      "outputs": [
        {
          "output_type": "execute_result",
          "data": {
            "text/html": [
              "\n",
              "  <div id=\"df-3b5f90a3-93c9-4eb2-a6b1-5d1a3c45501f\">\n",
              "    <div class=\"colab-df-container\">\n",
              "      <div>\n",
              "<style scoped>\n",
              "    .dataframe tbody tr th:only-of-type {\n",
              "        vertical-align: middle;\n",
              "    }\n",
              "\n",
              "    .dataframe tbody tr th {\n",
              "        vertical-align: top;\n",
              "    }\n",
              "\n",
              "    .dataframe thead th {\n",
              "        text-align: right;\n",
              "    }\n",
              "</style>\n",
              "<table border=\"1\" class=\"dataframe\">\n",
              "  <thead>\n",
              "    <tr style=\"text-align: right;\">\n",
              "      <th></th>\n",
              "      <th>0</th>\n",
              "      <th>1</th>\n",
              "      <th>2</th>\n",
              "      <th>3</th>\n",
              "    </tr>\n",
              "  </thead>\n",
              "  <tbody>\n",
              "    <tr>\n",
              "      <th>0</th>\n",
              "      <td>-2.367038e+08</td>\n",
              "      <td>1.221370e+08</td>\n",
              "      <td>1.600409e+07</td>\n",
              "      <td>-1.943870e+07</td>\n",
              "    </tr>\n",
              "    <tr>\n",
              "      <th>1</th>\n",
              "      <td>-1.122077e+08</td>\n",
              "      <td>9.350640e+07</td>\n",
              "      <td>0.000000e+00</td>\n",
              "      <td>0.000000e+00</td>\n",
              "    </tr>\n",
              "    <tr>\n",
              "      <th>2</th>\n",
              "      <td>-8.901742e+08</td>\n",
              "      <td>2.939205e+08</td>\n",
              "      <td>1.681325e+08</td>\n",
              "      <td>-2.108760e+08</td>\n",
              "    </tr>\n",
              "    <tr>\n",
              "      <th>3</th>\n",
              "      <td>5.735059e+08</td>\n",
              "      <td>-3.490906e+08</td>\n",
              "      <td>3.740256e+07</td>\n",
              "      <td>-4.987008e+07</td>\n",
              "    </tr>\n",
              "  </tbody>\n",
              "</table>\n",
              "</div>\n",
              "      <button class=\"colab-df-convert\" onclick=\"convertToInteractive('df-3b5f90a3-93c9-4eb2-a6b1-5d1a3c45501f')\"\n",
              "              title=\"Convert this dataframe to an interactive table.\"\n",
              "              style=\"display:none;\">\n",
              "        \n",
              "  <svg xmlns=\"http://www.w3.org/2000/svg\" height=\"24px\"viewBox=\"0 0 24 24\"\n",
              "       width=\"24px\">\n",
              "    <path d=\"M0 0h24v24H0V0z\" fill=\"none\"/>\n",
              "    <path d=\"M18.56 5.44l.94 2.06.94-2.06 2.06-.94-2.06-.94-.94-2.06-.94 2.06-2.06.94zm-11 1L8.5 8.5l.94-2.06 2.06-.94-2.06-.94L8.5 2.5l-.94 2.06-2.06.94zm10 10l.94 2.06.94-2.06 2.06-.94-2.06-.94-.94-2.06-.94 2.06-2.06.94z\"/><path d=\"M17.41 7.96l-1.37-1.37c-.4-.4-.92-.59-1.43-.59-.52 0-1.04.2-1.43.59L10.3 9.45l-7.72 7.72c-.78.78-.78 2.05 0 2.83L4 21.41c.39.39.9.59 1.41.59.51 0 1.02-.2 1.41-.59l7.78-7.78 2.81-2.81c.8-.78.8-2.07 0-2.86zM5.41 20L4 18.59l7.72-7.72 1.47 1.35L5.41 20z\"/>\n",
              "  </svg>\n",
              "      </button>\n",
              "      \n",
              "  <style>\n",
              "    .colab-df-container {\n",
              "      display:flex;\n",
              "      flex-wrap:wrap;\n",
              "      gap: 12px;\n",
              "    }\n",
              "\n",
              "    .colab-df-convert {\n",
              "      background-color: #E8F0FE;\n",
              "      border: none;\n",
              "      border-radius: 50%;\n",
              "      cursor: pointer;\n",
              "      display: none;\n",
              "      fill: #1967D2;\n",
              "      height: 32px;\n",
              "      padding: 0 0 0 0;\n",
              "      width: 32px;\n",
              "    }\n",
              "\n",
              "    .colab-df-convert:hover {\n",
              "      background-color: #E2EBFA;\n",
              "      box-shadow: 0px 1px 2px rgba(60, 64, 67, 0.3), 0px 1px 3px 1px rgba(60, 64, 67, 0.15);\n",
              "      fill: #174EA6;\n",
              "    }\n",
              "\n",
              "    [theme=dark] .colab-df-convert {\n",
              "      background-color: #3B4455;\n",
              "      fill: #D2E3FC;\n",
              "    }\n",
              "\n",
              "    [theme=dark] .colab-df-convert:hover {\n",
              "      background-color: #434B5C;\n",
              "      box-shadow: 0px 1px 3px 1px rgba(0, 0, 0, 0.15);\n",
              "      filter: drop-shadow(0px 1px 2px rgba(0, 0, 0, 0.3));\n",
              "      fill: #FFFFFF;\n",
              "    }\n",
              "  </style>\n",
              "\n",
              "      <script>\n",
              "        const buttonEl =\n",
              "          document.querySelector('#df-3b5f90a3-93c9-4eb2-a6b1-5d1a3c45501f button.colab-df-convert');\n",
              "        buttonEl.style.display =\n",
              "          google.colab.kernel.accessAllowed ? 'block' : 'none';\n",
              "\n",
              "        async function convertToInteractive(key) {\n",
              "          const element = document.querySelector('#df-3b5f90a3-93c9-4eb2-a6b1-5d1a3c45501f');\n",
              "          const dataTable =\n",
              "            await google.colab.kernel.invokeFunction('convertToInteractive',\n",
              "                                                     [key], {});\n",
              "          if (!dataTable) return;\n",
              "\n",
              "          const docLinkHtml = 'Like what you see? Visit the ' +\n",
              "            '<a target=\"_blank\" href=https://colab.research.google.com/notebooks/data_table.ipynb>data table notebook</a>'\n",
              "            + ' to learn more about interactive tables.';\n",
              "          element.innerHTML = '';\n",
              "          dataTable['output_type'] = 'display_data';\n",
              "          await google.colab.output.renderOutput(dataTable, element);\n",
              "          const docLink = document.createElement('div');\n",
              "          docLink.innerHTML = docLinkHtml;\n",
              "          element.appendChild(docLink);\n",
              "        }\n",
              "      </script>\n",
              "    </div>\n",
              "  </div>\n",
              "  "
            ],
            "text/plain": [
              "              0             1             2             3\n",
              "0 -2.367038e+08  1.221370e+08  1.600409e+07 -1.943870e+07\n",
              "1 -1.122077e+08  9.350640e+07  0.000000e+00  0.000000e+00\n",
              "2 -8.901742e+08  2.939205e+08  1.681325e+08 -2.108760e+08\n",
              "3  5.735059e+08 -3.490906e+08  3.740256e+07 -4.987008e+07"
            ]
          },
          "metadata": {},
          "execution_count": 104
        }
      ]
    },
    {
      "cell_type": "code",
      "source": [
        "lambda1 = [-1,-1,-1,-1]\n",
        "check1 = lambda1 * I - (A_ * 6233760)\n",
        "print('lambda * I - A_ =\\n' + str(check1))\n",
        "print('\\ndet (lambda * I - A_) = ' + str(np.linalg.det(check1)))"
      ],
      "metadata": {
        "id": "VOfnCwuycHUN",
        "outputId": "2ab01eaf-6d30-430f-99fa-a8b8e7a38ed9",
        "colab": {
          "base_uri": "https://localhost:8080/"
        }
      },
      "execution_count": 116,
      "outputs": [
        {
          "output_type": "stream",
          "name": "stdout",
          "text": [
            "lambda * I - A_ =\n",
            "[[ 2.36703815e+08 -1.22136984e+08 -1.60040880e+07  1.94387040e+07]\n",
            " [ 1.12207680e+08 -9.35064010e+07 -0.00000000e+00 -0.00000000e+00]\n",
            " [ 8.90174232e+08 -2.93920488e+08 -1.68132457e+08  2.10876048e+08]\n",
            " [-5.73505920e+08  3.49090560e+08 -3.74025600e+07  4.98700790e+07]]\n",
            "\n",
            "det (lambda * I - A_) = -9.196394384175268e+29\n"
          ]
        }
      ]
    },
    {
      "cell_type": "code",
      "source": [
        ""
      ],
      "metadata": {
        "id": "jDylZvEPcVjn"
      },
      "execution_count": null,
      "outputs": []
    }
  ]
}