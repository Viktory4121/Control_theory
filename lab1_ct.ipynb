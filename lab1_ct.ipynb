{
  "nbformat": 4,
  "nbformat_minor": 0,
  "metadata": {
    "colab": {
      "name": "lab1_ct.ipynb",
      "provenance": [],
      "collapsed_sections": [],
      "authorship_tag": "ABX9TyPTKo1ZH4Rds8o0eBf/muEM",
      "include_colab_link": true
    },
    "kernelspec": {
      "name": "python3",
      "display_name": "Python 3"
    },
    "language_info": {
      "name": "python"
    }
  },
  "cells": [
    {
      "cell_type": "markdown",
      "metadata": {
        "id": "view-in-github",
        "colab_type": "text"
      },
      "source": [
        "<a href=\"https://colab.research.google.com/github/Viktory4121/Control_theory/blob/main/lab1_ct.ipynb\" target=\"_parent\"><img src=\"https://colab.research.google.com/assets/colab-badge.svg\" alt=\"Open In Colab\"/></a>"
      ]
    },
    {
      "cell_type": "code",
      "execution_count": 44,
      "metadata": {
        "id": "ptY-1mfW0yb2"
      },
      "outputs": [],
      "source": [
        "import pandas as pd\n",
        "import numpy as np\n",
        "import math"
      ]
    },
    {
      "cell_type": "code",
      "source": [
        "#Матрица собственных чисел:\n",
        "lambda_matrix = np.matrix([[3, 0, 0, 0], [0, 6, 0, 0], [0, 0, 1, 0], [0, 0, 0, 0]])\n",
        "print(lambda_matrix)"
      ],
      "metadata": {
        "colab": {
          "base_uri": "https://localhost:8080/"
        },
        "id": "iTp9Vy0T04mG",
        "outputId": "a34a379f-e69c-4e6b-c5cb-7fc5c4e3ca63"
      },
      "execution_count": 45,
      "outputs": [
        {
          "output_type": "stream",
          "name": "stdout",
          "text": [
            "[[3 0 0 0]\n",
            " [0 6 0 0]\n",
            " [0 0 1 0]\n",
            " [0 0 0 0]]\n"
          ]
        }
      ]
    },
    {
      "cell_type": "code",
      "source": [
        "#обратимая матрица\n",
        "L = np.matrix([[2,1,0,0],[3,2,0,0],[1,1,3,4],[2,-1,2,3]])\n",
        "L_ = np.linalg.inv(L)\n",
        "print(L)\n",
        "print(L_)"
      ],
      "metadata": {
        "colab": {
          "base_uri": "https://localhost:8080/"
        },
        "id": "4w7zjhBk1vH-",
        "outputId": "3a18fe39-656f-48d1-93ec-9ec74246f5e4"
      },
      "execution_count": 46,
      "outputs": [
        {
          "output_type": "stream",
          "name": "stdout",
          "text": [
            "[[ 2  1  0  0]\n",
            " [ 3  2  0  0]\n",
            " [ 1  1  3  4]\n",
            " [ 2 -1  2  3]]\n",
            "[[  2.  -1.   0.   0.]\n",
            " [ -3.   2.  -0.  -0.]\n",
            " [ 31. -19.   3.  -4.]\n",
            " [-23.  14.  -2.   3.]]\n"
          ]
        }
      ]
    },
    {
      "cell_type": "code",
      "source": [
        "#исходная матрица\n",
        "A = L.dot(lambda_matrix).dot(L_)\n",
        "print(A)"
      ],
      "metadata": {
        "colab": {
          "base_uri": "https://localhost:8080/"
        },
        "id": "32RnsVUS2Pgh",
        "outputId": "44c63234-8878-4ec3-c35b-977829edf3d3"
      },
      "execution_count": 47,
      "outputs": [
        {
          "output_type": "stream",
          "name": "stdout",
          "text": [
            "[[ -6.   6.   0.   0.]\n",
            " [-18.  15.   0.   0.]\n",
            " [ 81. -48.   9. -12.]\n",
            " [ 92. -56.   6.  -8.]]\n"
          ]
        }
      ]
    },
    {
      "cell_type": "code",
      "source": [
        "#дано\n",
        "B = np.matrix([[1, -2], [0, 5],[7, -9],[0, 2]])\n",
        "C = np.matrix([-8, -4, 1, 0])\n",
        "x0 = np.matrix([0, -7, 8, -1]).T\n",
        "print(B)\n",
        "print(C)\n",
        "print(x0)"
      ],
      "metadata": {
        "id": "5BN9vbdz3Yn9",
        "colab": {
          "base_uri": "https://localhost:8080/"
        },
        "outputId": "78c9f558-e4fa-4aee-bbcf-4b67266871e8"
      },
      "execution_count": 48,
      "outputs": [
        {
          "output_type": "stream",
          "name": "stdout",
          "text": [
            "[[ 1 -2]\n",
            " [ 0  5]\n",
            " [ 7 -9]\n",
            " [ 0  2]]\n",
            "[[-8 -4  1  0]]\n",
            "[[ 0]\n",
            " [-7]\n",
            " [ 8]\n",
            " [-1]]\n"
          ]
        }
      ]
    },
    {
      "cell_type": "code",
      "source": [
        "#составление матрицы управляемости\n",
        "#print(B)\n",
        "\n",
        "AB = A.dot(B)\n",
        "print(\"A * B = \")\n",
        "print(AB)\n",
        "print(\"\\n\")\n",
        "\n",
        "AAB = A.dot(A).dot(B)\n",
        "print(\"A * A * B = \")\n",
        "print(AAB)\n",
        "print(\"\\n\")\n",
        "\n",
        "AAAB = A.dot(A).dot(A).dot(B)\n",
        "print(\"A * A * A * B = \")\n",
        "print(AAAB)"
      ],
      "metadata": {
        "colab": {
          "base_uri": "https://localhost:8080/"
        },
        "id": "z8EDG3gErQDn",
        "outputId": "1512b388-1591-42d1-80e8-d7ef3ccb04da"
      },
      "execution_count": 53,
      "outputs": [
        {
          "output_type": "stream",
          "name": "stdout",
          "text": [
            "A * B = \n",
            "[[  -6.   42.]\n",
            " [ -18.  111.]\n",
            " [ 144. -507.]\n",
            " [ 134. -534.]]\n",
            "\n",
            "\n",
            "A * A * B = \n",
            "[[  -72.   414.]\n",
            " [ -162.   909.]\n",
            " [   66.   -81.]\n",
            " [  248. -1122.]]\n",
            "\n",
            "\n",
            "A * A * A * B = \n",
            "[[ -540.  2970.]\n",
            " [-1134.  6183.]\n",
            " [ -438.  2637.]\n",
            " [  860. -4326.]]\n"
          ]
        }
      ]
    },
    {
      "cell_type": "code",
      "source": [
        "#матрица управляемости\n",
        "beta = np.concatenate((np.round(B), np.round(AB), np.round(AAB), np.round(AAAB)), axis=1)\n",
        "print(\"{A,B} = \")\n",
        "print(pd.DataFrame(beta))"
      ],
      "metadata": {
        "colab": {
          "base_uri": "https://localhost:8080/"
        },
        "id": "SjXNaaIOyqTV",
        "outputId": "e008dd0e-a2b4-48a3-b236-acf91dccb554"
      },
      "execution_count": 60,
      "outputs": [
        {
          "output_type": "stream",
          "name": "stdout",
          "text": [
            "{A,B} = \n",
            "     0    1      2      3      4       5       6       7\n",
            "0  1.0 -2.0   -6.0   42.0  -72.0   414.0  -540.0  2970.0\n",
            "1  0.0  5.0  -18.0  111.0 -162.0   909.0 -1134.0  6183.0\n",
            "2  7.0 -9.0  144.0 -507.0   66.0   -81.0  -438.0  2637.0\n",
            "3  0.0  2.0  134.0 -534.0  248.0 -1122.0   860.0 -4326.0\n"
          ]
        }
      ]
    },
    {
      "cell_type": "code",
      "source": [
        "rang_beta = np.linalg.matrix_rank(beta)\n",
        "print(\"Ранг матрицы управляемости rg {A,B} = \" + str(rang_beta))"
      ],
      "metadata": {
        "colab": {
          "base_uri": "https://localhost:8080/"
        },
        "id": "QsnOyf_bz2qS",
        "outputId": "b61e5dae-4e64-4fd7-d9a6-b7cbe7e4296f"
      },
      "execution_count": 62,
      "outputs": [
        {
          "output_type": "stream",
          "name": "stdout",
          "text": [
            "Ранг матрицы управляемости rg {A,B} = 4\n"
          ]
        }
      ]
    },
    {
      "cell_type": "code",
      "source": [
        "#проверка для 1.15\n",
        "print(\"B_1 = \")\n",
        "print(B[:,0])\n",
        "print('\\n')\n",
        "\n",
        "print('A * B_1 = ')\n",
        "AB1 = A.dot(B[:,0])\n",
        "print(AB1)\n",
        "print('\\n')\n",
        "\n",
        "AAB1 = A.dot(A).dot(B[:,0])\n",
        "print('A * A * B_1 = ')\n",
        "print(AAB1)\n",
        "print('\\n')\n",
        "\n",
        "print('A * A * A * B_1 = ')\n",
        "AAAB1 = A.dot(A).dot(A).dot(B[:,0])\n",
        "print(AAAB1)"
      ],
      "metadata": {
        "colab": {
          "base_uri": "https://localhost:8080/"
        },
        "id": "_nAZ3tkZ04cQ",
        "outputId": "17e9df45-653b-4742-92e5-94fa792d731e"
      },
      "execution_count": 63,
      "outputs": [
        {
          "output_type": "stream",
          "name": "stdout",
          "text": [
            "B_1 = \n",
            "[[1]\n",
            " [0]\n",
            " [7]\n",
            " [0]]\n",
            "\n",
            "\n",
            "A * B_1 = \n",
            "[[ -6.]\n",
            " [-18.]\n",
            " [144.]\n",
            " [134.]]\n",
            "\n",
            "\n",
            "A * A * B_1 = \n",
            "[[ -72.]\n",
            " [-162.]\n",
            " [  66.]\n",
            " [ 248.]]\n",
            "\n",
            "\n",
            "A * A * A * B_1 = \n",
            "[[ -540.]\n",
            " [-1134.]\n",
            " [ -438.]\n",
            " [  860.]]\n"
          ]
        }
      ]
    },
    {
      "cell_type": "code",
      "source": [
        "beta1 = np.concatenate((B[:,0], AB1, AAB1, AAAB1), axis=1)\n",
        "print('{A, B_1} = ')\n",
        "print(pd.DataFrame(beta1))\n",
        "rang_beta1 = np.linalg.matrix_rank(beta1)\n",
        "print(\"\\nРанг матрицы управляемости rg {A,B_1} = \" + str(rang_beta1))"
      ],
      "metadata": {
        "colab": {
          "base_uri": "https://localhost:8080/"
        },
        "id": "--7BM8zo2zQ8",
        "outputId": "861940dc-97da-4114-f4b2-9a4fb3ecd690"
      },
      "execution_count": 66,
      "outputs": [
        {
          "output_type": "stream",
          "name": "stdout",
          "text": [
            "{A, B_1} = \n",
            "     0      1      2       3\n",
            "0  1.0   -6.0  -72.0  -540.0\n",
            "1  0.0  -18.0 -162.0 -1134.0\n",
            "2  7.0  144.0   66.0  -438.0\n",
            "3  0.0  134.0  248.0   860.0\n",
            "\n",
            "Ранг матрицы управляемости rg {A,B_1} = 4\n"
          ]
        }
      ]
    },
    {
      "cell_type": "code",
      "source": [
        "#матрица наблюдаемости\n",
        "A_arr = A.T\n",
        "C_arr = C.T\n",
        "#print(C_arr)\n",
        "\n",
        "AC = np.matrix(A_arr.dot(C_arr))\n",
        "AAC = np.matrix(A_arr.dot(A_arr).dot(C_arr))\n",
        "AAAC = np.matrix(A_arr.dot(A_arr).dot(A_arr).dot(C_arr))\n",
        "print(\"A * C = \")\n",
        "print(AC)\n",
        "print('\\n')\n",
        "\n",
        "print(\"A * A * C = \")\n",
        "print(AAC)\n",
        "print('\\n')\n",
        "print(\"A * A * A * C = \")\n",
        "print(AAAC)\n",
        "print('\\n')"
      ],
      "metadata": {
        "colab": {
          "base_uri": "https://localhost:8080/"
        },
        "id": "DuT-hlaL3DLo",
        "outputId": "ca0f6ea3-d1ae-43a1-fe98-9a3119d0bb38"
      },
      "execution_count": 69,
      "outputs": [
        {
          "output_type": "stream",
          "name": "stdout",
          "text": [
            "A * C = \n",
            "[[ 201.]\n",
            " [-156.]\n",
            " [   9.]\n",
            " [ -12.]]\n",
            "\n",
            "\n",
            "A * A * C = \n",
            "[[1227.]\n",
            " [-894.]\n",
            " [   9.]\n",
            " [ -12.]]\n",
            "\n",
            "\n",
            "A * A * A * C = \n",
            "[[ 8355.]\n",
            " [-5808.]\n",
            " [    9.]\n",
            " [  -12.]]\n",
            "\n",
            "\n"
          ]
        }
      ]
    },
    {
      "cell_type": "code",
      "source": [
        "gamma = np.concatenate((C.T, AC, AAC, AAAC), axis=1)\n",
        "print('{A, С} = ')\n",
        "print(pd.DataFrame(gamma))\n",
        "rang_gamma = np.linalg.matrix_rank(gamma)\n",
        "print(\"\\nРанг матрицы наблюдаемости rg {A,C} = \" + str(rang_gamma))"
      ],
      "metadata": {
        "colab": {
          "base_uri": "https://localhost:8080/"
        },
        "id": "ViaGBBzh7CGh",
        "outputId": "55b14c33-6c09-49c2-8745-6d905775e212"
      },
      "execution_count": 70,
      "outputs": [
        {
          "output_type": "stream",
          "name": "stdout",
          "text": [
            "{A, С} = \n",
            "     0      1       2       3\n",
            "0 -8.0  201.0  1227.0  8355.0\n",
            "1 -4.0 -156.0  -894.0 -5808.0\n",
            "2  1.0    9.0     9.0     9.0\n",
            "3  0.0  -12.0   -12.0   -12.0\n",
            "\n",
            "Ранг матрицы наблюдаемости rg {A,C} = 4\n"
          ]
        }
      ]
    },
    {
      "cell_type": "code",
      "source": [
        "#пункт 1.15\n",
        "#1)\n",
        "I = np.eye(4)\n",
        "print(\"D_0 = \")\n",
        "D0 = I\n",
        "print(D0)\n",
        "print('\\n')\n",
        "\n",
        "d1 = np.round(-np.trace(D0.dot(A)))\n",
        "print(\"d_1 = \" + str(d1))\n",
        "print(\"D_1 = \")\n",
        "D1 = D0 + d1 * I\n",
        "print(D1)\n",
        "print('\\n')\n",
        "\n",
        "d2 = np.round(-(1.0/2) * np.trace(D1.dot(A)))\n",
        "print(\"d_2 = \" + str(d2))\n",
        "print(\"D_2 = \")\n",
        "D2 = D1 + d2 * I\n",
        "print(D2)\n",
        "print('\\n')\n",
        "\n",
        "\n",
        "d3 = np.round(-(1.0/3) * np.trace(D2.dot(A)))\n",
        "print(\"d_3 = \" + str(d3))\n",
        "print(\"D_3 = \")\n",
        "D3 = D2 + d3 * I\n",
        "print(D3)\n",
        "print('\\n')\n",
        "\n",
        "d4 = np.round(-(1.0/4) * np.trace(D3.dot(A)))\n",
        "print(\"d_4 = \" + str(d4))\n",
        "print('\\n')\n",
        "\n",
        "\n",
        "check = D3.dot(A) + d4 * I\n",
        "print(check)"
      ],
      "metadata": {
        "colab": {
          "base_uri": "https://localhost:8080/"
        },
        "id": "Zunn80UL9Cxr",
        "outputId": "03888ba3-bfcc-4a2e-bbc7-dea80ffab69c"
      },
      "execution_count": 73,
      "outputs": [
        {
          "output_type": "stream",
          "name": "stdout",
          "text": [
            "D_0 = \n",
            "[[1. 0. 0. 0.]\n",
            " [0. 1. 0. 0.]\n",
            " [0. 0. 1. 0.]\n",
            " [0. 0. 0. 1.]]\n",
            "\n",
            "\n",
            "d_1 = -10.0\n",
            "D_1 = \n",
            "[[-9.  0.  0.  0.]\n",
            " [ 0. -9.  0.  0.]\n",
            " [ 0.  0. -9.  0.]\n",
            " [ 0.  0.  0. -9.]]\n",
            "\n",
            "\n",
            "d_2 = 45.0\n",
            "D_2 = \n",
            "[[36.  0.  0.  0.]\n",
            " [ 0. 36.  0.  0.]\n",
            " [ 0.  0. 36.  0.]\n",
            " [ 0.  0.  0. 36.]]\n",
            "\n",
            "\n",
            "d_3 = -120.0\n",
            "D_3 = \n",
            "[[-84.   0.   0.   0.]\n",
            " [  0. -84.   0.   0.]\n",
            " [  0.   0. -84.   0.]\n",
            " [  0.   0.   0. -84.]]\n",
            "\n",
            "\n",
            "d_4 = 210.0\n",
            "\n",
            "\n",
            "[[  714.  -504.     0.     0.]\n",
            " [ 1512. -1050.     0.     0.]\n",
            " [-6804.  4032.  -546.  1008.]\n",
            " [-7728.  4704.  -504.   882.]]\n"
          ]
        }
      ]
    },
    {
      "cell_type": "code",
      "source": [
        "S4 = B[:,0]\n",
        "S3 = A.dot(S4) + d1 * B[:,0]\n",
        "S2 = A.dot(S3) + d2 * B[:,0]\n",
        "S1 = A.dot(S2) + d3 * B[:,0]\n",
        "print('S_1 = ')\n",
        "print(S1)\n",
        "print('\\nS_2 = ')\n",
        "print(S2)\n",
        "print('\\nS_3 = ')\n",
        "print(S3)\n",
        "print('\\nS_4 = ')\n",
        "print(S4)\n",
        "print('\\nS = ')\n",
        "S = np.concatenate((S1, S2, S3, S4), axis=1)\n",
        "print(pd.DataFrame(S))\n",
        "print('\\nS_ = ')\n",
        "S_ = np.linalg.inv(S)\n",
        "print(pd.DataFrame(S_))"
      ],
      "metadata": {
        "colab": {
          "base_uri": "https://localhost:8080/"
        },
        "id": "J9RSXOWf-08F",
        "outputId": "aac3a40b-bea3-45b4-dea3-3c49b7dc5a5e"
      },
      "execution_count": 74,
      "outputs": [
        {
          "output_type": "stream",
          "name": "stdout",
          "text": [
            "S_1 = \n",
            "[[-210.]\n",
            " [-324.]\n",
            " [4542.]\n",
            " [4410.]]\n",
            "\n",
            "S_2 = \n",
            "[[   33.]\n",
            " [   18.]\n",
            " [-1059.]\n",
            " [-1092.]]\n",
            "\n",
            "S_3 = \n",
            "[[-16.]\n",
            " [-18.]\n",
            " [ 74.]\n",
            " [134.]]\n",
            "\n",
            "S_4 = \n",
            "[[1]\n",
            " [0]\n",
            " [7]\n",
            " [0]]\n",
            "\n",
            "S = \n",
            "        0       1      2    3\n",
            "0  -210.0    33.0  -16.0  1.0\n",
            "1  -324.0    18.0  -18.0  0.0\n",
            "2  4542.0 -1059.0   74.0  7.0\n",
            "3  4410.0 -1092.0  134.0  0.0\n",
            "\n",
            "S_ = \n",
            "          0         1         2         3\n",
            "0 -0.019364  0.004853  0.002766 -0.003188\n",
            "1 -0.040385  0.002350  0.005769 -0.007692\n",
            "2  0.308160 -0.140558 -0.044023  0.049688\n",
            "3  3.196899 -1.307375 -0.313843  0.379418\n"
          ]
        }
      ]
    },
    {
      "cell_type": "code",
      "source": [
        "#3-4)\n",
        "K_ = np.matrix([-219, 124, -39, 14])\n",
        "K = K_.dot(S_)\n",
        "print(\"K = \")\n",
        "print(K)"
      ],
      "metadata": {
        "colab": {
          "base_uri": "https://localhost:8080/"
        },
        "id": "0J47zdi0HCMD",
        "outputId": "a0beef92-a472-4697-9b5c-0526f1db8345"
      },
      "execution_count": 76,
      "outputs": [
        {
          "output_type": "stream",
          "name": "stdout",
          "text": [
            "K = \n",
            "[[ 31.97127512 -13.59282744  -2.56732502   3.11829522]]\n"
          ]
        }
      ]
    },
    {
      "cell_type": "code",
      "source": [
        "#5)\n",
        "A_ = A - (B[:,0]).dot(K)\n",
        "print('A_ = ')\n",
        "print(A_)"
      ],
      "metadata": {
        "colab": {
          "base_uri": "https://localhost:8080/"
        },
        "id": "CFaY090vSFaO",
        "outputId": "2e31d82f-106a-4792-8976-ace0c4d39cef"
      },
      "execution_count": 79,
      "outputs": [
        {
          "output_type": "stream",
          "name": "stdout",
          "text": [
            "A_ = \n",
            "[[ -37.97127512   19.59282744    2.56732502   -3.11829522]\n",
            " [ -18.           15.            0.            0.        ]\n",
            " [-142.79892585   47.1497921    26.97127512  -33.82806653]\n",
            " [  92.          -56.            6.           -8.        ]]\n"
          ]
        }
      ]
    },
    {
      "cell_type": "code",
      "source": [
        ""
      ],
      "metadata": {
        "id": "TABcma4TTVFt"
      },
      "execution_count": 80,
      "outputs": []
    }
  ]
}