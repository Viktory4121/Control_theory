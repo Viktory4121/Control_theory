{
  "nbformat": 4,
  "nbformat_minor": 0,
  "metadata": {
    "colab": {
      "name": "lab1_ct.ipynb",
      "provenance": [],
      "authorship_tag": "ABX9TyOMPyGeIPQJoPbKJlXW7sMd",
      "include_colab_link": true
    },
    "kernelspec": {
      "name": "python3",
      "display_name": "Python 3"
    },
    "language_info": {
      "name": "python"
    }
  },
  "cells": [
    {
      "cell_type": "markdown",
      "metadata": {
        "id": "view-in-github",
        "colab_type": "text"
      },
      "source": [
        "<a href=\"https://colab.research.google.com/github/Viktory4121/Control_theory/blob/main/lab1_ct.ipynb\" target=\"_parent\"><img src=\"https://colab.research.google.com/assets/colab-badge.svg\" alt=\"Open In Colab\"/></a>"
      ]
    },
    {
      "cell_type": "code",
      "execution_count": 1,
      "metadata": {
        "id": "ptY-1mfW0yb2"
      },
      "outputs": [],
      "source": [
        "import pandas as pd\n",
        "import numpy as np\n",
        "import math"
      ]
    },
    {
      "cell_type": "code",
      "source": [
        "#Матрица собственных чисел:\n",
        "lambda_matrix = np.matrix([[3, 0, 0, 0], [0, 6, 0, 0], [0, 0, 1, 0], [0, 0, 0, 7]])\n",
        "print(lambda_matrix)"
      ],
      "metadata": {
        "colab": {
          "base_uri": "https://localhost:8080/"
        },
        "id": "iTp9Vy0T04mG",
        "outputId": "f64f1ea6-074f-469b-a159-622d069680d1"
      },
      "execution_count": 67,
      "outputs": [
        {
          "output_type": "stream",
          "name": "stdout",
          "text": [
            "[[3 0 0 0]\n",
            " [0 6 0 0]\n",
            " [0 0 1 0]\n",
            " [0 0 0 7]]\n"
          ]
        }
      ]
    },
    {
      "cell_type": "code",
      "source": [
        "#обратимая матрица\n",
        "L = np.matrix([[2,1,0,0],[3,2,0,0],[1,1,3,4],[2,-1,2,3]])\n",
        "L_ = np.linalg.inv(L)\n",
        "print(L)\n",
        "print(L_)"
      ],
      "metadata": {
        "colab": {
          "base_uri": "https://localhost:8080/"
        },
        "id": "4w7zjhBk1vH-",
        "outputId": "cc202d59-0d72-452e-cec0-28c9179bb997"
      },
      "execution_count": 68,
      "outputs": [
        {
          "output_type": "stream",
          "name": "stdout",
          "text": [
            "[[ 2  1  0  0]\n",
            " [ 3  2  0  0]\n",
            " [ 1  1  3  4]\n",
            " [ 2 -1  2  3]]\n",
            "[[  2.  -1.   0.   0.]\n",
            " [ -3.   2.  -0.  -0.]\n",
            " [ 31. -19.   3.  -4.]\n",
            " [-23.  14.  -2.   3.]]\n"
          ]
        }
      ]
    },
    {
      "cell_type": "code",
      "source": [
        "#исходная матрица\n",
        "A = L.dot(lambda_matrix).dot(L_)\n",
        "print(A)"
      ],
      "metadata": {
        "colab": {
          "base_uri": "https://localhost:8080/"
        },
        "id": "32RnsVUS2Pgh",
        "outputId": "41d29ee4-36a5-4539-d546-c63536bfa605"
      },
      "execution_count": 69,
      "outputs": [
        {
          "output_type": "stream",
          "name": "stdout",
          "text": [
            "[[  -6.    6.    0.    0.]\n",
            " [ -18.   15.    0.    0.]\n",
            " [-563.  344.  -47.   72.]\n",
            " [-391.  238.  -36.   55.]]\n"
          ]
        }
      ]
    },
    {
      "cell_type": "code",
      "source": [
        "#дано\n",
        "B = np.matrix([[1, -2], [0, 5],[7, -9],[0, 2]])\n",
        "C = np.matrix([-8, -4, 1, 0])\n",
        "x0 = np.matrix([0, -7, 8, -1]).T\n",
        "print(B)\n",
        "print(C)\n",
        "print(x0)"
      ],
      "metadata": {
        "id": "5BN9vbdz3Yn9",
        "colab": {
          "base_uri": "https://localhost:8080/"
        },
        "outputId": "2747dc7d-310c-4d28-8690-ee2d3f78cb96"
      },
      "execution_count": 70,
      "outputs": [
        {
          "output_type": "stream",
          "name": "stdout",
          "text": [
            "[[ 1 -2]\n",
            " [ 0  5]\n",
            " [ 7 -9]\n",
            " [ 0  2]]\n",
            "[[-8 -4  1  0]]\n",
            "[[ 0]\n",
            " [-7]\n",
            " [ 8]\n",
            " [-1]]\n"
          ]
        }
      ]
    },
    {
      "cell_type": "code",
      "source": [
        "#составление матрицы управляемости\n",
        "print(B)\n",
        "\n",
        "AB = A.dot(B)\n",
        "print(AB)\n",
        "\n",
        "AAB = A.dot(A).dot(B)\n",
        "print(AAB)\n",
        "\n",
        "AAAB = A.dot(A).dot(A).dot(B)\n",
        "print(AAAB)"
      ],
      "metadata": {
        "colab": {
          "base_uri": "https://localhost:8080/"
        },
        "id": "z8EDG3gErQDn",
        "outputId": "eec387ca-5153-4f54-eb25-555feded06f6"
      },
      "execution_count": 72,
      "outputs": [
        {
          "output_type": "stream",
          "name": "stdout",
          "text": [
            "[[ 1 -2]\n",
            " [ 0  5]\n",
            " [ 7 -9]\n",
            " [ 0  2]]\n",
            "[[  -6.   42.]\n",
            " [ -18.  111.]\n",
            " [-892. 3413.]\n",
            " [-643. 2406.]]\n",
            "[[  -72.   414.]\n",
            " [ -162.   909.]\n",
            " [-7186. 27359.]\n",
            " [-5191. 19458.]]\n",
            "[[  -540.   2970.]\n",
            " [ -1134.   6183.]\n",
            " [-51202. 194717.]\n",
            " [-37213. 139734.]]\n"
          ]
        }
      ]
    },
    {
      "cell_type": "code",
      "source": [
        "#матрица управляемости\n",
        "beta = np.concatenate((B, AB, AAB, AAAB), axis=1)\n",
        "print(pd.DataFrame(beta))"
      ],
      "metadata": {
        "colab": {
          "base_uri": "https://localhost:8080/"
        },
        "id": "SjXNaaIOyqTV",
        "outputId": "f90efddc-6bbd-4947-f37e-36ec68049026"
      },
      "execution_count": 73,
      "outputs": [
        {
          "output_type": "stream",
          "name": "stdout",
          "text": [
            "     0    1      2       3       4        5        6         7\n",
            "0  1.0 -2.0   -6.0    42.0   -72.0    414.0   -540.0    2970.0\n",
            "1  0.0  5.0  -18.0   111.0  -162.0    909.0  -1134.0    6183.0\n",
            "2  7.0 -9.0 -892.0  3413.0 -7186.0  27359.0 -51202.0  194717.0\n",
            "3  0.0  2.0 -643.0  2406.0 -5191.0  19458.0 -37213.0  139734.0\n"
          ]
        }
      ]
    },
    {
      "cell_type": "code",
      "source": [
        "rang_beta = np.linalg.matrix_rank(beta)\n",
        "print(rang_beta)"
      ],
      "metadata": {
        "colab": {
          "base_uri": "https://localhost:8080/"
        },
        "id": "QsnOyf_bz2qS",
        "outputId": "53b3f218-d2d7-4e1d-e5e3-c4630ae4cb12"
      },
      "execution_count": 74,
      "outputs": [
        {
          "output_type": "stream",
          "name": "stdout",
          "text": [
            "4\n"
          ]
        }
      ]
    },
    {
      "cell_type": "code",
      "source": [
        "#проверка для 1.15\n",
        "print(B[:,0])\n",
        "AB1 = A.dot(B[:,0])\n",
        "print(AB1)\n",
        "AAB1 = A.dot(A).dot(B[:,0])\n",
        "print(AAB1)\n",
        "AAAB1 = A.dot(A).dot(A).dot(B[:,0])\n",
        "print(AAAB1)"
      ],
      "metadata": {
        "colab": {
          "base_uri": "https://localhost:8080/"
        },
        "id": "_nAZ3tkZ04cQ",
        "outputId": "8832f12f-5e30-469b-a3de-83cce2948a7e"
      },
      "execution_count": 75,
      "outputs": [
        {
          "output_type": "stream",
          "name": "stdout",
          "text": [
            "[[1]\n",
            " [0]\n",
            " [7]\n",
            " [0]]\n",
            "[[  -6.]\n",
            " [ -18.]\n",
            " [-892.]\n",
            " [-643.]]\n",
            "[[  -72.]\n",
            " [ -162.]\n",
            " [-7186.]\n",
            " [-5191.]]\n",
            "[[  -540.]\n",
            " [ -1134.]\n",
            " [-51202.]\n",
            " [-37213.]]\n"
          ]
        }
      ]
    },
    {
      "cell_type": "code",
      "source": [
        "beta1 = np.concatenate((B[:,0], AB1, AAB1, AAAB1), axis=1)\n",
        "print(pd.DataFrame(beta1))"
      ],
      "metadata": {
        "colab": {
          "base_uri": "https://localhost:8080/"
        },
        "id": "--7BM8zo2zQ8",
        "outputId": "9fe6d7c9-f3a0-407e-da4f-d3abca14941c"
      },
      "execution_count": 76,
      "outputs": [
        {
          "output_type": "stream",
          "name": "stdout",
          "text": [
            "     0      1       2        3\n",
            "0  1.0   -6.0   -72.0   -540.0\n",
            "1  0.0  -18.0  -162.0  -1134.0\n",
            "2  7.0 -892.0 -7186.0 -51202.0\n",
            "3  0.0 -643.0 -5191.0 -37213.0\n"
          ]
        }
      ]
    },
    {
      "cell_type": "code",
      "source": [
        "rang_beta1 = np.linalg.matrix_rank(beta)\n",
        "print(rang_beta1)"
      ],
      "metadata": {
        "colab": {
          "base_uri": "https://localhost:8080/"
        },
        "id": "37ak0Aoa2-gQ",
        "outputId": "6314c390-ccef-42f8-ad1f-01d5eecc36e9"
      },
      "execution_count": 77,
      "outputs": [
        {
          "output_type": "stream",
          "name": "stdout",
          "text": [
            "4\n"
          ]
        }
      ]
    },
    {
      "cell_type": "code",
      "source": [
        "#матрица наблюдаемости\n",
        "A_arr = A\n",
        "C_arr = C.T\n",
        "print(C_arr)\n",
        "\n",
        "AC = np.matrix(A_arr.dot(C_arr))\n",
        "AAC = np.matrix(A_arr.dot(A_arr).dot(C_arr))\n",
        "AAAC = np.matrix(A_arr.dot(A_arr).dot(A_arr).dot(C_arr))\n",
        "print(AC)\n",
        "print(AAC)\n",
        "print(AAAC)"
      ],
      "metadata": {
        "colab": {
          "base_uri": "https://localhost:8080/"
        },
        "id": "DuT-hlaL3DLo",
        "outputId": "1549b434-cf18-4754-b544-ed2612ca0c06"
      },
      "execution_count": 84,
      "outputs": [
        {
          "output_type": "stream",
          "name": "stdout",
          "text": [
            "[[-8]\n",
            " [-4]\n",
            " [ 1]\n",
            " [ 0]]\n",
            "[[  24.]\n",
            " [  84.]\n",
            " [3081.]\n",
            " [2140.]]\n",
            "[[  360.]\n",
            " [  828.]\n",
            " [24657.]\n",
            " [17392.]]\n",
            "[[  2808.]\n",
            " [  5940.]\n",
            " [175497.]\n",
            " [125212.]]\n"
          ]
        }
      ]
    },
    {
      "cell_type": "code",
      "source": [
        "gamma = np.concatenate((C.T, AC, AAC, AAAC), axis=1)\n",
        "print(pd.DataFrame(gamma))"
      ],
      "metadata": {
        "colab": {
          "base_uri": "https://localhost:8080/"
        },
        "id": "ViaGBBzh7CGh",
        "outputId": "e91750c6-8989-4cd5-b85e-f0f8bfda34e5"
      },
      "execution_count": 86,
      "outputs": [
        {
          "output_type": "stream",
          "name": "stdout",
          "text": [
            "     0       1        2         3\n",
            "0 -8.0    24.0    360.0    2808.0\n",
            "1 -4.0    84.0    828.0    5940.0\n",
            "2  1.0  3081.0  24657.0  175497.0\n",
            "3  0.0  2140.0  17392.0  125212.0\n"
          ]
        }
      ]
    },
    {
      "cell_type": "code",
      "source": [
        "#пункт 1.15\n",
        "#1)\n",
        "I = np.eye(4)\n",
        "D0 = I\n",
        "print(D0)\n",
        "\n",
        "d1 = np.round(-np.trace(D0.dot(A)))\n",
        "print(d1)\n",
        "D1 = D0 + d1 * I\n",
        "print(D1)\n",
        "\n",
        "d2 = np.round(-0.5 * np.trace(D1.dot(A)))\n",
        "print(d2)\n",
        "D2 = D1 + d2 * I\n",
        "print(D2)\n",
        "\n",
        "d3 = np.round(-(1.0 / 3.0) * np.trace(D2.dot(A)))\n",
        "print(d3)\n",
        "D3 = D2 + d3 * I\n",
        "print(D3)\n",
        "\n",
        "d4 = np.round(-(1.0 / 4.0) * np.trace(D3.dot(A)))\n",
        "print(d4)\n",
        "\n",
        "check = D3.dot(A) + d4 * I\n",
        "print(check)"
      ],
      "metadata": {
        "colab": {
          "base_uri": "https://localhost:8080/"
        },
        "id": "Zunn80UL9Cxr",
        "outputId": "28fe26e0-d4de-4a8e-82a6-e6b072166d86"
      },
      "execution_count": 102,
      "outputs": [
        {
          "output_type": "stream",
          "name": "stdout",
          "text": [
            "[[1. 0. 0. 0.]\n",
            " [0. 1. 0. 0.]\n",
            " [0. 0. 1. 0.]\n",
            " [0. 0. 0. 1.]]\n",
            "-17.0\n",
            "[[-16.   0.   0.   0.]\n",
            " [  0. -16.   0.   0.]\n",
            " [  0.   0. -16.   0.]\n",
            " [  0.   0.   0. -16.]]\n",
            "136.0\n",
            "[[120.   0.   0.   0.]\n",
            " [  0. 120.   0.   0.]\n",
            " [  0.   0. 120.   0.]\n",
            " [  0.   0.   0. 120.]]\n",
            "-680.0\n",
            "[[-560.    0.    0.    0.]\n",
            " [   0. -560.    0.    0.]\n",
            " [   0.    0. -560.    0.]\n",
            " [   0.    0.    0. -560.]]\n",
            "2380.0\n",
            "[[   5740.   -3360.       0.       0.]\n",
            " [  10080.   -6020.       0.       0.]\n",
            " [ 315280. -192640.   28700.  -40320.]\n",
            " [ 218960. -133280.   20160.  -28420.]]\n"
          ]
        }
      ]
    },
    {
      "cell_type": "code",
      "source": [
        "S4 = B[:,0]\n",
        "S3 = A.dot(S4) + d1 * B[:,0]\n",
        "S2 = A.dot(S3) + d2 * B[:,0]\n",
        "S1 = A.dot(S2) + d3 * B[:,0]\n",
        "print(S1)\n",
        "print(S2)\n",
        "print(S3)\n",
        "print(S4)\n",
        "S = np.concatenate((S1, S2, S3, S4), axis=1)\n",
        "print(pd.DataFrame(S))\n",
        "S_ = np.linalg.inv(S)\n",
        "print(pd.DataFrame(S_))"
      ],
      "metadata": {
        "colab": {
          "base_uri": "https://localhost:8080/"
        },
        "id": "J9RSXOWf-08F",
        "outputId": "48512500-37fa-4b8d-c63c-ffc2f4cb1450"
      },
      "execution_count": 105,
      "outputs": [
        {
          "output_type": "stream",
          "name": "stdout",
          "text": [
            "[[  -812.]\n",
            " [  -828.]\n",
            " [-55112.]\n",
            " [-36414.]]\n",
            "[[ 166.]\n",
            " [ 144.]\n",
            " [8930.]\n",
            " [5740.]]\n",
            "[[  -23.]\n",
            " [  -18.]\n",
            " [-1011.]\n",
            " [ -643.]]\n",
            "[[1]\n",
            " [0]\n",
            " [7]\n",
            " [0]]\n",
            "         0       1       2    3\n",
            "0   -812.0   166.0   -23.0  1.0\n",
            "1   -828.0   144.0   -18.0  0.0\n",
            "2 -55112.0  8930.0 -1011.0  7.0\n",
            "3 -36414.0  5740.0  -643.0  0.0\n",
            "          0         1         2         3\n",
            "0 -0.009035  0.013935  0.001291 -0.002096\n",
            "1 -0.103630  0.099896  0.014804 -0.022367\n",
            "2 -0.413427  0.102599  0.059061 -0.082502\n",
            "3  1.357277 -2.907681 -0.051040  0.113098\n"
          ]
        }
      ]
    },
    {
      "cell_type": "code",
      "source": [
        "#2)"
      ],
      "metadata": {
        "id": "0J47zdi0HCMD"
      },
      "execution_count": null,
      "outputs": []
    }
  ]
}