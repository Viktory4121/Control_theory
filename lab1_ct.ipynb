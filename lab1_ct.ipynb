{
  "nbformat": 4,
  "nbformat_minor": 0,
  "metadata": {
    "colab": {
      "name": "lab1_ct.ipynb",
      "provenance": [],
      "collapsed_sections": [],
      "authorship_tag": "ABX9TyOX0pw+7d82s+MQuxei6m/q",
      "include_colab_link": true
    },
    "kernelspec": {
      "name": "python3",
      "display_name": "Python 3"
    },
    "language_info": {
      "name": "python"
    }
  },
  "cells": [
    {
      "cell_type": "markdown",
      "metadata": {
        "id": "view-in-github",
        "colab_type": "text"
      },
      "source": [
        "<a href=\"https://colab.research.google.com/github/Viktory4121/Control_theory/blob/main/lab1_ct.ipynb\" target=\"_parent\"><img src=\"https://colab.research.google.com/assets/colab-badge.svg\" alt=\"Open In Colab\"/></a>"
      ]
    },
    {
      "cell_type": "code",
      "execution_count": 15,
      "metadata": {
        "id": "ptY-1mfW0yb2"
      },
      "outputs": [],
      "source": [
        "import pandas as pd\n",
        "import numpy as np"
      ]
    },
    {
      "cell_type": "code",
      "source": [
        "#Матрица собственных чисел:\n",
        "print('lambda = ')\n",
        "lambda_matrix = np.matrix([[3, 0, 0, 0], [0, 6, 0, 0], [0, 0, 1, 0], [0, 0, 0, 0]])\n",
        "print(lambda_matrix)\n",
        "#обратимая матрица\n",
        "L = np.matrix([[2,1,0,0],[3,2,0,0],[1,1,3,4],[2,-1,2,3]])\n",
        "print('L = ')\n",
        "print(L)\n",
        "#также даны:\n",
        "B = np.matrix([[1, -2], [0, 5],[7, -9],[0, 2]])\n",
        "C = np.matrix([-8, -4, 1, 0])\n",
        "print('B = ')\n",
        "print(B)\n",
        "print('C = ')\n",
        "print(C)"
      ],
      "metadata": {
        "colab": {
          "base_uri": "https://localhost:8080/"
        },
        "id": "iTp9Vy0T04mG",
        "outputId": "5e78a5f6-63a4-45bf-c45b-864a082d009a"
      },
      "execution_count": 48,
      "outputs": [
        {
          "output_type": "stream",
          "name": "stdout",
          "text": [
            "lambda = \n",
            "[[3 0 0 0]\n",
            " [0 6 0 0]\n",
            " [0 0 1 0]\n",
            " [0 0 0 0]]\n",
            "L = \n",
            "[[ 2  1  0  0]\n",
            " [ 3  2  0  0]\n",
            " [ 1  1  3  4]\n",
            " [ 2 -1  2  3]]\n",
            "B = \n",
            "[[ 1 -2]\n",
            " [ 0  5]\n",
            " [ 7 -9]\n",
            " [ 0  2]]\n",
            "C = \n",
            "[[-8 -4  1  0]]\n"
          ]
        }
      ]
    },
    {
      "cell_type": "code",
      "source": [
        "print('det(L) = ' + str(np.linalg.det(L)))"
      ],
      "metadata": {
        "colab": {
          "base_uri": "https://localhost:8080/"
        },
        "id": "CKaY_Fj4njCT",
        "outputId": "5e255c6d-6f4f-479a-9e43-21901cb9ddf7"
      },
      "execution_count": 49,
      "outputs": [
        {
          "output_type": "stream",
          "name": "stdout",
          "text": [
            "det(L) = 0.9999999999999991\n"
          ]
        }
      ]
    },
    {
      "cell_type": "code",
      "source": [
        "#обратная матрица от обратимой\n",
        "L_ = np.linalg.inv(L)\n",
        "print('L_обр = ')\n",
        "print(L_)"
      ],
      "metadata": {
        "colab": {
          "base_uri": "https://localhost:8080/"
        },
        "id": "4w7zjhBk1vH-",
        "outputId": "0183bdff-8833-4fa5-e204-0dcf990c40fd"
      },
      "execution_count": 50,
      "outputs": [
        {
          "output_type": "stream",
          "name": "stdout",
          "text": [
            "L_обр = \n",
            "[[  2.  -1.   0.   0.]\n",
            " [ -3.   2.  -0.  -0.]\n",
            " [ 31. -19.   3.  -4.]\n",
            " [-23.  14.  -2.   3.]]\n"
          ]
        }
      ]
    },
    {
      "cell_type": "code",
      "source": [
        "print(\"L * L_обр = \")\n",
        "print(pd.DataFrame(np.round(L.dot(L_))))"
      ],
      "metadata": {
        "id": "LU3osFrk78FE",
        "outputId": "fe41e9a8-b3f2-4d28-9435-045eb67cd9d8",
        "colab": {
          "base_uri": "https://localhost:8080/"
        }
      },
      "execution_count": 51,
      "outputs": [
        {
          "output_type": "stream",
          "name": "stdout",
          "text": [
            "L * L_обр = \n",
            "     0    1    2    3\n",
            "0  1.0  0.0  0.0  0.0\n",
            "1  0.0  1.0  0.0  0.0\n",
            "2  0.0 -0.0  1.0  0.0\n",
            "3  0.0  0.0 -0.0  1.0\n"
          ]
        }
      ]
    },
    {
      "cell_type": "code",
      "source": [
        "#исходная матрица\n",
        "A = L.dot(lambda_matrix).dot(L_)\n",
        "print('A = ')\n",
        "print(np.round(A))"
      ],
      "metadata": {
        "colab": {
          "base_uri": "https://localhost:8080/"
        },
        "id": "32RnsVUS2Pgh",
        "outputId": "05dea30b-6630-4f39-dcc1-8849adb58bba"
      },
      "execution_count": 52,
      "outputs": [
        {
          "output_type": "stream",
          "name": "stdout",
          "text": [
            "A = \n",
            "[[ -6.   6.   0.   0.]\n",
            " [-18.  15.   0.   0.]\n",
            " [ 81. -48.   9. -12.]\n",
            " [ 92. -56.   6.  -8.]]\n"
          ]
        }
      ]
    },
    {
      "cell_type": "code",
      "source": [
        "#дополнительные вычисления для составления матрицы управляемости\n",
        "\n",
        "AB = A.dot(B)\n",
        "print(\"A * B = \")\n",
        "print(AB)\n",
        "print(\"\\n\")\n",
        "\n",
        "AAB = A.dot(A).dot(B)\n",
        "print(\"A * A * B = \")\n",
        "print(AAB)\n",
        "print(\"\\n\")\n",
        "\n",
        "AAAB = A.dot(A).dot(A).dot(B)\n",
        "print(\"A * A * A * B = \")\n",
        "print(AAAB)"
      ],
      "metadata": {
        "colab": {
          "base_uri": "https://localhost:8080/"
        },
        "id": "z8EDG3gErQDn",
        "outputId": "d2c38001-6df7-4668-8884-6673aa6ecbd0"
      },
      "execution_count": 53,
      "outputs": [
        {
          "output_type": "stream",
          "name": "stdout",
          "text": [
            "A * B = \n",
            "[[  -6.   42.]\n",
            " [ -18.  111.]\n",
            " [ 144. -507.]\n",
            " [ 134. -534.]]\n",
            "\n",
            "\n",
            "A * A * B = \n",
            "[[  -72.   414.]\n",
            " [ -162.   909.]\n",
            " [   66.   -81.]\n",
            " [  248. -1122.]]\n",
            "\n",
            "\n",
            "A * A * A * B = \n",
            "[[ -540.  2970.]\n",
            " [-1134.  6183.]\n",
            " [ -438.  2637.]\n",
            " [  860. -4326.]]\n"
          ]
        }
      ]
    },
    {
      "cell_type": "code",
      "source": [
        "#матрица управляемости\n",
        "beta = np.concatenate((np.round(B), np.round(AB), np.round(AAB), np.round(AAAB)), axis=1)\n",
        "print(\"{A,B} = \")\n",
        "print(pd.DataFrame(beta))"
      ],
      "metadata": {
        "colab": {
          "base_uri": "https://localhost:8080/"
        },
        "id": "SjXNaaIOyqTV",
        "outputId": "1a7d977d-f323-481f-f862-434234ccae2f"
      },
      "execution_count": 54,
      "outputs": [
        {
          "output_type": "stream",
          "name": "stdout",
          "text": [
            "{A,B} = \n",
            "     0    1      2      3      4       5       6       7\n",
            "0  1.0 -2.0   -6.0   42.0  -72.0   414.0  -540.0  2970.0\n",
            "1  0.0  5.0  -18.0  111.0 -162.0   909.0 -1134.0  6183.0\n",
            "2  7.0 -9.0  144.0 -507.0   66.0   -81.0  -438.0  2637.0\n",
            "3  0.0  2.0  134.0 -534.0  248.0 -1122.0   860.0 -4326.0\n"
          ]
        }
      ]
    },
    {
      "cell_type": "code",
      "source": [
        "rang_beta = np.linalg.matrix_rank(beta)\n",
        "print(\"Ранг матрицы управляемости rg {A,B} = \" + str(rang_beta))"
      ],
      "metadata": {
        "colab": {
          "base_uri": "https://localhost:8080/"
        },
        "id": "QsnOyf_bz2qS",
        "outputId": "e16939bd-e073-4413-cafc-1f9a80ba3ea1"
      },
      "execution_count": 55,
      "outputs": [
        {
          "output_type": "stream",
          "name": "stdout",
          "text": [
            "Ранг матрицы управляемости rg {A,B} = 4\n"
          ]
        }
      ]
    },
    {
      "cell_type": "code",
      "source": [
        "#проверка для 1.15\n",
        "print(\"B_1 = \")\n",
        "print(B[:,0])\n",
        "print('\\n')\n",
        "\n",
        "print('A * B_1 = ')\n",
        "AB1 = A.dot(B[:,0])\n",
        "print(AB1)\n",
        "print('\\n')\n",
        "\n",
        "AAB1 = A.dot(A).dot(B[:,0])\n",
        "print('A * A * B_1 = ')\n",
        "print(AAB1)\n",
        "print('\\n')\n",
        "\n",
        "print('A * A * A * B_1 = ')\n",
        "AAAB1 = A.dot(A).dot(A).dot(B[:,0])\n",
        "print(AAAB1)"
      ],
      "metadata": {
        "colab": {
          "base_uri": "https://localhost:8080/"
        },
        "id": "_nAZ3tkZ04cQ",
        "outputId": "9397a960-0ccf-4c5b-f973-71e52d059ca6"
      },
      "execution_count": 56,
      "outputs": [
        {
          "output_type": "stream",
          "name": "stdout",
          "text": [
            "B_1 = \n",
            "[[1]\n",
            " [0]\n",
            " [7]\n",
            " [0]]\n",
            "\n",
            "\n",
            "A * B_1 = \n",
            "[[ -6.]\n",
            " [-18.]\n",
            " [144.]\n",
            " [134.]]\n",
            "\n",
            "\n",
            "A * A * B_1 = \n",
            "[[ -72.]\n",
            " [-162.]\n",
            " [  66.]\n",
            " [ 248.]]\n",
            "\n",
            "\n",
            "A * A * A * B_1 = \n",
            "[[ -540.]\n",
            " [-1134.]\n",
            " [ -438.]\n",
            " [  860.]]\n"
          ]
        }
      ]
    },
    {
      "cell_type": "code",
      "source": [
        "beta1 = np.concatenate((B[:,0], AB1, AAB1, AAAB1), axis=1)\n",
        "print('{A, B_1} = ')\n",
        "print(pd.DataFrame(beta1))\n",
        "rang_beta1 = np.linalg.matrix_rank(beta1)\n",
        "print(\"\\nРанг матрицы управляемости rg {A,B_1} = \" + str(rang_beta1))"
      ],
      "metadata": {
        "colab": {
          "base_uri": "https://localhost:8080/"
        },
        "id": "--7BM8zo2zQ8",
        "outputId": "e8e83936-faec-4887-c958-03620c5076a5"
      },
      "execution_count": 57,
      "outputs": [
        {
          "output_type": "stream",
          "name": "stdout",
          "text": [
            "{A, B_1} = \n",
            "     0      1      2       3\n",
            "0  1.0   -6.0  -72.0  -540.0\n",
            "1  0.0  -18.0 -162.0 -1134.0\n",
            "2  7.0  144.0   66.0  -438.0\n",
            "3  0.0  134.0  248.0   860.0\n",
            "\n",
            "Ранг матрицы управляемости rg {A,B_1} = 4\n"
          ]
        }
      ]
    },
    {
      "cell_type": "code",
      "source": [
        "#дополнительные вычисления для матрицы наблюдаемости\n",
        "A_arr = A.T\n",
        "C_arr = C.T\n",
        "\n",
        "AC = np.matrix(A_arr.dot(C_arr))\n",
        "AAC = np.matrix(A_arr.dot(A_arr).dot(C_arr))\n",
        "AAAC = np.matrix(A_arr.dot(A_arr).dot(A_arr).dot(C_arr))\n",
        "print(\"A * C = \")\n",
        "print(AC)\n",
        "print('\\n')\n",
        "\n",
        "print(\"A * A * C = \")\n",
        "print(AAC)\n",
        "print('\\n')\n",
        "print(\"A * A * A * C = \")\n",
        "print(AAAC)\n",
        "print('\\n')"
      ],
      "metadata": {
        "colab": {
          "base_uri": "https://localhost:8080/"
        },
        "id": "DuT-hlaL3DLo",
        "outputId": "ea1d82e3-8033-478f-9c64-5c1ad29611f1"
      },
      "execution_count": 58,
      "outputs": [
        {
          "output_type": "stream",
          "name": "stdout",
          "text": [
            "A * C = \n",
            "[[ 201.]\n",
            " [-156.]\n",
            " [   9.]\n",
            " [ -12.]]\n",
            "\n",
            "\n",
            "A * A * C = \n",
            "[[1227.]\n",
            " [-894.]\n",
            " [   9.]\n",
            " [ -12.]]\n",
            "\n",
            "\n",
            "A * A * A * C = \n",
            "[[ 8355.]\n",
            " [-5808.]\n",
            " [    9.]\n",
            " [  -12.]]\n",
            "\n",
            "\n"
          ]
        }
      ]
    },
    {
      "cell_type": "code",
      "source": [
        "gamma = np.concatenate((C.T, AC, AAC, AAAC), axis=1)\n",
        "print('{A, С} = ')\n",
        "print(pd.DataFrame(gamma))\n",
        "rang_gamma = np.linalg.matrix_rank(gamma)\n",
        "print(\"\\nРанг матрицы наблюдаемости rg {A,C} = \" + str(rang_gamma))"
      ],
      "metadata": {
        "colab": {
          "base_uri": "https://localhost:8080/"
        },
        "id": "ViaGBBzh7CGh",
        "outputId": "a07dfe12-43c8-4554-f1a6-2abcfa9b4ef8"
      },
      "execution_count": 59,
      "outputs": [
        {
          "output_type": "stream",
          "name": "stdout",
          "text": [
            "{A, С} = \n",
            "     0      1       2       3\n",
            "0 -8.0  201.0  1227.0  8355.0\n",
            "1 -4.0 -156.0  -894.0 -5808.0\n",
            "2  1.0    9.0     9.0     9.0\n",
            "3  0.0  -12.0   -12.0   -12.0\n",
            "\n",
            "Ранг матрицы наблюдаемости rg {A,C} = 4\n"
          ]
        }
      ]
    },
    {
      "cell_type": "code",
      "source": [
        "#пункт 1.15\n",
        "#1) \n",
        "d1 = 1\n",
        "d2 = -10\n",
        "d3 = 27\n",
        "d4 = -18"
      ],
      "metadata": {
        "id": "Zunn80UL9Cxr"
      },
      "execution_count": 69,
      "outputs": []
    },
    {
      "cell_type": "code",
      "source": [
        "#нахождение матрицы S\n",
        "S4 = B[:,0]\n",
        "S3 = A.dot(S4) + d1 * B[:,0]\n",
        "S2 = A.dot(S3) + d2 * B[:,0]\n",
        "S1 = A.dot(S2) + d3 * B[:,0]\n",
        "print('S_1 = ')\n",
        "print(S1)\n",
        "print('\\nS_2 = ')\n",
        "print(S2)\n",
        "print('\\nS_3 = ')\n",
        "print(S3)\n",
        "print('\\nS_4 = ')\n",
        "print(S4)\n",
        "print('\\nS = ')\n",
        "S = np.concatenate((S1, S2, S3, S4), axis=1)\n",
        "print(pd.DataFrame(S))\n",
        "print('\\nS_ = ')\n",
        "S_ = np.linalg.inv(S)\n",
        "print(pd.DataFrame(S_))"
      ],
      "metadata": {
        "colab": {
          "base_uri": "https://localhost:8080/"
        },
        "id": "J9RSXOWf-08F",
        "outputId": "9f88d4e6-2a1d-4012-efd8-dc22f3cdb2cd"
      },
      "execution_count": 70,
      "outputs": [
        {
          "output_type": "stream",
          "name": "stdout",
          "text": [
            "S_1 = \n",
            "[[ -525.]\n",
            " [-1116.]\n",
            " [-1623.]\n",
            " [ -232.]]\n",
            "\n",
            "S_2 = \n",
            "[[ -88.]\n",
            " [-180.]\n",
            " [ 140.]\n",
            " [ 382.]]\n",
            "\n",
            "S_3 = \n",
            "[[ -5.]\n",
            " [-18.]\n",
            " [151.]\n",
            " [134.]]\n",
            "\n",
            "S_4 = \n",
            "[[1]\n",
            " [0]\n",
            " [7]\n",
            " [0]]\n",
            "\n",
            "S = \n",
            "        0      1      2    3\n",
            "0  -525.0  -88.0   -5.0  1.0\n",
            "1 -1116.0 -180.0  -18.0  0.0\n",
            "2 -1623.0  140.0  151.0  7.0\n",
            "3  -232.0  382.0  134.0  0.0\n",
            "\n",
            "S_ = \n",
            "          0         1         2         3\n",
            "0 -0.019364  0.004853  0.002766 -0.003188\n",
            "1  0.172615 -0.051032 -0.024659  0.027374\n",
            "2 -0.525606  0.153881  0.075087 -0.076091\n",
            "3  3.396194 -1.173606 -0.342313  0.354816\n"
          ]
        }
      ]
    },
    {
      "cell_type": "code",
      "source": [
        "print(\"S * S_обр = \")\n",
        "pd.DataFrame(np.round(S.dot(S_)))"
      ],
      "metadata": {
        "id": "1Rz10eF8jO2Y",
        "outputId": "4fc74870-d3e2-46bf-bbbf-dbc0fe2d7e66",
        "colab": {
          "base_uri": "https://localhost:8080/",
          "height": 193
        }
      },
      "execution_count": 71,
      "outputs": [
        {
          "output_type": "stream",
          "name": "stdout",
          "text": [
            "S * S_обр = \n"
          ]
        },
        {
          "output_type": "execute_result",
          "data": {
            "text/html": [
              "\n",
              "  <div id=\"df-90bd182e-690b-4b82-918b-06cb03ce2d2d\">\n",
              "    <div class=\"colab-df-container\">\n",
              "      <div>\n",
              "<style scoped>\n",
              "    .dataframe tbody tr th:only-of-type {\n",
              "        vertical-align: middle;\n",
              "    }\n",
              "\n",
              "    .dataframe tbody tr th {\n",
              "        vertical-align: top;\n",
              "    }\n",
              "\n",
              "    .dataframe thead th {\n",
              "        text-align: right;\n",
              "    }\n",
              "</style>\n",
              "<table border=\"1\" class=\"dataframe\">\n",
              "  <thead>\n",
              "    <tr style=\"text-align: right;\">\n",
              "      <th></th>\n",
              "      <th>0</th>\n",
              "      <th>1</th>\n",
              "      <th>2</th>\n",
              "      <th>3</th>\n",
              "    </tr>\n",
              "  </thead>\n",
              "  <tbody>\n",
              "    <tr>\n",
              "      <th>0</th>\n",
              "      <td>1.0</td>\n",
              "      <td>-0.0</td>\n",
              "      <td>-0.0</td>\n",
              "      <td>0.0</td>\n",
              "    </tr>\n",
              "    <tr>\n",
              "      <th>1</th>\n",
              "      <td>-0.0</td>\n",
              "      <td>1.0</td>\n",
              "      <td>-0.0</td>\n",
              "      <td>0.0</td>\n",
              "    </tr>\n",
              "    <tr>\n",
              "      <th>2</th>\n",
              "      <td>0.0</td>\n",
              "      <td>0.0</td>\n",
              "      <td>1.0</td>\n",
              "      <td>0.0</td>\n",
              "    </tr>\n",
              "    <tr>\n",
              "      <th>3</th>\n",
              "      <td>0.0</td>\n",
              "      <td>-0.0</td>\n",
              "      <td>0.0</td>\n",
              "      <td>1.0</td>\n",
              "    </tr>\n",
              "  </tbody>\n",
              "</table>\n",
              "</div>\n",
              "      <button class=\"colab-df-convert\" onclick=\"convertToInteractive('df-90bd182e-690b-4b82-918b-06cb03ce2d2d')\"\n",
              "              title=\"Convert this dataframe to an interactive table.\"\n",
              "              style=\"display:none;\">\n",
              "        \n",
              "  <svg xmlns=\"http://www.w3.org/2000/svg\" height=\"24px\"viewBox=\"0 0 24 24\"\n",
              "       width=\"24px\">\n",
              "    <path d=\"M0 0h24v24H0V0z\" fill=\"none\"/>\n",
              "    <path d=\"M18.56 5.44l.94 2.06.94-2.06 2.06-.94-2.06-.94-.94-2.06-.94 2.06-2.06.94zm-11 1L8.5 8.5l.94-2.06 2.06-.94-2.06-.94L8.5 2.5l-.94 2.06-2.06.94zm10 10l.94 2.06.94-2.06 2.06-.94-2.06-.94-.94-2.06-.94 2.06-2.06.94z\"/><path d=\"M17.41 7.96l-1.37-1.37c-.4-.4-.92-.59-1.43-.59-.52 0-1.04.2-1.43.59L10.3 9.45l-7.72 7.72c-.78.78-.78 2.05 0 2.83L4 21.41c.39.39.9.59 1.41.59.51 0 1.02-.2 1.41-.59l7.78-7.78 2.81-2.81c.8-.78.8-2.07 0-2.86zM5.41 20L4 18.59l7.72-7.72 1.47 1.35L5.41 20z\"/>\n",
              "  </svg>\n",
              "      </button>\n",
              "      \n",
              "  <style>\n",
              "    .colab-df-container {\n",
              "      display:flex;\n",
              "      flex-wrap:wrap;\n",
              "      gap: 12px;\n",
              "    }\n",
              "\n",
              "    .colab-df-convert {\n",
              "      background-color: #E8F0FE;\n",
              "      border: none;\n",
              "      border-radius: 50%;\n",
              "      cursor: pointer;\n",
              "      display: none;\n",
              "      fill: #1967D2;\n",
              "      height: 32px;\n",
              "      padding: 0 0 0 0;\n",
              "      width: 32px;\n",
              "    }\n",
              "\n",
              "    .colab-df-convert:hover {\n",
              "      background-color: #E2EBFA;\n",
              "      box-shadow: 0px 1px 2px rgba(60, 64, 67, 0.3), 0px 1px 3px 1px rgba(60, 64, 67, 0.15);\n",
              "      fill: #174EA6;\n",
              "    }\n",
              "\n",
              "    [theme=dark] .colab-df-convert {\n",
              "      background-color: #3B4455;\n",
              "      fill: #D2E3FC;\n",
              "    }\n",
              "\n",
              "    [theme=dark] .colab-df-convert:hover {\n",
              "      background-color: #434B5C;\n",
              "      box-shadow: 0px 1px 3px 1px rgba(0, 0, 0, 0.15);\n",
              "      filter: drop-shadow(0px 1px 2px rgba(0, 0, 0, 0.3));\n",
              "      fill: #FFFFFF;\n",
              "    }\n",
              "  </style>\n",
              "\n",
              "      <script>\n",
              "        const buttonEl =\n",
              "          document.querySelector('#df-90bd182e-690b-4b82-918b-06cb03ce2d2d button.colab-df-convert');\n",
              "        buttonEl.style.display =\n",
              "          google.colab.kernel.accessAllowed ? 'block' : 'none';\n",
              "\n",
              "        async function convertToInteractive(key) {\n",
              "          const element = document.querySelector('#df-90bd182e-690b-4b82-918b-06cb03ce2d2d');\n",
              "          const dataTable =\n",
              "            await google.colab.kernel.invokeFunction('convertToInteractive',\n",
              "                                                     [key], {});\n",
              "          if (!dataTable) return;\n",
              "\n",
              "          const docLinkHtml = 'Like what you see? Visit the ' +\n",
              "            '<a target=\"_blank\" href=https://colab.research.google.com/notebooks/data_table.ipynb>data table notebook</a>'\n",
              "            + ' to learn more about interactive tables.';\n",
              "          element.innerHTML = '';\n",
              "          dataTable['output_type'] = 'display_data';\n",
              "          await google.colab.output.renderOutput(dataTable, element);\n",
              "          const docLink = document.createElement('div');\n",
              "          docLink.innerHTML = docLinkHtml;\n",
              "          element.appendChild(docLink);\n",
              "        }\n",
              "      </script>\n",
              "    </div>\n",
              "  </div>\n",
              "  "
            ],
            "text/plain": [
              "     0    1    2    3\n",
              "0  1.0 -0.0 -0.0  0.0\n",
              "1 -0.0  1.0 -0.0  0.0\n",
              "2  0.0  0.0  1.0  0.0\n",
              "3  0.0 -0.0  0.0  1.0"
            ]
          },
          "metadata": {},
          "execution_count": 71
        }
      ]
    },
    {
      "cell_type": "code",
      "source": [
        "print('det(S) = ' + str(np.round(np.linalg.det(S))))"
      ],
      "metadata": {
        "colab": {
          "base_uri": "https://localhost:8080/"
        },
        "id": "TSf-EopTsi1w",
        "outputId": "b2c36d29-adc0-4fe1-ea91-9eebb483a954"
      },
      "execution_count": 87,
      "outputs": [
        {
          "output_type": "stream",
          "name": "stdout",
          "text": [
            "det(S) = -6233760.0\n"
          ]
        },
        {
          "output_type": "execute_result",
          "data": {
            "text/plain": [
              "matrix([[ 1.207080e+05, -3.025200e+04, -1.724400e+04,  1.987200e+04],\n",
              "        [-1.076040e+06,  3.181200e+05,  1.537200e+05, -1.706400e+05],\n",
              "        [ 3.276504e+06, -9.592560e+05, -4.680720e+05,  4.743360e+05],\n",
              "        [-2.117106e+07,  7.315980e+06,  2.133900e+06, -2.211840e+06]])"
            ]
          },
          "metadata": {},
          "execution_count": 87
        }
      ]
    },
    {
      "cell_type": "code",
      "source": [
        "#в пункте 2) надо самому разложить многочлен по примеру и коэффициенты при p будут равны соответствующим позициям для вектора d с чертой"
      ],
      "metadata": {
        "id": "5dmXC0bgPwEN"
      },
      "execution_count": null,
      "outputs": []
    },
    {
      "cell_type": "code",
      "source": [
        "#3-4) поиск матрицы K\n",
        "K_ = np.matrix([0, 8, -80, 216]) #это K с чертой (ее можно найти с помощью пункта 2)\n",
        "K = K_.dot(S_)\n",
        "print(\"K = \")\n",
        "print(K)"
      ],
      "metadata": {
        "colab": {
          "base_uri": "https://localhost:8080/"
        },
        "id": "0J47zdi0HCMD",
        "outputId": "d88de1b4-cf05-4b93-eaa8-60c67ec17a81"
      },
      "execution_count": 73,
      "outputs": [
        {
          "output_type": "stream",
          "name": "stdout",
          "text": [
            "K = \n",
            "[[ 777.00739201 -266.21767922  -80.14391314   82.94663895]]\n"
          ]
        }
      ]
    },
    {
      "cell_type": "code",
      "source": [
        ""
      ],
      "metadata": {
        "id": "4ZH9_u2KzB4e"
      },
      "execution_count": null,
      "outputs": []
    },
    {
      "cell_type": "code",
      "source": [
        "#5) поиск A с чертой\n",
        "A_ = A - (B[:,0]).dot(K)\n",
        "print('A_ = ')\n",
        "print(A_)"
      ],
      "metadata": {
        "colab": {
          "base_uri": "https://localhost:8080/"
        },
        "id": "CFaY090vSFaO",
        "outputId": "486b7a0e-26e5-4e6d-96b1-db8768af39d2"
      },
      "execution_count": 74,
      "outputs": [
        {
          "output_type": "stream",
          "name": "stdout",
          "text": [
            "A_ = \n",
            "[[ -783.00739201   272.21767922    80.14391314   -82.94663895]\n",
            " [  -18.            15.             0.             0.        ]\n",
            " [-5358.05174405  1815.52375452   570.00739201  -592.62647263]\n",
            " [   92.           -56.             6.            -8.        ]]\n"
          ]
        }
      ]
    },
    {
      "cell_type": "code",
      "source": [
        "lambda1 = np.matrix([-8,1,3,6])\n",
        "I = np.eye(4)\n",
        "check1 = lambda1.dot(I) - A_\n",
        "print('lambda * I - A_ =\\n' + str(check1))\n",
        "print('\\ndet (lambda * I - A_) = ' + str(np.linalg.det(check1)))"
      ],
      "metadata": {
        "id": "VOfnCwuycHUN",
        "outputId": "801fd677-537c-4bec-e4dc-78d754d842a2",
        "colab": {
          "base_uri": "https://localhost:8080/"
        }
      },
      "execution_count": 83,
      "outputs": [
        {
          "output_type": "stream",
          "name": "stdout",
          "text": [
            "lambda * I - A_ =\n",
            "[[ 7.75007392e+02 -2.71217679e+02 -7.71439131e+01  8.89466389e+01]\n",
            " [ 1.00000000e+01 -1.40000000e+01  3.00000000e+00  6.00000000e+00]\n",
            " [ 5.35005174e+03 -1.81452375e+03 -5.67007392e+02  5.98626473e+02]\n",
            " [-1.00000000e+02  5.70000000e+01 -3.00000000e+00  1.40000000e+01]]\n",
            "\n",
            "det (lambda * I - A_) = 3202079.265419288\n"
          ]
        }
      ]
    }
  ]
}