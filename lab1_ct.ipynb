{
  "nbformat": 4,
  "nbformat_minor": 0,
  "metadata": {
    "colab": {
      "name": "lab1_ct.ipynb",
      "provenance": [],
      "collapsed_sections": [],
      "authorship_tag": "ABX9TyM28FpIpkImIGEIANzkIbgb",
      "include_colab_link": true
    },
    "kernelspec": {
      "name": "python3",
      "display_name": "Python 3"
    },
    "language_info": {
      "name": "python"
    }
  },
  "cells": [
    {
      "cell_type": "markdown",
      "metadata": {
        "id": "view-in-github",
        "colab_type": "text"
      },
      "source": [
        "<a href=\"https://colab.research.google.com/github/Viktory4121/Control_theory/blob/main/lab1_ct.ipynb\" target=\"_parent\"><img src=\"https://colab.research.google.com/assets/colab-badge.svg\" alt=\"Open In Colab\"/></a>"
      ]
    },
    {
      "cell_type": "code",
      "execution_count": 1,
      "metadata": {
        "id": "ptY-1mfW0yb2"
      },
      "outputs": [],
      "source": [
        "import pandas as pd\n",
        "import numpy as np"
      ]
    },
    {
      "cell_type": "code",
      "source": [
        "#Матрица собственных чисел:\n",
        "print('lambda = ')\n",
        "lambda_matrix = np.matrix([[3, 0, 0, 0], [0, 6, 0, 0], [0, 0, 1, 0], [0, 0, 0, 0]])\n",
        "print(lambda_matrix)\n",
        "#обратимая матрица\n",
        "L = np.matrix([[2,1,0,0],[3,2,0,0],[1,1,3,4],[2,-1,2,3]])\n",
        "print('L = ')\n",
        "print(L)\n",
        "#также даны:\n",
        "B = np.matrix([[1, -2], [0, 5],[7, -9],[0, 2]])\n",
        "C = np.matrix([-8, -4, 1, 0])\n",
        "print('B = ')\n",
        "print(B)\n",
        "print('C = ')\n",
        "print(C)"
      ],
      "metadata": {
        "colab": {
          "base_uri": "https://localhost:8080/"
        },
        "id": "iTp9Vy0T04mG",
        "outputId": "926925ed-a455-4c89-b2a9-326ef698ea42"
      },
      "execution_count": 2,
      "outputs": [
        {
          "output_type": "stream",
          "name": "stdout",
          "text": [
            "lambda = \n",
            "[[3 0 0 0]\n",
            " [0 6 0 0]\n",
            " [0 0 1 0]\n",
            " [0 0 0 0]]\n",
            "L = \n",
            "[[ 2  1  0  0]\n",
            " [ 3  2  0  0]\n",
            " [ 1  1  3  4]\n",
            " [ 2 -1  2  3]]\n",
            "B = \n",
            "[[ 1 -2]\n",
            " [ 0  5]\n",
            " [ 7 -9]\n",
            " [ 0  2]]\n",
            "C = \n",
            "[[-8 -4  1  0]]\n"
          ]
        }
      ]
    },
    {
      "cell_type": "code",
      "source": [
        "print('det(L) = ' + str(np.linalg.det(L)))"
      ],
      "metadata": {
        "colab": {
          "base_uri": "https://localhost:8080/"
        },
        "id": "CKaY_Fj4njCT",
        "outputId": "e8fbc5fd-d04e-4bf3-d5e0-ebfb874dd18d"
      },
      "execution_count": 3,
      "outputs": [
        {
          "output_type": "stream",
          "name": "stdout",
          "text": [
            "det(L) = 0.9999999999999991\n"
          ]
        }
      ]
    },
    {
      "cell_type": "code",
      "source": [
        "#обратная матрица от обратимой\n",
        "L_ = np.linalg.inv(L)\n",
        "print('L_обр = ')\n",
        "print(L_)"
      ],
      "metadata": {
        "colab": {
          "base_uri": "https://localhost:8080/"
        },
        "id": "4w7zjhBk1vH-",
        "outputId": "b35cfd14-595c-4d70-e0ea-3a85a414c48c"
      },
      "execution_count": 4,
      "outputs": [
        {
          "output_type": "stream",
          "name": "stdout",
          "text": [
            "L_обр = \n",
            "[[  2.  -1.   0.   0.]\n",
            " [ -3.   2.  -0.  -0.]\n",
            " [ 31. -19.   3.  -4.]\n",
            " [-23.  14.  -2.   3.]]\n"
          ]
        }
      ]
    },
    {
      "cell_type": "code",
      "source": [
        "print(\"L * L_обр = \")\n",
        "print(pd.DataFrame(np.round(L.dot(L_))))"
      ],
      "metadata": {
        "colab": {
          "base_uri": "https://localhost:8080/"
        },
        "id": "LU3osFrk78FE",
        "outputId": "9a0dfc79-259a-4e0e-edc6-6d8d7def00d5"
      },
      "execution_count": 5,
      "outputs": [
        {
          "output_type": "stream",
          "name": "stdout",
          "text": [
            "L * L_обр = \n",
            "     0    1    2    3\n",
            "0  1.0  0.0  0.0  0.0\n",
            "1  0.0  1.0  0.0  0.0\n",
            "2  0.0 -0.0  1.0  0.0\n",
            "3  0.0  0.0 -0.0  1.0\n"
          ]
        }
      ]
    },
    {
      "cell_type": "code",
      "source": [
        "#исходная матрица\n",
        "A = L.dot(lambda_matrix).dot(L_)\n",
        "print('A = ')\n",
        "print(np.round(A))"
      ],
      "metadata": {
        "colab": {
          "base_uri": "https://localhost:8080/"
        },
        "id": "32RnsVUS2Pgh",
        "outputId": "c1f9e4ab-ea4d-4a5c-d37a-0f9846fdba3b"
      },
      "execution_count": 6,
      "outputs": [
        {
          "output_type": "stream",
          "name": "stdout",
          "text": [
            "A = \n",
            "[[ -6.   6.   0.   0.]\n",
            " [-18.  15.   0.   0.]\n",
            " [ 81. -48.   9. -12.]\n",
            " [ 92. -56.   6.  -8.]]\n"
          ]
        }
      ]
    },
    {
      "cell_type": "code",
      "source": [
        "#дополнительные вычисления для составления матрицы управляемости\n",
        "\n",
        "AB = A.dot(B)\n",
        "print(\"A * B = \")\n",
        "print(AB)\n",
        "print(\"\\n\")\n",
        "\n",
        "AAB = A.dot(A).dot(B)\n",
        "print(\"A * A * B = \")\n",
        "print(AAB)\n",
        "print(\"\\n\")\n",
        "\n",
        "AAAB = A.dot(A).dot(A).dot(B)\n",
        "print(\"A * A * A * B = \")\n",
        "print(AAAB)"
      ],
      "metadata": {
        "colab": {
          "base_uri": "https://localhost:8080/"
        },
        "id": "z8EDG3gErQDn",
        "outputId": "505d19a3-98ea-4bd8-dad9-2785478aa533"
      },
      "execution_count": 7,
      "outputs": [
        {
          "output_type": "stream",
          "name": "stdout",
          "text": [
            "A * B = \n",
            "[[  -6.   42.]\n",
            " [ -18.  111.]\n",
            " [ 144. -507.]\n",
            " [ 134. -534.]]\n",
            "\n",
            "\n",
            "A * A * B = \n",
            "[[  -72.   414.]\n",
            " [ -162.   909.]\n",
            " [   66.   -81.]\n",
            " [  248. -1122.]]\n",
            "\n",
            "\n",
            "A * A * A * B = \n",
            "[[ -540.  2970.]\n",
            " [-1134.  6183.]\n",
            " [ -438.  2637.]\n",
            " [  860. -4326.]]\n"
          ]
        }
      ]
    },
    {
      "cell_type": "code",
      "source": [
        "#матрица управляемости\n",
        "beta = np.concatenate((np.round(B), np.round(AB), np.round(AAB), np.round(AAAB)), axis=1)\n",
        "print(\"{A,B} = \")\n",
        "print(pd.DataFrame(beta))"
      ],
      "metadata": {
        "colab": {
          "base_uri": "https://localhost:8080/"
        },
        "id": "SjXNaaIOyqTV",
        "outputId": "232d7ba6-e1a6-46e3-c14e-9a2ec2947e8d"
      },
      "execution_count": 8,
      "outputs": [
        {
          "output_type": "stream",
          "name": "stdout",
          "text": [
            "{A,B} = \n",
            "     0    1      2      3      4       5       6       7\n",
            "0  1.0 -2.0   -6.0   42.0  -72.0   414.0  -540.0  2970.0\n",
            "1  0.0  5.0  -18.0  111.0 -162.0   909.0 -1134.0  6183.0\n",
            "2  7.0 -9.0  144.0 -507.0   66.0   -81.0  -438.0  2637.0\n",
            "3  0.0  2.0  134.0 -534.0  248.0 -1122.0   860.0 -4326.0\n"
          ]
        }
      ]
    },
    {
      "cell_type": "code",
      "source": [
        "rang_beta = np.linalg.matrix_rank(beta)\n",
        "print(\"Ранг матрицы управляемости rg {A,B} = \" + str(rang_beta))"
      ],
      "metadata": {
        "colab": {
          "base_uri": "https://localhost:8080/"
        },
        "id": "QsnOyf_bz2qS",
        "outputId": "0190ccd8-1479-403b-91a1-f4c7f9c968fe"
      },
      "execution_count": 9,
      "outputs": [
        {
          "output_type": "stream",
          "name": "stdout",
          "text": [
            "Ранг матрицы управляемости rg {A,B} = 4\n"
          ]
        }
      ]
    },
    {
      "cell_type": "code",
      "source": [
        "#проверка для 1.15\n",
        "print(\"B_1 = \")\n",
        "print(B[:,0])\n",
        "print('\\n')\n",
        "\n",
        "print('A * B_1 = ')\n",
        "AB1 = A.dot(B[:,0])\n",
        "print(AB1)\n",
        "print('\\n')\n",
        "\n",
        "AAB1 = A.dot(A).dot(B[:,0])\n",
        "print('A * A * B_1 = ')\n",
        "print(AAB1)\n",
        "print('\\n')\n",
        "\n",
        "print('A * A * A * B_1 = ')\n",
        "AAAB1 = A.dot(A).dot(A).dot(B[:,0])\n",
        "print(AAAB1)"
      ],
      "metadata": {
        "colab": {
          "base_uri": "https://localhost:8080/"
        },
        "id": "_nAZ3tkZ04cQ",
        "outputId": "44fedbe3-2990-41e7-9467-d58f35e5c02e"
      },
      "execution_count": 10,
      "outputs": [
        {
          "output_type": "stream",
          "name": "stdout",
          "text": [
            "B_1 = \n",
            "[[1]\n",
            " [0]\n",
            " [7]\n",
            " [0]]\n",
            "\n",
            "\n",
            "A * B_1 = \n",
            "[[ -6.]\n",
            " [-18.]\n",
            " [144.]\n",
            " [134.]]\n",
            "\n",
            "\n",
            "A * A * B_1 = \n",
            "[[ -72.]\n",
            " [-162.]\n",
            " [  66.]\n",
            " [ 248.]]\n",
            "\n",
            "\n",
            "A * A * A * B_1 = \n",
            "[[ -540.]\n",
            " [-1134.]\n",
            " [ -438.]\n",
            " [  860.]]\n"
          ]
        }
      ]
    },
    {
      "cell_type": "code",
      "source": [
        "beta1 = np.concatenate((B[:,0], AB1, AAB1, AAAB1), axis=1)\n",
        "print('{A, B_1} = ')\n",
        "print(pd.DataFrame(beta1))\n",
        "rang_beta1 = np.linalg.matrix_rank(beta1)\n",
        "print(\"\\nРанг матрицы управляемости rg {A,B_1} = \" + str(rang_beta1))"
      ],
      "metadata": {
        "colab": {
          "base_uri": "https://localhost:8080/"
        },
        "id": "--7BM8zo2zQ8",
        "outputId": "d66c05c7-7346-4271-83aa-c7ebde49fb2f"
      },
      "execution_count": 11,
      "outputs": [
        {
          "output_type": "stream",
          "name": "stdout",
          "text": [
            "{A, B_1} = \n",
            "     0      1      2       3\n",
            "0  1.0   -6.0  -72.0  -540.0\n",
            "1  0.0  -18.0 -162.0 -1134.0\n",
            "2  7.0  144.0   66.0  -438.0\n",
            "3  0.0  134.0  248.0   860.0\n",
            "\n",
            "Ранг матрицы управляемости rg {A,B_1} = 4\n"
          ]
        }
      ]
    },
    {
      "cell_type": "code",
      "source": [
        "#дополнительные вычисления для матрицы наблюдаемости\n",
        "A_arr = A.T\n",
        "C_arr = C.T\n",
        "\n",
        "AC = np.matrix(A_arr.dot(C_arr))\n",
        "AAC = np.matrix(A_arr.dot(A_arr).dot(C_arr))\n",
        "AAAC = np.matrix(A_arr.dot(A_arr).dot(A_arr).dot(C_arr))\n",
        "print(\"A * C = \")\n",
        "print(AC)\n",
        "print('\\n')\n",
        "\n",
        "print(\"A * A * C = \")\n",
        "print(AAC)\n",
        "print('\\n')\n",
        "print(\"A * A * A * C = \")\n",
        "print(AAAC)\n",
        "print('\\n')"
      ],
      "metadata": {
        "colab": {
          "base_uri": "https://localhost:8080/"
        },
        "id": "DuT-hlaL3DLo",
        "outputId": "c54e6edc-3914-40a3-a2c7-e1e9415ed850"
      },
      "execution_count": 12,
      "outputs": [
        {
          "output_type": "stream",
          "name": "stdout",
          "text": [
            "A * C = \n",
            "[[ 201.]\n",
            " [-156.]\n",
            " [   9.]\n",
            " [ -12.]]\n",
            "\n",
            "\n",
            "A * A * C = \n",
            "[[1227.]\n",
            " [-894.]\n",
            " [   9.]\n",
            " [ -12.]]\n",
            "\n",
            "\n",
            "A * A * A * C = \n",
            "[[ 8355.]\n",
            " [-5808.]\n",
            " [    9.]\n",
            " [  -12.]]\n",
            "\n",
            "\n"
          ]
        }
      ]
    },
    {
      "cell_type": "code",
      "source": [
        "gamma = np.concatenate((C.T, AC, AAC, AAAC), axis=1)\n",
        "print('{A, С} = ')\n",
        "print(pd.DataFrame(gamma))\n",
        "rang_gamma = np.linalg.matrix_rank(gamma)\n",
        "print(\"\\nРанг матрицы наблюдаемости rg {A,C} = \" + str(rang_gamma))"
      ],
      "metadata": {
        "colab": {
          "base_uri": "https://localhost:8080/"
        },
        "id": "ViaGBBzh7CGh",
        "outputId": "a6a84a99-b34d-47ee-fcb0-4132c0e780e1"
      },
      "execution_count": 15,
      "outputs": [
        {
          "output_type": "stream",
          "name": "stdout",
          "text": [
            "{A, С} = \n",
            "     0      1       2       3\n",
            "0 -8.0  201.0  1227.0  8355.0\n",
            "1 -4.0 -156.0  -894.0 -5808.0\n",
            "2  1.0    9.0     9.0     9.0\n",
            "3  0.0  -12.0   -12.0   -12.0\n",
            "\n",
            "Ранг матрицы наблюдаемости rg {A,C} = 4\n"
          ]
        }
      ]
    },
    {
      "cell_type": "code",
      "source": [
        "#пункт 1.15\n",
        "#1) \n",
        "d0 = 1\n",
        "d1 = -10\n",
        "d2 = 27\n",
        "d3 = -18"
      ],
      "metadata": {
        "id": "Zunn80UL9Cxr"
      },
      "execution_count": 17,
      "outputs": []
    },
    {
      "cell_type": "code",
      "source": [
        "#нахождение матрицы S\n",
        "S4 = np.round(B[:,0])\n",
        "S3 = np.round(A.dot(S4) + d1 * B[:,0])\n",
        "S2 = np.round(A.dot(S3) + d2 * B[:,0])\n",
        "S1 = np.round(A.dot(S2) + d3 * B[:,0])\n",
        "print('S_1 = ')\n",
        "print(S1)\n",
        "print('\\nS_2 = ')\n",
        "print(S2)\n",
        "print('\\nS_3 = ')\n",
        "print(S3)\n",
        "print('\\nS_4 = ')\n",
        "print(S4)\n",
        "print('\\nS = ')\n",
        "S = np.concatenate((S1, S2, S3, S4), axis=1)\n",
        "print(pd.DataFrame(S))\n",
        "print('\\nS_обр = 1/6233760 *')\n",
        "S_ = np.linalg.inv(S)\n",
        "print(pd.DataFrame(S_ * 6233760))"
      ],
      "metadata": {
        "colab": {
          "base_uri": "https://localhost:8080/"
        },
        "id": "J9RSXOWf-08F",
        "outputId": "37b4a70e-22d2-4606-8bf6-a79401a8dc41"
      },
      "execution_count": 40,
      "outputs": [
        {
          "output_type": "stream",
          "name": "stdout",
          "text": [
            "S_1 = \n",
            "[[  -0.]\n",
            " [  -0.]\n",
            " [2664.]\n",
            " [1998.]]\n",
            "\n",
            "S_2 = \n",
            "[[   15.]\n",
            " [   18.]\n",
            " [-1185.]\n",
            " [-1092.]]\n",
            "\n",
            "S_3 = \n",
            "[[-16.]\n",
            " [-18.]\n",
            " [ 74.]\n",
            " [134.]]\n",
            "\n",
            "S_4 = \n",
            "[[1]\n",
            " [0]\n",
            " [7]\n",
            " [0]]\n",
            "\n",
            "S = \n",
            "        0       1      2    3\n",
            "0    -0.0    15.0  -16.0  1.0\n",
            "1    -0.0    18.0  -18.0  0.0\n",
            "2  2664.0 -1185.0   74.0  7.0\n",
            "3  1998.0 -1092.0  134.0  0.0\n",
            "\n",
            "S_обр = 1/6233760 *\n",
            "           0          1        2        3\n",
            "0  -120708.0    30252.0  17244.0 -19872.0\n",
            "1  -251748.0    14652.0  35964.0 -47952.0\n",
            "2  -251748.0  -331668.0  35964.0 -47952.0\n",
            "3  5982012.0 -5526468.0  35964.0 -47952.0\n"
          ]
        }
      ]
    },
    {
      "cell_type": "code",
      "source": [
        "print(\"S * S_обр = \")\n",
        "pd.DataFrame(np.round(S.dot(S_)))"
      ],
      "metadata": {
        "colab": {
          "base_uri": "https://localhost:8080/",
          "height": 193
        },
        "id": "1Rz10eF8jO2Y",
        "outputId": "95f72d52-3d89-4a9a-f4dc-9fb445812e2a"
      },
      "execution_count": 41,
      "outputs": [
        {
          "output_type": "stream",
          "name": "stdout",
          "text": [
            "S * S_обр = \n"
          ]
        },
        {
          "output_type": "execute_result",
          "data": {
            "text/html": [
              "\n",
              "  <div id=\"df-2109d242-5902-476f-8d52-c99257b365f9\">\n",
              "    <div class=\"colab-df-container\">\n",
              "      <div>\n",
              "<style scoped>\n",
              "    .dataframe tbody tr th:only-of-type {\n",
              "        vertical-align: middle;\n",
              "    }\n",
              "\n",
              "    .dataframe tbody tr th {\n",
              "        vertical-align: top;\n",
              "    }\n",
              "\n",
              "    .dataframe thead th {\n",
              "        text-align: right;\n",
              "    }\n",
              "</style>\n",
              "<table border=\"1\" class=\"dataframe\">\n",
              "  <thead>\n",
              "    <tr style=\"text-align: right;\">\n",
              "      <th></th>\n",
              "      <th>0</th>\n",
              "      <th>1</th>\n",
              "      <th>2</th>\n",
              "      <th>3</th>\n",
              "    </tr>\n",
              "  </thead>\n",
              "  <tbody>\n",
              "    <tr>\n",
              "      <th>0</th>\n",
              "      <td>1.0</td>\n",
              "      <td>0.0</td>\n",
              "      <td>-0.0</td>\n",
              "      <td>0.0</td>\n",
              "    </tr>\n",
              "    <tr>\n",
              "      <th>1</th>\n",
              "      <td>0.0</td>\n",
              "      <td>1.0</td>\n",
              "      <td>-0.0</td>\n",
              "      <td>0.0</td>\n",
              "    </tr>\n",
              "    <tr>\n",
              "      <th>2</th>\n",
              "      <td>-0.0</td>\n",
              "      <td>-0.0</td>\n",
              "      <td>1.0</td>\n",
              "      <td>-0.0</td>\n",
              "    </tr>\n",
              "    <tr>\n",
              "      <th>3</th>\n",
              "      <td>-0.0</td>\n",
              "      <td>-0.0</td>\n",
              "      <td>-0.0</td>\n",
              "      <td>1.0</td>\n",
              "    </tr>\n",
              "  </tbody>\n",
              "</table>\n",
              "</div>\n",
              "      <button class=\"colab-df-convert\" onclick=\"convertToInteractive('df-2109d242-5902-476f-8d52-c99257b365f9')\"\n",
              "              title=\"Convert this dataframe to an interactive table.\"\n",
              "              style=\"display:none;\">\n",
              "        \n",
              "  <svg xmlns=\"http://www.w3.org/2000/svg\" height=\"24px\"viewBox=\"0 0 24 24\"\n",
              "       width=\"24px\">\n",
              "    <path d=\"M0 0h24v24H0V0z\" fill=\"none\"/>\n",
              "    <path d=\"M18.56 5.44l.94 2.06.94-2.06 2.06-.94-2.06-.94-.94-2.06-.94 2.06-2.06.94zm-11 1L8.5 8.5l.94-2.06 2.06-.94-2.06-.94L8.5 2.5l-.94 2.06-2.06.94zm10 10l.94 2.06.94-2.06 2.06-.94-2.06-.94-.94-2.06-.94 2.06-2.06.94z\"/><path d=\"M17.41 7.96l-1.37-1.37c-.4-.4-.92-.59-1.43-.59-.52 0-1.04.2-1.43.59L10.3 9.45l-7.72 7.72c-.78.78-.78 2.05 0 2.83L4 21.41c.39.39.9.59 1.41.59.51 0 1.02-.2 1.41-.59l7.78-7.78 2.81-2.81c.8-.78.8-2.07 0-2.86zM5.41 20L4 18.59l7.72-7.72 1.47 1.35L5.41 20z\"/>\n",
              "  </svg>\n",
              "      </button>\n",
              "      \n",
              "  <style>\n",
              "    .colab-df-container {\n",
              "      display:flex;\n",
              "      flex-wrap:wrap;\n",
              "      gap: 12px;\n",
              "    }\n",
              "\n",
              "    .colab-df-convert {\n",
              "      background-color: #E8F0FE;\n",
              "      border: none;\n",
              "      border-radius: 50%;\n",
              "      cursor: pointer;\n",
              "      display: none;\n",
              "      fill: #1967D2;\n",
              "      height: 32px;\n",
              "      padding: 0 0 0 0;\n",
              "      width: 32px;\n",
              "    }\n",
              "\n",
              "    .colab-df-convert:hover {\n",
              "      background-color: #E2EBFA;\n",
              "      box-shadow: 0px 1px 2px rgba(60, 64, 67, 0.3), 0px 1px 3px 1px rgba(60, 64, 67, 0.15);\n",
              "      fill: #174EA6;\n",
              "    }\n",
              "\n",
              "    [theme=dark] .colab-df-convert {\n",
              "      background-color: #3B4455;\n",
              "      fill: #D2E3FC;\n",
              "    }\n",
              "\n",
              "    [theme=dark] .colab-df-convert:hover {\n",
              "      background-color: #434B5C;\n",
              "      box-shadow: 0px 1px 3px 1px rgba(0, 0, 0, 0.15);\n",
              "      filter: drop-shadow(0px 1px 2px rgba(0, 0, 0, 0.3));\n",
              "      fill: #FFFFFF;\n",
              "    }\n",
              "  </style>\n",
              "\n",
              "      <script>\n",
              "        const buttonEl =\n",
              "          document.querySelector('#df-2109d242-5902-476f-8d52-c99257b365f9 button.colab-df-convert');\n",
              "        buttonEl.style.display =\n",
              "          google.colab.kernel.accessAllowed ? 'block' : 'none';\n",
              "\n",
              "        async function convertToInteractive(key) {\n",
              "          const element = document.querySelector('#df-2109d242-5902-476f-8d52-c99257b365f9');\n",
              "          const dataTable =\n",
              "            await google.colab.kernel.invokeFunction('convertToInteractive',\n",
              "                                                     [key], {});\n",
              "          if (!dataTable) return;\n",
              "\n",
              "          const docLinkHtml = 'Like what you see? Visit the ' +\n",
              "            '<a target=\"_blank\" href=https://colab.research.google.com/notebooks/data_table.ipynb>data table notebook</a>'\n",
              "            + ' to learn more about interactive tables.';\n",
              "          element.innerHTML = '';\n",
              "          dataTable['output_type'] = 'display_data';\n",
              "          await google.colab.output.renderOutput(dataTable, element);\n",
              "          const docLink = document.createElement('div');\n",
              "          docLink.innerHTML = docLinkHtml;\n",
              "          element.appendChild(docLink);\n",
              "        }\n",
              "      </script>\n",
              "    </div>\n",
              "  </div>\n",
              "  "
            ],
            "text/plain": [
              "     0    1    2    3\n",
              "0  1.0  0.0 -0.0  0.0\n",
              "1  0.0  1.0 -0.0  0.0\n",
              "2 -0.0 -0.0  1.0 -0.0\n",
              "3 -0.0 -0.0 -0.0  1.0"
            ]
          },
          "metadata": {},
          "execution_count": 41
        }
      ]
    },
    {
      "cell_type": "code",
      "source": [
        "print('det(S) = ' + str(np.round(np.linalg.det(S))))"
      ],
      "metadata": {
        "colab": {
          "base_uri": "https://localhost:8080/"
        },
        "id": "TSf-EopTsi1w",
        "outputId": "d48d6c92-a807-41a6-a233-19d4c130edbb"
      },
      "execution_count": 42,
      "outputs": [
        {
          "output_type": "stream",
          "name": "stdout",
          "text": [
            "det(S) = -6233760.0\n"
          ]
        }
      ]
    },
    {
      "cell_type": "code",
      "source": [
        "#в пункте 2) надо самому разложить многочлен по примеру и коэффициенты при p будут равны соответствующим позициям для вектора d с чертой"
      ],
      "metadata": {
        "id": "5dmXC0bgPwEN"
      },
      "execution_count": null,
      "outputs": []
    },
    {
      "cell_type": "code",
      "source": [
        "#3-4) поиск матрицы K\n",
        "d_ = [-2, -53, 198, -144]\n",
        "d = [-10, 27, -18, 0]\n",
        "K_ = np.matrix([d_[3] - d[3], d_[2] - d[2], d_[1] - d[1], d_[0] - d[0]]) #это K с чертой (ее можно найти с помощью пункта 2)\n",
        "#print(K_)\n",
        "K = K_.dot(S_)\n",
        "print(\"K = 1/6233760 * \")\n",
        "print(K*6233760.0)"
      ],
      "metadata": {
        "colab": {
          "base_uri": "https://localhost:8080/"
        },
        "id": "0J47zdi0HCMD",
        "outputId": "6dad57c8-d3d4-4d22-bad7-5000b065b379"
      },
      "execution_count": 43,
      "outputs": [
        {
          "output_type": "stream",
          "name": "stdout",
          "text": [
            "K = 1/6233760 * \n",
            "[[ 31000320. -18869760.   2695680.  -4043520.]]\n"
          ]
        }
      ]
    },
    {
      "cell_type": "code",
      "source": [
        "#5) поиск A с чертой\n",
        "A_ = A - (B[:,0]).dot(K)\n",
        "print('A_ = 1/6233760 * ')\n",
        "print(pd.DataFrame(A_*6233760))"
      ],
      "metadata": {
        "colab": {
          "base_uri": "https://localhost:8080/"
        },
        "id": "CFaY090vSFaO",
        "outputId": "5973de90-9979-49bc-94f4-b8def6bc6e46"
      },
      "execution_count": 44,
      "outputs": [
        {
          "output_type": "stream",
          "name": "stdout",
          "text": [
            "A_ = 1/6233760 * \n",
            "              0            1           2           3\n",
            "0 -6.840288e+07   56272320.0  -2695680.0   4043520.0\n",
            "1 -1.122077e+08   93506400.0         0.0         0.0\n",
            "2  2.879323e+08 -167132160.0  37234080.0 -46500480.0\n",
            "3  5.735059e+08 -349090560.0  37402560.0 -49870080.0\n"
          ]
        }
      ]
    },
    {
      "cell_type": "code",
      "source": [
        "lambda1 = -8\n",
        "I = np.eye(4)\n",
        "check1 = lambda1 * I - A_\n",
        "print('lambda * I - A_ = 1/6233760 * \\n' + str(pd.DataFrame(check1*6233760)))\n",
        "print('\\ndet (lambda * I - A_) = ' + str(np.round(np.linalg.det(check1))))"
      ],
      "metadata": {
        "id": "VOfnCwuycHUN",
        "outputId": "697bfef8-44a5-41b7-88ff-46bcc7e47128",
        "colab": {
          "base_uri": "https://localhost:8080/"
        }
      },
      "execution_count": 56,
      "outputs": [
        {
          "output_type": "stream",
          "name": "stdout",
          "text": [
            "lambda * I - A_ = 1/6233760 * \n",
            "              0            1           2             3\n",
            "0  1.853280e+07  -56272320.0   2695680.0 -4.043520e+06\n",
            "1  1.122077e+08 -143376480.0         0.0  0.000000e+00\n",
            "2 -2.879323e+08  167132160.0 -87104160.0  4.650048e+07\n",
            "3 -5.735059e+08  349090560.0 -37402560.0  3.322015e-08\n",
            "\n",
            "det (lambda * I - A_) = -0.0\n"
          ]
        }
      ]
    },
    {
      "cell_type": "code",
      "source": [
        "lambda2 = 1\n",
        "check2 = lambda2 * I - A_\n",
        "print('lambda * I - A_ = 1/6233760 * \\n' + str(pd.DataFrame(check2*6233760)))\n",
        "print('\\ndet (lambda * I - A_) = ' + str((np.round(np.linalg.det(check2)))))"
      ],
      "metadata": {
        "id": "en9EAgIu-p8N",
        "outputId": "14090eea-fa67-4515-dfc8-4d3256b677ab",
        "colab": {
          "base_uri": "https://localhost:8080/"
        }
      },
      "execution_count": 57,
      "outputs": [
        {
          "output_type": "stream",
          "name": "stdout",
          "text": [
            "lambda * I - A_ = 1/6233760 * \n",
            "              0            1           2           3\n",
            "0  7.463664e+07  -56272320.0   2695680.0  -4043520.0\n",
            "1  1.122077e+08  -87272640.0         0.0         0.0\n",
            "2 -2.879323e+08  167132160.0 -31000320.0  46500480.0\n",
            "3 -5.735059e+08  349090560.0 -37402560.0  56103840.0\n",
            "\n",
            "det (lambda * I - A_) = 0.0\n"
          ]
        }
      ]
    },
    {
      "cell_type": "code",
      "source": [
        "lambda3 = 3\n",
        "check3 = lambda3 * I - A_\n",
        "print('lambda * I - A_ = 1/6233760 * \\n' + str(pd.DataFrame(check3*6233760)))\n",
        "print('\\ndet (lambda * I - A_) = ' + str(np.round((np.linalg.det(check3)))))"
      ],
      "metadata": {
        "id": "UvBM2YjT_PQr",
        "outputId": "1cd87f20-7f96-45a9-fd15-5e7cfb66fe60",
        "colab": {
          "base_uri": "https://localhost:8080/"
        }
      },
      "execution_count": 58,
      "outputs": [
        {
          "output_type": "stream",
          "name": "stdout",
          "text": [
            "lambda * I - A_ = 1/6233760 * \n",
            "              0            1           2           3\n",
            "0  8.710416e+07  -56272320.0   2695680.0  -4043520.0\n",
            "1  1.122077e+08  -74805120.0         0.0         0.0\n",
            "2 -2.879323e+08  167132160.0 -18532800.0  46500480.0\n",
            "3 -5.735059e+08  349090560.0 -37402560.0  68571360.0\n",
            "\n",
            "det (lambda * I - A_) = 0.0\n"
          ]
        }
      ]
    },
    {
      "cell_type": "code",
      "source": [
        "lambda4 = 6\n",
        "check4 = lambda4 * I - A_\n",
        "print('lambda * I - A_ = 1/6233760 * \\n' + str(pd.DataFrame(check4*6233760)))\n",
        "print('\\ndet (lambda * I - A_) = ' + str((np.round(np.linalg.det(check4)))))"
      ],
      "metadata": {
        "id": "XHY2-AOu_9lw",
        "outputId": "507ff2b1-4037-4133-bda4-67612d5bf130",
        "colab": {
          "base_uri": "https://localhost:8080/"
        }
      },
      "execution_count": 59,
      "outputs": [
        {
          "output_type": "stream",
          "name": "stdout",
          "text": [
            "lambda * I - A_ = 1/6233760 * \n",
            "              0            1           2           3\n",
            "0  1.058054e+08  -56272320.0   2695680.0  -4043520.0\n",
            "1  1.122077e+08  -56103840.0         0.0         0.0\n",
            "2 -2.879323e+08  167132160.0    168480.0  46500480.0\n",
            "3 -5.735059e+08  349090560.0 -37402560.0  87272640.0\n",
            "\n",
            "det (lambda * I - A_) = 0.0\n"
          ]
        }
      ]
    }
  ]
}