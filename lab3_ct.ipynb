{
  "nbformat": 4,
  "nbformat_minor": 0,
  "metadata": {
    "colab": {
      "name": "lab3_ct.ipynb",
      "provenance": [],
      "authorship_tag": "ABX9TyO0g4Vvv3mPmr5wGBXzt7ey",
      "include_colab_link": true
    },
    "kernelspec": {
      "name": "python3",
      "display_name": "Python 3"
    },
    "language_info": {
      "name": "python"
    }
  },
  "cells": [
    {
      "cell_type": "markdown",
      "metadata": {
        "id": "view-in-github",
        "colab_type": "text"
      },
      "source": [
        "<a href=\"https://colab.research.google.com/github/Viktory4121/Control_theory/blob/main/lab3_ct.ipynb\" target=\"_parent\"><img src=\"https://colab.research.google.com/assets/colab-badge.svg\" alt=\"Open In Colab\"/></a>"
      ]
    },
    {
      "cell_type": "code",
      "execution_count": 1,
      "metadata": {
        "id": "hqKnc1oef4lF"
      },
      "outputs": [],
      "source": [
        "import pandas as pd\n",
        "import numpy as np\n",
        "import math"
      ]
    },
    {
      "cell_type": "markdown",
      "source": [
        "##1.1"
      ],
      "metadata": {
        "id": "5z6a8zFZo3Iy"
      }
    },
    {
      "cell_type": "code",
      "source": [
        "#дана система, где\n",
        "A = np.matrix([[84, -20],[-49, -10]])\n",
        "B = np.matrix([701, 5]).T\n",
        "\n",
        "print(\"A =\\n\", A)\n",
        "print(\"B =\\n\", B)"
      ],
      "metadata": {
        "colab": {
          "base_uri": "https://localhost:8080/"
        },
        "id": "tE2zy8vPod40",
        "outputId": "8e949b79-4818-43a3-c3a2-38d02493e54c"
      },
      "execution_count": 29,
      "outputs": [
        {
          "output_type": "stream",
          "name": "stdout",
          "text": [
            "A =\n",
            " [[ 84 -20]\n",
            " [-49 -10]]\n",
            "B =\n",
            " [[701]\n",
            " [  5]]\n"
          ]
        }
      ]
    },
    {
      "cell_type": "code",
      "source": [
        "#характеристический многочлен:\n",
        "print(\"det(p*I-A)=\\n=[[p-84, 20],[49, p+10]]=\")\n",
        "print(\"=(p-84)(p+10)-20*49=\")\n",
        "print(\"=p^2-74p-840-980=p^2-74p-1820=\")\n",
        "print(\"=(p - 37 + sqrt(3189))*(p - 37 - sqrt(3189))\")\n"
      ],
      "metadata": {
        "colab": {
          "base_uri": "https://localhost:8080/"
        },
        "id": "uUkRnY1spnUW",
        "outputId": "e2ce34c5-806b-4f7a-f90b-f15d5f7dd871"
      },
      "execution_count": 30,
      "outputs": [
        {
          "output_type": "stream",
          "name": "stdout",
          "text": [
            "det(p*I-A)=\n",
            "=[[p-84, 20],[49, p+10]]=\n",
            "=(p-84)(p+10)-20*49=\n",
            "=p^2-74p-840-980=p^2-74p-1820=\n",
            "=(p - 37 + sqrt(3189))*(p - 37 - sqrt(3189))\n"
          ]
        }
      ]
    },
    {
      "cell_type": "code",
      "source": [
        "d1 = -74\n",
        "d2 = -1820\n",
        "p1 = 37 + math.sqrt(3189)\n",
        "p2 = 37 - math.sqrt(3189)\n",
        "\n",
        "print(\"d1 = \", d1)\n",
        "print(\"d2 = \", d2)\n",
        "print(\"p1 = \", p1)\n",
        "print(\"p2 = \", p2)\n",
        "#система неустойчива, тк один из корней положительный"
      ],
      "metadata": {
        "colab": {
          "base_uri": "https://localhost:8080/"
        },
        "id": "sERehjIss9pl",
        "outputId": "bb641d16-c253-420a-88e8-03b7415d6269"
      },
      "execution_count": 31,
      "outputs": [
        {
          "output_type": "stream",
          "name": "stdout",
          "text": [
            "d1 =  -74\n",
            "d2 =  -1820\n",
            "p1 =  93.471231613982\n",
            "p2 =  -19.471231613982\n"
          ]
        }
      ]
    },
    {
      "cell_type": "code",
      "source": [
        "#матрица управляемости:\n",
        "#доп вычисления:\n",
        "AB = A.dot(B)\n",
        "print('A*B =\\n', AB)\n",
        "#n=2"
      ],
      "metadata": {
        "colab": {
          "base_uri": "https://localhost:8080/"
        },
        "id": "IxnOTGe9s_xh",
        "outputId": "c517ab17-6f5c-489d-e7f3-65ec5af0dbc0"
      },
      "execution_count": 32,
      "outputs": [
        {
          "output_type": "stream",
          "name": "stdout",
          "text": [
            "A*B =\n",
            " [[ 58784]\n",
            " [-34399]]\n"
          ]
        }
      ]
    },
    {
      "cell_type": "code",
      "source": [
        "#матрица управляемости:\n",
        "beta = np.concatenate((np.round(B), np.round(AB)), axis=1)\n",
        "print(\"{A,B}_u = \")\n",
        "print(beta)\n",
        "\n",
        "rang_beta = np.linalg.matrix_rank(beta)\n",
        "print(\"\\nРанг матрицы управляемости rg {A,B} = \" + str(rang_beta))\n",
        "#система вполне управляема"
      ],
      "metadata": {
        "colab": {
          "base_uri": "https://localhost:8080/"
        },
        "id": "09maDeU5t3Cv",
        "outputId": "0429ca84-bbdf-4990-c96a-7a457b0c47d7"
      },
      "execution_count": 33,
      "outputs": [
        {
          "output_type": "stream",
          "name": "stdout",
          "text": [
            "{A,B}_u = \n",
            "[[   701  58784]\n",
            " [     5 -34399]]\n",
            "\n",
            "Ранг матрицы управляемости rg {A,B} = 2\n"
          ]
        }
      ]
    },
    {
      "cell_type": "code",
      "source": [
        "#зададим собственные числа, удовл. критерию устойчивости непр. систем\n",
        "lambda_ = np.matrix([[-96,0],[0,-172]])\n",
        "print(\"Матрица собственных чисел:\\n\", lambda_)"
      ],
      "metadata": {
        "colab": {
          "base_uri": "https://localhost:8080/"
        },
        "id": "TRZ13zlNuA4d",
        "outputId": "051f69cc-b2b1-4ddd-d8b5-18f9df035ffe"
      },
      "execution_count": 34,
      "outputs": [
        {
          "output_type": "stream",
          "name": "stdout",
          "text": [
            "Матрица собственных чисел:\n",
            " [[ -96    0]\n",
            " [   0 -172]]\n"
          ]
        }
      ]
    },
    {
      "cell_type": "code",
      "source": [
        "#определим матрицу F:\n",
        "f2 = B.copy()\n",
        "f1 = A.dot(f2) + d1 * B\n",
        "F = np.concatenate((np.round(f1), np.round(f2)), axis=1)\n",
        "print(\"F = \")\n",
        "print(F)"
      ],
      "metadata": {
        "colab": {
          "base_uri": "https://localhost:8080/"
        },
        "id": "rdds8683u7Uv",
        "outputId": "96bc0767-8f37-44e6-d8e0-c3a8ea50ce2d"
      },
      "execution_count": 35,
      "outputs": [
        {
          "output_type": "stream",
          "name": "stdout",
          "text": [
            "F = \n",
            "[[  6910    701]\n",
            " [-34769      5]]\n"
          ]
        }
      ]
    },
    {
      "cell_type": "code",
      "source": [
        "#найдём F^{-1}\n",
        "det_F = np.round(np.linalg.det(F))\n",
        "F_ = np.linalg.inv(F)\n",
        "FF_ = F.dot(F_)\n",
        "print(\"det(F) = \", det_F)\n",
        "print(\"\\nF_обр = 1/\" + str(det_F) + \" * \\n\" + str(pd.DataFrame(np.round(F_*det_F))))\n",
        "print(\"\\nF * F_обр = \\n\", np.round(FF_))"
      ],
      "metadata": {
        "colab": {
          "base_uri": "https://localhost:8080/"
        },
        "id": "AAww7yaJvlhA",
        "outputId": "0004d442-f8f6-457b-c6fb-40eaeec4a6d8"
      },
      "execution_count": 36,
      "outputs": [
        {
          "output_type": "stream",
          "name": "stdout",
          "text": [
            "det(F) =  24407619.0\n",
            "\n",
            "F_обр = 1/24407619.0 * \n",
            "         0       1\n",
            "0      5.0  -701.0\n",
            "1  34769.0  6910.0\n",
            "\n",
            "F * F_обр = \n",
            " [[ 1. -0.]\n",
            " [-0.  1.]]\n"
          ]
        }
      ]
    },
    {
      "cell_type": "code",
      "source": [
        "#определим коэффициенты d_\n",
        "print(\"(p+96)*(p+172)=p^2 + 268p + 16512\")\n",
        "d1_ = 268\n",
        "d2_ = 16512"
      ],
      "metadata": {
        "colab": {
          "base_uri": "https://localhost:8080/"
        },
        "id": "X1pABoQUwRlX",
        "outputId": "54657b7a-db8c-4668-efb6-dd2035be700d"
      },
      "execution_count": 37,
      "outputs": [
        {
          "output_type": "stream",
          "name": "stdout",
          "text": [
            "(p+96)*(p+172)=p^2 + 268p + 16512\n"
          ]
        }
      ]
    },
    {
      "cell_type": "code",
      "source": [
        "#срсиавим строку K_:\n",
        "K_ = np.matrix([d2_-d2, d1_-d1])\n",
        "print(\"K_ = \", K_)\n",
        "\n",
        "K = K_.dot(F_)\n",
        "print(\"K = 1/\" + str(det_F) + \" * \\n\" + str(K*det_F))"
      ],
      "metadata": {
        "colab": {
          "base_uri": "https://localhost:8080/"
        },
        "id": "mcfYyyHIw_Py",
        "outputId": "9cd7c872-ee4d-4107-fb35-9563f9bb1aa5"
      },
      "execution_count": 38,
      "outputs": [
        {
          "output_type": "stream",
          "name": "stdout",
          "text": [
            "K_ =  [[18332   342]]\n",
            "K = 1/24407619.0 * \n",
            "[[ 11982658. -10487512.]]\n"
          ]
        }
      ]
    },
    {
      "cell_type": "code",
      "source": [
        "#u = K * x\n",
        "#желательно, чтобы матрицы K и K_ были целые (надо выносить множитель ещё у F_)"
      ],
      "metadata": {
        "id": "ZE8Kk7WYySuh"
      },
      "execution_count": null,
      "outputs": []
    },
    {
      "cell_type": "code",
      "source": [
        "#контроль\n",
        "A_ = A - B.dot(K)\n",
        "print(\"A_ = 1/\" + str(det_F) + \" * \\n\" + str(pd.DataFrame(np.round(A_*det_F))))\n",
        "\n",
        "print(\"\\ndet(p*I-A_) = 1/\" + str(det_F) + \"[[24407619p+....],[]]\")"
      ],
      "metadata": {
        "colab": {
          "base_uri": "https://localhost:8080/"
        },
        "id": "TwpoFsmaylHV",
        "outputId": "eb4f39e3-27f9-4429-8a1a-500000de3246"
      },
      "execution_count": 39,
      "outputs": [
        {
          "output_type": "stream",
          "name": "stdout",
          "text": [
            "A_ = 1/24407619.0 * \n",
            "              0             1\n",
            "0 -6.349603e+09  6.863594e+09\n",
            "1 -1.255887e+09 -1.916386e+08\n",
            "\n",
            "det(p*I-A_) = 1/24407619.0[[24407619p+....],[]]\n"
          ]
        }
      ]
    },
    {
      "cell_type": "markdown",
      "source": [
        "##1.2"
      ],
      "metadata": {
        "id": "kKY7IFuL_617"
      }
    },
    {
      "cell_type": "code",
      "source": [
        "#дана система с прежними А и В. И добавляется к ней:\n",
        "C = np.matrix([-38, 99])\n",
        "print(\"C = \\n\", C)\n",
        "#система неустойчива и вполне управляема (из пункта 1.1)"
      ],
      "metadata": {
        "colab": {
          "base_uri": "https://localhost:8080/"
        },
        "id": "zgELKbbo_6Lx",
        "outputId": "a299ee9d-fcdb-4585-ff28-6f4d24aa339b"
      },
      "execution_count": 40,
      "outputs": [
        {
          "output_type": "stream",
          "name": "stdout",
          "text": [
            "C = \n",
            " [[-38  99]]\n"
          ]
        }
      ]
    },
    {
      "cell_type": "code",
      "source": [
        "#матрица наблюдаемости\n",
        "A_arr = A.copy().T\n",
        "C_arr = C.copy().T\n",
        "\n",
        "AC = np.matrix(A_arr.dot(C_arr))\n",
        "print(\"A * C = \\n\", AC)\n",
        "\n",
        "gamma = np.concatenate((C.T, AC), axis=1)\n",
        "print('\\n{A, С} = \\n', gamma)\n",
        "rang_gamma = np.linalg.matrix_rank(gamma)\n",
        "print(\"\\nРанг матрицы наблюдаемости rg {A,C}_y = \" + str(rang_gamma))\n",
        "#система вполне наблюдаема"
      ],
      "metadata": {
        "colab": {
          "base_uri": "https://localhost:8080/"
        },
        "id": "i6I59fTRAJ3B",
        "outputId": "ba51778c-48da-4c0b-898a-149484d26fa4"
      },
      "execution_count": 41,
      "outputs": [
        {
          "output_type": "stream",
          "name": "stdout",
          "text": [
            "A * C = \n",
            " [[-8043]\n",
            " [ -230]]\n",
            "\n",
            "{A, С} = \n",
            " [[  -38 -8043]\n",
            " [   99  -230]]\n",
            "\n",
            "Ранг матрицы наблюдаемости rg {A,C}_y = 2\n"
          ]
        }
      ]
    },
    {
      "cell_type": "code",
      "source": [
        "#определим мотрицу Fd - F с домиком\n",
        "f2d = C.copy().T\n",
        "f1d = (A.T).dot(f2d) + d1 * (C.T)\n",
        "Fd = np.concatenate((np.round(f1d), np.round(f2d)), axis=1)\n",
        "print(\"F^ = \\n\", Fd)"
      ],
      "metadata": {
        "colab": {
          "base_uri": "https://localhost:8080/"
        },
        "id": "E4YiEZFFCFMy",
        "outputId": "c2cfa6f6-9174-47ba-ceae-7f8365f0999a"
      },
      "execution_count": 43,
      "outputs": [
        {
          "output_type": "stream",
          "name": "stdout",
          "text": [
            "F^ = \n",
            " [[-5231   -38]\n",
            " [-7556    99]]\n"
          ]
        }
      ]
    },
    {
      "cell_type": "code",
      "source": [
        "#найдём F^{-1}\n",
        "det_Fd = np.round(np.linalg.det(Fd))\n",
        "Fd_ = np.linalg.inv(Fd)\n",
        "FdFd_ = Fd.dot(Fd_)\n",
        "print(\"det(F^) = \", det_Fd)\n",
        "print(\"\\nF^_обр = 1/\" + str(det_Fd) + \" * \\n\" + str(pd.DataFrame(np.round(Fd_*det_Fd))))\n",
        "print(\"\\nF^ * F^_обр = \\n\", np.round(FdFd_))"
      ],
      "metadata": {
        "id": "ZWgpqQw6DX6L",
        "outputId": "c008801b-d296-403b-b222-7506ee04cf12",
        "colab": {
          "base_uri": "https://localhost:8080/"
        }
      },
      "execution_count": 44,
      "outputs": [
        {
          "output_type": "stream",
          "name": "stdout",
          "text": [
            "det(F^) =  -804997.0\n",
            "\n",
            "F^_обр = 1/-804997.0 * \n",
            "        0       1\n",
            "0    99.0    38.0\n",
            "1  7556.0 -5231.0\n",
            "\n",
            "F^ * F^_обр = \n",
            " [[1. 0.]\n",
            " [0. 1.]]\n"
          ]
        }
      ]
    },
    {
      "cell_type": "code",
      "source": [
        ""
      ],
      "metadata": {
        "id": "E26_NunKDuoj"
      },
      "execution_count": null,
      "outputs": []
    }
  ]
}