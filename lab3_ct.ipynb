{
  "nbformat": 4,
  "nbformat_minor": 0,
  "metadata": {
    "colab": {
      "name": "lab3_ct.ipynb",
      "provenance": [],
      "authorship_tag": "ABX9TyMI+H/Jz/qaXscpL5ozXUjL",
      "include_colab_link": true
    },
    "kernelspec": {
      "name": "python3",
      "display_name": "Python 3"
    },
    "language_info": {
      "name": "python"
    }
  },
  "cells": [
    {
      "cell_type": "markdown",
      "metadata": {
        "id": "view-in-github",
        "colab_type": "text"
      },
      "source": [
        "<a href=\"https://colab.research.google.com/github/Viktory4121/Control_theory/blob/main/lab3_ct.ipynb\" target=\"_parent\"><img src=\"https://colab.research.google.com/assets/colab-badge.svg\" alt=\"Open In Colab\"/></a>"
      ]
    },
    {
      "cell_type": "code",
      "execution_count": 1,
      "metadata": {
        "id": "hqKnc1oef4lF"
      },
      "outputs": [],
      "source": [
        "import pandas as pd\n",
        "import numpy as np\n",
        "import math"
      ]
    },
    {
      "cell_type": "markdown",
      "source": [
        "##1.1"
      ],
      "metadata": {
        "id": "5z6a8zFZo3Iy"
      }
    },
    {
      "cell_type": "code",
      "source": [
        "#дана система, где\n",
        "A = np.matrix([[84, -20],[-49, -10]])\n",
        "B = np.matrix([701, 5]).T\n",
        "\n",
        "print(\"A =\\n\", A)\n",
        "print(\"B =\\n\", B)"
      ],
      "metadata": {
        "colab": {
          "base_uri": "https://localhost:8080/"
        },
        "id": "tE2zy8vPod40",
        "outputId": "35b360ae-a2dc-43f8-d55f-38a0f89953ef"
      },
      "execution_count": 2,
      "outputs": [
        {
          "output_type": "stream",
          "name": "stdout",
          "text": [
            "A =\n",
            " [[ 84 -20]\n",
            " [-49 -10]]\n",
            "B =\n",
            " [[701]\n",
            " [  5]]\n"
          ]
        }
      ]
    },
    {
      "cell_type": "code",
      "source": [
        "#характеристический многочлен:\n",
        "print(\"det(p*I-A)=\\n=[[p-84, 20],[49, p+10]]=\")\n",
        "print(\"=(p-84)(p+10)-20*49=\")\n",
        "print(\"=p^2-74p-840-980=p^2-74p-1820=\")\n",
        "print(\"=(p - 37 + sqrt(3189))*(p - 37 - sqrt(3189))\")\n"
      ],
      "metadata": {
        "colab": {
          "base_uri": "https://localhost:8080/"
        },
        "id": "uUkRnY1spnUW",
        "outputId": "5dfaef92-cfef-44db-ed88-92caf909b5ec"
      },
      "execution_count": 3,
      "outputs": [
        {
          "output_type": "stream",
          "name": "stdout",
          "text": [
            "det(p*I-A)=\n",
            "=[[p-84, 20],[49, p+10]]=\n",
            "=(p-84)(p+10)-20*49=\n",
            "=p^2-74p-840-980=p^2-74p-1820=\n",
            "=(p - 37 + sqrt(3189))*(p - 37 - sqrt(3189))\n"
          ]
        }
      ]
    },
    {
      "cell_type": "code",
      "source": [
        "d1 = -74\n",
        "d2 = -1820\n",
        "p1 = 37 + math.sqrt(3189)\n",
        "p2 = 37 - math.sqrt(3189)\n",
        "\n",
        "print(\"d1 = \", d1)\n",
        "print(\"d2 = \", d2)\n",
        "print(\"p1 = \", p1)\n",
        "print(\"p2 = \", p2)\n",
        "#система неустойчива, тк один из корней положительный"
      ],
      "metadata": {
        "colab": {
          "base_uri": "https://localhost:8080/"
        },
        "id": "sERehjIss9pl",
        "outputId": "39e5d93a-4034-46c7-a0b9-470bbd8cf4b8"
      },
      "execution_count": 4,
      "outputs": [
        {
          "output_type": "stream",
          "name": "stdout",
          "text": [
            "d1 =  -74\n",
            "d2 =  -1820\n",
            "p1 =  93.471231613982\n",
            "p2 =  -19.471231613982\n"
          ]
        }
      ]
    },
    {
      "cell_type": "code",
      "source": [
        "#матрица управляемости:\n",
        "#доп вычисления:\n",
        "AB = A.dot(B)\n",
        "print('A*B =\\n', AB)\n",
        "#n=2"
      ],
      "metadata": {
        "colab": {
          "base_uri": "https://localhost:8080/"
        },
        "id": "IxnOTGe9s_xh",
        "outputId": "179ff5d1-1c83-4faa-e49b-222b61e785a9"
      },
      "execution_count": 5,
      "outputs": [
        {
          "output_type": "stream",
          "name": "stdout",
          "text": [
            "A*B =\n",
            " [[ 58784]\n",
            " [-34399]]\n"
          ]
        }
      ]
    },
    {
      "cell_type": "code",
      "source": [
        "#матрица управляемости:\n",
        "beta = np.concatenate((np.round(B), np.round(AB)), axis=1)\n",
        "print(\"{A,B}_u = \")\n",
        "print(beta)\n",
        "\n",
        "rang_beta = np.linalg.matrix_rank(beta)\n",
        "print(\"\\nРанг матрицы управляемости rg {A,B} = \" + str(rang_beta))\n",
        "#система вполне управляема"
      ],
      "metadata": {
        "colab": {
          "base_uri": "https://localhost:8080/"
        },
        "id": "09maDeU5t3Cv",
        "outputId": "e20a81f6-372f-4219-900e-230212e6a22c"
      },
      "execution_count": 6,
      "outputs": [
        {
          "output_type": "stream",
          "name": "stdout",
          "text": [
            "{A,B}_u = \n",
            "[[   701  58784]\n",
            " [     5 -34399]]\n",
            "\n",
            "Ранг матрицы управляемости rg {A,B} = 2\n"
          ]
        }
      ]
    },
    {
      "cell_type": "code",
      "source": [
        "#зададим собственные числа, удовл. критерию устойчивости непр. систем\n",
        "lambda_ = np.matrix([[-96,0],[0,-172]])\n",
        "print(\"Матрица собственных чисел:\\n\", lambda_)"
      ],
      "metadata": {
        "colab": {
          "base_uri": "https://localhost:8080/"
        },
        "id": "TRZ13zlNuA4d",
        "outputId": "586fc796-7598-4b28-ce68-aa65a9bdd407"
      },
      "execution_count": 7,
      "outputs": [
        {
          "output_type": "stream",
          "name": "stdout",
          "text": [
            "Матрица собственных чисел:\n",
            " [[ -96    0]\n",
            " [   0 -172]]\n"
          ]
        }
      ]
    },
    {
      "cell_type": "code",
      "source": [
        "#определим матрицу F:\n",
        "f2 = B.copy()\n",
        "f1 = A.dot(f2) + d1 * B\n",
        "F = np.concatenate((np.round(f1), np.round(f2)), axis=1)\n",
        "print(\"F = \")\n",
        "print(F)"
      ],
      "metadata": {
        "colab": {
          "base_uri": "https://localhost:8080/"
        },
        "id": "rdds8683u7Uv",
        "outputId": "4157e45f-8f2f-4fa7-82ff-1d9c762eea5e"
      },
      "execution_count": 8,
      "outputs": [
        {
          "output_type": "stream",
          "name": "stdout",
          "text": [
            "F = \n",
            "[[  6910    701]\n",
            " [-34769      5]]\n"
          ]
        }
      ]
    },
    {
      "cell_type": "code",
      "source": [
        "#найдём F^{-1}\n",
        "det_F = np.round(np.linalg.det(F))\n",
        "F_ = np.linalg.inv(F)\n",
        "FF_ = F.dot(F_)\n",
        "print(\"det(F) = \", det_F)\n",
        "print(\"\\nF_обр = 1/\" + str(det_F) + \" * \\n\" + str(pd.DataFrame(np.round(F_*det_F))))\n",
        "print(\"\\nF * F_обр = \\n\", np.round(FF_))"
      ],
      "metadata": {
        "colab": {
          "base_uri": "https://localhost:8080/"
        },
        "id": "AAww7yaJvlhA",
        "outputId": "42b6d523-83b6-45c7-9c99-76ffae62363f"
      },
      "execution_count": 13,
      "outputs": [
        {
          "output_type": "stream",
          "name": "stdout",
          "text": [
            "det(F) =  24407619.0\n",
            "\n",
            "F_обр = 1/24407619.0 * \n",
            "         0       1\n",
            "0      5.0  -701.0\n",
            "1  34769.0  6910.0\n",
            "\n",
            "F * F_обр = \n",
            " [[ 1. -0.]\n",
            " [-0.  1.]]\n"
          ]
        }
      ]
    },
    {
      "cell_type": "code",
      "source": [
        "#определим коэффициенты d_\n",
        "print(\"(p+96)*(p+172)=p^2 + 268p + 16512\")\n",
        "d1_ = 268\n",
        "d2_ = 16512"
      ],
      "metadata": {
        "colab": {
          "base_uri": "https://localhost:8080/"
        },
        "id": "X1pABoQUwRlX",
        "outputId": "b2ade836-0799-49cb-ca88-4aaaa0eaed32"
      },
      "execution_count": 14,
      "outputs": [
        {
          "output_type": "stream",
          "name": "stdout",
          "text": [
            "(p+96)*(p+172)=p^2 + 268p + 16512\n"
          ]
        }
      ]
    },
    {
      "cell_type": "code",
      "source": [
        "#срсиавим строку K_:\n",
        "K_ = np.matrix([d2_-d2, d1_-d1])\n",
        "print(\"K_ = \", K_)\n",
        "\n",
        "K = K_.dot(F_)\n",
        "print(\"K = 1/\" + str(det_F) + \" * \\n\" + str(K*det_F))"
      ],
      "metadata": {
        "colab": {
          "base_uri": "https://localhost:8080/"
        },
        "id": "mcfYyyHIw_Py",
        "outputId": "e600ac32-cdd8-4a4e-a104-3b4a1a58cb49"
      },
      "execution_count": 16,
      "outputs": [
        {
          "output_type": "stream",
          "name": "stdout",
          "text": [
            "K_ =  [[18332   342]]\n",
            "K = 1/24407619.0 * \n",
            "[[ 11982658. -10487512.]]\n"
          ]
        }
      ]
    },
    {
      "cell_type": "code",
      "source": [
        "#u = K * x\n",
        "#желательно, чтобы матрицы K и K_ были целые (надо выносить множитель ещё у F_)"
      ],
      "metadata": {
        "id": "ZE8Kk7WYySuh"
      },
      "execution_count": null,
      "outputs": []
    },
    {
      "cell_type": "code",
      "source": [
        "#контроль\n",
        "A_ = A - B.dot(K)\n",
        "print(\"A_ = 1/\" + str(det_F) + \" * \\n\" + str(pd.DataFrame(np.round(A_*det_F))))\n",
        "\n",
        "print(\"\\ndet(p*I-A_) = 1/\" + str(det_F) + \"[[24407619p+....],[]]\")"
      ],
      "metadata": {
        "colab": {
          "base_uri": "https://localhost:8080/"
        },
        "id": "TwpoFsmaylHV",
        "outputId": "548748d9-d62f-4d90-9bdb-d02a8afe4b74"
      },
      "execution_count": 21,
      "outputs": [
        {
          "output_type": "stream",
          "name": "stdout",
          "text": [
            "A_ = 1/24407619.0 * \n",
            "              0             1\n",
            "0 -6.349603e+09  6.863594e+09\n",
            "1 -1.255887e+09 -1.916386e+08\n",
            "\n",
            "det(p*I-A_) = 1/24407619.0[[24407619p+....],[]]\n"
          ]
        }
      ]
    },
    {
      "cell_type": "markdown",
      "source": [
        "##1.2"
      ],
      "metadata": {
        "id": "kKY7IFuL_617"
      }
    },
    {
      "cell_type": "code",
      "source": [
        "#дана система с прежними А и В. И добавляется к ней:\n",
        "C = np.matrix([-38, 99])\n",
        "print(\"C = \\n\", C)\n",
        "#система неустойчива и вполне управляема (из пункта 1.1)"
      ],
      "metadata": {
        "id": "zgELKbbo_6Lx",
        "outputId": "8387adb5-f239-40ba-cac9-a7e581ac7947",
        "colab": {
          "base_uri": "https://localhost:8080/"
        }
      },
      "execution_count": 23,
      "outputs": [
        {
          "output_type": "stream",
          "name": "stdout",
          "text": [
            "C = \n",
            " [[-38  99]]\n"
          ]
        }
      ]
    },
    {
      "cell_type": "code",
      "source": [
        "#матрица наблюдаемости\n",
        "A_arr = A.T\n",
        "C_arr = C.T\n",
        "\n",
        "AC = np.matrix(A_arr.dot(C_arr))\n",
        "print(\"A * C = \\n\", AC)\n",
        "\n",
        "gamma = np.concatenate((C.T, AC), axis=1)\n",
        "print('\\n{A, С} = \\n', gamma)\n",
        "rang_gamma = np.linalg.matrix_rank(gamma)\n",
        "print(\"\\nРанг матрицы наблюдаемости rg {A,C}_y = \" + str(rang_gamma))\n",
        "#система вполне наблюдаема"
      ],
      "metadata": {
        "id": "i6I59fTRAJ3B",
        "outputId": "63a97bea-55bb-4cd4-ba4e-95cd91738743",
        "colab": {
          "base_uri": "https://localhost:8080/"
        }
      },
      "execution_count": 27,
      "outputs": [
        {
          "output_type": "stream",
          "name": "stdout",
          "text": [
            "A * C = \n",
            " [[-8043]\n",
            " [ -230]]\n",
            "\n",
            "{A, С} = \n",
            " [[  -38 -8043]\n",
            " [   99  -230]]\n",
            "\n",
            "Ранг матрицы наблюдаемости rg {A,C}_y = 2\n"
          ]
        }
      ]
    },
    {
      "cell_type": "code",
      "source": [
        ""
      ],
      "metadata": {
        "id": "E4YiEZFFCFMy"
      },
      "execution_count": null,
      "outputs": []
    }
  ]
}