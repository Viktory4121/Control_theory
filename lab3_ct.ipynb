{
  "nbformat": 4,
  "nbformat_minor": 0,
  "metadata": {
    "colab": {
      "name": "lab3_ct.ipynb",
      "provenance": [],
      "authorship_tag": "ABX9TyNH6BRNcSObb+0hcp/ohTg6",
      "include_colab_link": true
    },
    "kernelspec": {
      "name": "python3",
      "display_name": "Python 3"
    },
    "language_info": {
      "name": "python"
    }
  },
  "cells": [
    {
      "cell_type": "markdown",
      "metadata": {
        "id": "view-in-github",
        "colab_type": "text"
      },
      "source": [
        "<a href=\"https://colab.research.google.com/github/Viktory4121/Control_theory/blob/main/lab3_ct.ipynb\" target=\"_parent\"><img src=\"https://colab.research.google.com/assets/colab-badge.svg\" alt=\"Open In Colab\"/></a>"
      ]
    },
    {
      "cell_type": "code",
      "execution_count": 11,
      "metadata": {
        "id": "hqKnc1oef4lF"
      },
      "outputs": [],
      "source": [
        "import pandas as pd\n",
        "import numpy as np\n",
        "import math"
      ]
    },
    {
      "cell_type": "markdown",
      "source": [
        "##1.1"
      ],
      "metadata": {
        "id": "5z6a8zFZo3Iy"
      }
    },
    {
      "cell_type": "code",
      "source": [
        "#дана система, где\n",
        "A = np.matrix([[84, -20],[-49, -10]])\n",
        "B = np.matrix([701, 5]).T\n",
        "\n",
        "print(\"A =\\n\", A)\n",
        "print(\"B =\\n\", B)"
      ],
      "metadata": {
        "colab": {
          "base_uri": "https://localhost:8080/"
        },
        "id": "tE2zy8vPod40",
        "outputId": "5871c250-ae07-4a55-d155-4fb02cbd87a5"
      },
      "execution_count": 12,
      "outputs": [
        {
          "output_type": "stream",
          "name": "stdout",
          "text": [
            "A =\n",
            " [[ 84 -20]\n",
            " [-49 -10]]\n",
            "B =\n",
            " [[701]\n",
            " [  5]]\n"
          ]
        }
      ]
    },
    {
      "cell_type": "code",
      "source": [
        "#характеристический многочлен:\n",
        "print(\"det(p*I-A)=\\n=[[p-84, 20],[49, p+10]]=\")\n",
        "print(\"=(p-84)(p+10)-20*49=\")\n",
        "print(\"=p^2-74p-840-980=p^2-74p-1820=\")\n",
        "print(\"=(p - 37 + sqrt(3189))*(p - 37 - sqrt(3189))\")\n"
      ],
      "metadata": {
        "colab": {
          "base_uri": "https://localhost:8080/"
        },
        "id": "uUkRnY1spnUW",
        "outputId": "a55dafae-4dd4-4d76-c116-f4d75b61d79d"
      },
      "execution_count": 13,
      "outputs": [
        {
          "output_type": "stream",
          "name": "stdout",
          "text": [
            "det(p*I-A)=\n",
            "=[[p-84, 20],[49, p+10]]=\n",
            "=(p-84)(p+10)-20*49=\n",
            "=p^2-74p-840-980=p^2-74p-1820=\n",
            "=(p - 37 + sqrt(3189))*(p - 37 - sqrt(3189))\n"
          ]
        }
      ]
    },
    {
      "cell_type": "code",
      "source": [
        "d1 = -74\n",
        "d2 = -1820\n",
        "p1 = 37 + math.sqrt(3189)\n",
        "p2 = 37 - math.sqrt(3189)\n",
        "\n",
        "print(\"d1 = \", d1)\n",
        "print(\"d2 = \", d2)\n",
        "print(\"p1 = \", p1)\n",
        "print(\"p2 = \", p2)\n",
        "#система неустойчива, тк один из корней положительный"
      ],
      "metadata": {
        "colab": {
          "base_uri": "https://localhost:8080/"
        },
        "id": "sERehjIss9pl",
        "outputId": "4ad4da5e-d13b-4af4-b44a-2f8559e097c1"
      },
      "execution_count": 17,
      "outputs": [
        {
          "output_type": "stream",
          "name": "stdout",
          "text": [
            "d1 =  -74\n",
            "d2 =  -1820\n",
            "p1 =  93.471231613982\n",
            "p2 =  -19.471231613982\n"
          ]
        }
      ]
    },
    {
      "cell_type": "code",
      "source": [
        "#матрица управляемости:\n",
        "#доп вычисления:\n",
        "AB = A.dot(B)\n",
        "print('A*B =\\n', AB)\n",
        "#n=2"
      ],
      "metadata": {
        "colab": {
          "base_uri": "https://localhost:8080/"
        },
        "id": "IxnOTGe9s_xh",
        "outputId": "d0c549cb-d6d5-4955-c0ae-57a18b5d904e"
      },
      "execution_count": 18,
      "outputs": [
        {
          "output_type": "stream",
          "name": "stdout",
          "text": [
            "A*B =\n",
            " [[ 58784]\n",
            " [-34399]]\n"
          ]
        }
      ]
    },
    {
      "cell_type": "code",
      "source": [
        "#матрица управляемости:\n",
        "beta = np.concatenate((np.round(B), np.round(AB)), axis=1)\n",
        "print(\"{A,B}_u = \")\n",
        "print(beta)\n",
        "\n",
        "rang_beta = np.linalg.matrix_rank(beta)\n",
        "print(\"\\nРанг матрицы управляемости rg {A,B} = \" + str(rang_beta))\n",
        "#система вполне управляема"
      ],
      "metadata": {
        "colab": {
          "base_uri": "https://localhost:8080/"
        },
        "id": "09maDeU5t3Cv",
        "outputId": "b2e11a66-1588-4dab-fd18-9614e802c77e"
      },
      "execution_count": 23,
      "outputs": [
        {
          "output_type": "stream",
          "name": "stdout",
          "text": [
            "{A,B}_u = \n",
            "[[   701  58784]\n",
            " [     5 -34399]]\n",
            "\n",
            "Ранг матрицы управляемости rg {A,B} = 2\n"
          ]
        }
      ]
    },
    {
      "cell_type": "code",
      "source": [
        "#зададим собственные числа, удовл. критерию устойчивости непр. систем\n",
        "lambda_ = np.matrix([[-96,0],[0,-172]])\n",
        "print(\"Матрица собственных чисел:\\n\", lambda_)"
      ],
      "metadata": {
        "colab": {
          "base_uri": "https://localhost:8080/"
        },
        "id": "TRZ13zlNuA4d",
        "outputId": "a5d6dabe-e8da-4f8a-b128-e69bce68bbce"
      },
      "execution_count": 30,
      "outputs": [
        {
          "output_type": "stream",
          "name": "stdout",
          "text": [
            "Матрица собственных чисел:\n",
            " [[ -96    0]\n",
            " [   0 -172]]\n"
          ]
        }
      ]
    },
    {
      "cell_type": "code",
      "source": [
        "#определим матрицу F:\n",
        "f2 = B.copy()\n",
        "f1 = A.dot(f2) + d1 * B\n",
        "F = np.concatenate((np.round(f1), np.round(f2)), axis=1)\n",
        "print(\"F = \")\n",
        "print(F)"
      ],
      "metadata": {
        "colab": {
          "base_uri": "https://localhost:8080/"
        },
        "id": "rdds8683u7Uv",
        "outputId": "90e81ee6-ae37-401a-a505-8f7e80ab0226"
      },
      "execution_count": 31,
      "outputs": [
        {
          "output_type": "stream",
          "name": "stdout",
          "text": [
            "F = \n",
            "[[  6910    701]\n",
            " [-34769      5]]\n"
          ]
        }
      ]
    },
    {
      "cell_type": "code",
      "source": [
        "#найдём F^{-1}\n",
        "det_F = np.linalg.det(F)\n",
        "F_ = np.linalg.inv(F)\n",
        "FF_ = F.dot(F_)\n",
        "print(\"det(F) = \", det_F)\n",
        "print(\"\\nF_обр = \\n\", F_)\n",
        "print(\"\\nF * F_обр = \\n\", np.round(FF_))"
      ],
      "metadata": {
        "colab": {
          "base_uri": "https://localhost:8080/"
        },
        "id": "AAww7yaJvlhA",
        "outputId": "71083c6a-96ac-4291-af37-97c4ffbd149c"
      },
      "execution_count": 37,
      "outputs": [
        {
          "output_type": "stream",
          "name": "stdout",
          "text": [
            "det(F) =  24407618.999999978\n",
            "\n",
            "F_обр = \n",
            " [[ 2.04854066e-07 -2.87205401e-05]\n",
            " [ 1.42451421e-03  2.83108320e-04]]\n",
            "\n",
            "F * F_обр = \n",
            " [[ 1. -0.]\n",
            " [-0.  1.]]\n"
          ]
        }
      ]
    },
    {
      "cell_type": "code",
      "source": [
        "#определим коэффициенты d_\n",
        "print(\"(p+96)*(p+172)=p^2 + 268p + 16512\")\n",
        "d1_ = 268\n",
        "d2_ = 16512"
      ],
      "metadata": {
        "colab": {
          "base_uri": "https://localhost:8080/"
        },
        "id": "X1pABoQUwRlX",
        "outputId": "6cb0b228-954d-4735-c20a-d2d3d51a9cbe"
      },
      "execution_count": 38,
      "outputs": [
        {
          "output_type": "stream",
          "name": "stdout",
          "text": [
            "(p+96)*(p+172)=p^2 + 268p + 16512\n"
          ]
        }
      ]
    },
    {
      "cell_type": "code",
      "source": [
        "#срсиавим строку K_:\n",
        "K_ = np.matrix([d2_-d2, d1_-d1])\n",
        "print(\"K_ = \", K_)\n",
        "\n",
        "K = K_.dot(F_)\n",
        "print(\"K = \", K)"
      ],
      "metadata": {
        "colab": {
          "base_uri": "https://localhost:8080/"
        },
        "id": "mcfYyyHIw_Py",
        "outputId": "aba11415-a50c-40ba-a046-c3041830edee"
      },
      "execution_count": 39,
      "outputs": [
        {
          "output_type": "stream",
          "name": "stdout",
          "text": [
            "K_ =  [[18332   342]]\n",
            "K =  [[ 0.49093924 -0.4296819 ]]\n"
          ]
        }
      ]
    },
    {
      "cell_type": "code",
      "source": [
        "#u = K * x\n",
        "#желательно, чтобы матрицы K и K_ были целые (надо выносить множитель ещё у F_)"
      ],
      "metadata": {
        "id": "ZE8Kk7WYySuh"
      },
      "execution_count": null,
      "outputs": []
    },
    {
      "cell_type": "code",
      "source": [
        "#контроль\n",
        "A_ = A - B.dot(K)\n",
        "print(\"A_ = \\n\", A_)\n",
        "\n",
        "print(\"\\ndet\")"
      ],
      "metadata": {
        "colab": {
          "base_uri": "https://localhost:8080/"
        },
        "id": "TwpoFsmaylHV",
        "outputId": "44bdef39-5038-4c11-d8a3-c6ccbeafb4ec"
      },
      "execution_count": 40,
      "outputs": [
        {
          "output_type": "stream",
          "name": "stdout",
          "text": [
            "A_ = \n",
            " [[-260.14840948  281.20700884]\n",
            " [ -51.45469622   -7.85159052]]\n",
            "\n",
            "det\n"
          ]
        }
      ]
    }
  ]
}