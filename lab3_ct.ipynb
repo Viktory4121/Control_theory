{
  "nbformat": 4,
  "nbformat_minor": 0,
  "metadata": {
    "colab": {
      "name": "lab3_ct.ipynb",
      "provenance": [],
      "authorship_tag": "ABX9TyPYcvWe5IpAImUliN2Gh7SN",
      "include_colab_link": true
    },
    "kernelspec": {
      "name": "python3",
      "display_name": "Python 3"
    },
    "language_info": {
      "name": "python"
    }
  },
  "cells": [
    {
      "cell_type": "markdown",
      "metadata": {
        "id": "view-in-github",
        "colab_type": "text"
      },
      "source": [
        "<a href=\"https://colab.research.google.com/github/Viktory4121/Control_theory/blob/main/lab3_ct.ipynb\" target=\"_parent\"><img src=\"https://colab.research.google.com/assets/colab-badge.svg\" alt=\"Open In Colab\"/></a>"
      ]
    },
    {
      "cell_type": "code",
      "execution_count": 1,
      "metadata": {
        "id": "hqKnc1oef4lF"
      },
      "outputs": [],
      "source": [
        "import pandas as pd\n",
        "import numpy as np\n",
        "import math"
      ]
    },
    {
      "cell_type": "markdown",
      "source": [
        "##1.1"
      ],
      "metadata": {
        "id": "5z6a8zFZo3Iy"
      }
    },
    {
      "cell_type": "code",
      "source": [
        "#дана система, где\n",
        "A = np.matrix([[84, -20],[-49, -10]])\n",
        "B = np.matrix([701, 5]).T\n",
        "\n",
        "print(\"A =\\n\", A)\n",
        "print(\"B =\\n\", B)"
      ],
      "metadata": {
        "colab": {
          "base_uri": "https://localhost:8080/"
        },
        "id": "tE2zy8vPod40",
        "outputId": "33ce97e9-0450-4d47-97f6-5cc6b6fdea23"
      },
      "execution_count": 2,
      "outputs": [
        {
          "output_type": "stream",
          "name": "stdout",
          "text": [
            "A =\n",
            " [[ 84 -20]\n",
            " [-49 -10]]\n",
            "B =\n",
            " [[701]\n",
            " [  5]]\n"
          ]
        }
      ]
    },
    {
      "cell_type": "code",
      "source": [
        "#характеристический многочлен:\n",
        "print(\"det(p*I-A)=\\n=[[p-84, 20],[49, p+10]]=\")\n",
        "print(\"=(p-84)(p+10)-20*49=\")\n",
        "print(\"=p^2-74p-840-980=p^2-74p-1820=\")\n",
        "print(\"=(p - 37 + sqrt(3189))*(p - 37 - sqrt(3189))\")\n"
      ],
      "metadata": {
        "colab": {
          "base_uri": "https://localhost:8080/"
        },
        "id": "uUkRnY1spnUW",
        "outputId": "f8ec8538-efa5-442b-a9cf-2026351a7cf0"
      },
      "execution_count": 3,
      "outputs": [
        {
          "output_type": "stream",
          "name": "stdout",
          "text": [
            "det(p*I-A)=\n",
            "=[[p-84, 20],[49, p+10]]=\n",
            "=(p-84)(p+10)-20*49=\n",
            "=p^2-74p-840-980=p^2-74p-1820=\n",
            "=(p - 37 + sqrt(3189))*(p - 37 - sqrt(3189))\n"
          ]
        }
      ]
    },
    {
      "cell_type": "code",
      "source": [
        "d1 = -74\n",
        "d2 = -1820\n",
        "p1 = 37 + math.sqrt(3189)\n",
        "p2 = 37 - math.sqrt(3189)\n",
        "\n",
        "print(\"d1 = \", d1)\n",
        "print(\"d2 = \", d2)\n",
        "print(\"p1 = \", p1)\n",
        "print(\"p2 = \", p2)\n",
        "#система неустойчива, тк один из корней положительный"
      ],
      "metadata": {
        "colab": {
          "base_uri": "https://localhost:8080/"
        },
        "id": "sERehjIss9pl",
        "outputId": "53bcdbe3-d3db-4389-e5eb-fa5c7ef58a9e"
      },
      "execution_count": 4,
      "outputs": [
        {
          "output_type": "stream",
          "name": "stdout",
          "text": [
            "d1 =  -74\n",
            "d2 =  -1820\n",
            "p1 =  93.471231613982\n",
            "p2 =  -19.471231613982\n"
          ]
        }
      ]
    },
    {
      "cell_type": "code",
      "source": [
        "#матрица управляемости:\n",
        "#доп вычисления:\n",
        "AB = A.dot(B)\n",
        "print('A*B =\\n', AB)\n",
        "#n=2"
      ],
      "metadata": {
        "colab": {
          "base_uri": "https://localhost:8080/"
        },
        "id": "IxnOTGe9s_xh",
        "outputId": "0bad95ad-6ac3-4c62-cc00-7f4818a468d0"
      },
      "execution_count": 5,
      "outputs": [
        {
          "output_type": "stream",
          "name": "stdout",
          "text": [
            "A*B =\n",
            " [[ 58784]\n",
            " [-34399]]\n"
          ]
        }
      ]
    },
    {
      "cell_type": "code",
      "source": [
        "#матрица управляемости:\n",
        "beta = np.concatenate((np.round(B), np.round(AB)), axis=1)\n",
        "print(\"{A,B}_u = \")\n",
        "print(beta)\n",
        "\n",
        "rang_beta = np.linalg.matrix_rank(beta)\n",
        "print(\"\\nРанг матрицы управляемости rg {A,B} = \" + str(rang_beta))\n",
        "#система вполне управляема"
      ],
      "metadata": {
        "colab": {
          "base_uri": "https://localhost:8080/"
        },
        "id": "09maDeU5t3Cv",
        "outputId": "c8d2e3f8-6206-4e19-b077-286644a4eeec"
      },
      "execution_count": 6,
      "outputs": [
        {
          "output_type": "stream",
          "name": "stdout",
          "text": [
            "{A,B}_u = \n",
            "[[   701  58784]\n",
            " [     5 -34399]]\n",
            "\n",
            "Ранг матрицы управляемости rg {A,B} = 2\n"
          ]
        }
      ]
    },
    {
      "cell_type": "code",
      "source": [
        "#зададим собственные числа, удовл. критерию устойчивости непр. систем\n",
        "lambda_ = np.matrix([[-96,0],[0,-172]])\n",
        "print(\"Матрица собственных чисел:\\n\", lambda_)"
      ],
      "metadata": {
        "colab": {
          "base_uri": "https://localhost:8080/"
        },
        "id": "TRZ13zlNuA4d",
        "outputId": "67c3657a-964d-446d-e2f6-a170b246e309"
      },
      "execution_count": 7,
      "outputs": [
        {
          "output_type": "stream",
          "name": "stdout",
          "text": [
            "Матрица собственных чисел:\n",
            " [[ -96    0]\n",
            " [   0 -172]]\n"
          ]
        }
      ]
    },
    {
      "cell_type": "code",
      "source": [
        "#определим матрицу F:\n",
        "f2 = B.copy()\n",
        "f1 = A.dot(f2) + d1 * B\n",
        "F = np.concatenate((np.round(f1), np.round(f2)), axis=1)\n",
        "print(\"F = \")\n",
        "print(F)"
      ],
      "metadata": {
        "colab": {
          "base_uri": "https://localhost:8080/"
        },
        "id": "rdds8683u7Uv",
        "outputId": "c6680bd3-48f5-4b4b-ecfd-afa952b99d7d"
      },
      "execution_count": 8,
      "outputs": [
        {
          "output_type": "stream",
          "name": "stdout",
          "text": [
            "F = \n",
            "[[  6910    701]\n",
            " [-34769      5]]\n"
          ]
        }
      ]
    },
    {
      "cell_type": "code",
      "source": [
        "#найдём F^{-1}\n",
        "det_F = np.round(np.linalg.det(F))\n",
        "F_ = np.linalg.inv(F)\n",
        "FF_ = F.dot(F_)\n",
        "print(\"det(F) = \", det_F)\n",
        "print(\"\\nF_обр = 1/\" + str(det_F) + \" * \\n\" + str(pd.DataFrame(np.round(F_*det_F))))\n",
        "print(\"\\nF * F_обр = \\n\", np.round(FF_))"
      ],
      "metadata": {
        "colab": {
          "base_uri": "https://localhost:8080/"
        },
        "id": "AAww7yaJvlhA",
        "outputId": "0b1cf782-2e51-4fa8-878b-aae5edc58343"
      },
      "execution_count": 9,
      "outputs": [
        {
          "output_type": "stream",
          "name": "stdout",
          "text": [
            "det(F) =  24407619.0\n",
            "\n",
            "F_обр = 1/24407619.0 * \n",
            "         0       1\n",
            "0      5.0  -701.0\n",
            "1  34769.0  6910.0\n",
            "\n",
            "F * F_обр = \n",
            " [[ 1. -0.]\n",
            " [-0.  1.]]\n"
          ]
        }
      ]
    },
    {
      "cell_type": "code",
      "source": [
        "#определим коэффициенты d_\n",
        "print(\"(p+96)*(p+172)=p^2 + 268p + 16512\")\n",
        "d1_ = 268\n",
        "d2_ = 16512"
      ],
      "metadata": {
        "colab": {
          "base_uri": "https://localhost:8080/"
        },
        "id": "X1pABoQUwRlX",
        "outputId": "3e41b92c-6053-47bd-a98f-637b3307c715"
      },
      "execution_count": 10,
      "outputs": [
        {
          "output_type": "stream",
          "name": "stdout",
          "text": [
            "(p+96)*(p+172)=p^2 + 268p + 16512\n"
          ]
        }
      ]
    },
    {
      "cell_type": "code",
      "source": [
        "#срсиавим строку K_:\n",
        "K_ = np.matrix([d2_-d2, d1_-d1])\n",
        "print(\"K_ = \", K_)\n",
        "\n",
        "K = K_.dot(F_)\n",
        "print(\"K = 1/\" + str(det_F) + \" * \\n\" + str(K*det_F))"
      ],
      "metadata": {
        "colab": {
          "base_uri": "https://localhost:8080/"
        },
        "id": "mcfYyyHIw_Py",
        "outputId": "ee43bc9e-1262-4283-f1df-17774798149f"
      },
      "execution_count": 11,
      "outputs": [
        {
          "output_type": "stream",
          "name": "stdout",
          "text": [
            "K_ =  [[18332   342]]\n",
            "K = 1/24407619.0 * \n",
            "[[ 11982658. -10487512.]]\n"
          ]
        }
      ]
    },
    {
      "cell_type": "code",
      "source": [
        "#u = K * x\n",
        "#желательно, чтобы матрицы K и K_ были целые (надо выносить множитель ещё у F_)"
      ],
      "metadata": {
        "id": "ZE8Kk7WYySuh"
      },
      "execution_count": 12,
      "outputs": []
    },
    {
      "cell_type": "code",
      "source": [
        "#контроль\n",
        "A_ = A - B.dot(K)\n",
        "print(\"A_ = 1/\" + str(det_F) + \" * \\n\" + str(pd.DataFrame(np.round(A_*det_F))))\n",
        "\n",
        "print(\"\\ndet(p*I-A_) = 1/\" + str(det_F) + \"[[24407619p+....],[]]\")"
      ],
      "metadata": {
        "colab": {
          "base_uri": "https://localhost:8080/"
        },
        "id": "TwpoFsmaylHV",
        "outputId": "6fdb385b-8918-497f-9a14-3c2271698c5c"
      },
      "execution_count": 13,
      "outputs": [
        {
          "output_type": "stream",
          "name": "stdout",
          "text": [
            "A_ = 1/24407619.0 * \n",
            "              0             1\n",
            "0 -6.349603e+09  6.863594e+09\n",
            "1 -1.255887e+09 -1.916386e+08\n",
            "\n",
            "det(p*I-A_) = 1/24407619.0[[24407619p+....],[]]\n"
          ]
        }
      ]
    },
    {
      "cell_type": "code",
      "source": [
        "#контроль\n",
        "a0 = (A.copy())*det_F\n",
        "print(a0)\n",
        "bk = np.matrix([[8399843258, -7351745912],[59913290, -52437560]])\n",
        "print(bk)\n",
        "aa_ = a0-bk\n",
        "print(aa_)\n",
        "print(aa_/det_F)"
      ],
      "metadata": {
        "id": "7Mdm8op1Ihwe",
        "outputId": "669f7f8b-f9c9-434e-fd37-63f9650a0162",
        "colab": {
          "base_uri": "https://localhost:8080/"
        }
      },
      "execution_count": 19,
      "outputs": [
        {
          "output_type": "stream",
          "name": "stdout",
          "text": [
            "[[ 2.05024000e+09 -4.88152380e+08]\n",
            " [-1.19597333e+09 -2.44076190e+08]]\n",
            "[[ 8399843258 -7351745912]\n",
            " [   59913290   -52437560]]\n",
            "[[-6.34960326e+09  6.86359353e+09]\n",
            " [-1.25588662e+09 -1.91638630e+08]]\n",
            "[[-260.14840948  281.20700884]\n",
            " [ -51.45469622   -7.85159052]]\n"
          ]
        }
      ]
    },
    {
      "cell_type": "code",
      "source": [
        "print(6349603262*191638630)\n",
        "print(6863593532+1255886621)\n",
        "print(1216829270173211060+8119480153)"
      ],
      "metadata": {
        "id": "kwkX6EX5MPDP",
        "outputId": "36c9d01f-c5ba-4533-f79a-65ed716c95a7",
        "colab": {
          "base_uri": "https://localhost:8080/"
        }
      },
      "execution_count": 18,
      "outputs": [
        {
          "output_type": "stream",
          "name": "stdout",
          "text": [
            "1216829270173211060\n",
            "8119480153\n",
            "1216829278292691213\n"
          ]
        }
      ]
    },
    {
      "cell_type": "markdown",
      "source": [
        "##1.2"
      ],
      "metadata": {
        "id": "kKY7IFuL_617"
      }
    },
    {
      "cell_type": "code",
      "source": [
        "#дана система с прежними А и В. И добавляется к ней:\n",
        "C = np.matrix([-38, 99])\n",
        "print(\"C = \\n\", C)\n",
        "#система неустойчива и вполне управляема (из пункта 1.1)"
      ],
      "metadata": {
        "colab": {
          "base_uri": "https://localhost:8080/"
        },
        "id": "zgELKbbo_6Lx",
        "outputId": "c5c76547-eb44-4bcf-f389-92a0067ee673"
      },
      "execution_count": 20,
      "outputs": [
        {
          "output_type": "stream",
          "name": "stdout",
          "text": [
            "C = \n",
            " [[-38  99]]\n"
          ]
        }
      ]
    },
    {
      "cell_type": "code",
      "source": [
        "#матрица наблюдаемости\n",
        "A_arr = A.copy().T\n",
        "C_arr = C.copy().T\n",
        "\n",
        "AC = np.matrix(A_arr.dot(C_arr))\n",
        "print(\"A * C = \\n\", AC)\n",
        "\n",
        "gamma = np.concatenate((C.T, AC), axis=1)\n",
        "print('\\n{A, С} = \\n', gamma)\n",
        "rang_gamma = np.linalg.matrix_rank(gamma)\n",
        "print(\"\\nРанг матрицы наблюдаемости rg {A,C}_y = \" + str(rang_gamma))\n",
        "#система вполне наблюдаема"
      ],
      "metadata": {
        "colab": {
          "base_uri": "https://localhost:8080/"
        },
        "id": "i6I59fTRAJ3B",
        "outputId": "f6fe177c-c6f8-46f6-dd79-b725add1d6a3"
      },
      "execution_count": 21,
      "outputs": [
        {
          "output_type": "stream",
          "name": "stdout",
          "text": [
            "A * C = \n",
            " [[-8043]\n",
            " [ -230]]\n",
            "\n",
            "{A, С} = \n",
            " [[  -38 -8043]\n",
            " [   99  -230]]\n",
            "\n",
            "Ранг матрицы наблюдаемости rg {A,C}_y = 2\n"
          ]
        }
      ]
    },
    {
      "cell_type": "code",
      "source": [
        "#определим мотрицу Fd - F с домиком\n",
        "f2d = C.copy().T\n",
        "print(f2d)\n",
        "f1d = (A.T).dot(f2d) + d1 * (C.T)\n",
        "print(f1d)\n",
        "Fd = np.concatenate((np.round(f1d), np.round(f2d)), axis=1)\n",
        "print(\"F^ = \\n\", Fd)"
      ],
      "metadata": {
        "colab": {
          "base_uri": "https://localhost:8080/"
        },
        "id": "E4YiEZFFCFMy",
        "outputId": "406bd5b3-a9d0-4949-de4e-c0d3cddf0882"
      },
      "execution_count": 23,
      "outputs": [
        {
          "output_type": "stream",
          "name": "stdout",
          "text": [
            "[[-38]\n",
            " [ 99]]\n",
            "[[-5231]\n",
            " [-7556]]\n",
            "F^ = \n",
            " [[-5231   -38]\n",
            " [-7556    99]]\n"
          ]
        }
      ]
    },
    {
      "cell_type": "code",
      "source": [
        "#найдём F^{-1}\n",
        "det_Fd = np.round(np.linalg.det(Fd))\n",
        "Fd_ = np.linalg.inv(Fd)\n",
        "FdFd_ = Fd.dot(Fd_)\n",
        "print(\"det(F^) = \", det_Fd)\n",
        "print(\"\\nF^_обр = 1/\" + str(det_Fd) + \" * \\n\" + str(pd.DataFrame(np.round(Fd_*det_Fd))))\n",
        "print(\"\\nF^ * F^_обр = \\n\", np.round(FdFd_))"
      ],
      "metadata": {
        "colab": {
          "base_uri": "https://localhost:8080/"
        },
        "id": "ZWgpqQw6DX6L",
        "outputId": "7b3b3034-e9eb-49eb-8930-d1210a423d53"
      },
      "execution_count": 24,
      "outputs": [
        {
          "output_type": "stream",
          "name": "stdout",
          "text": [
            "det(F^) =  -804997.0\n",
            "\n",
            "F^_обр = 1/-804997.0 * \n",
            "        0       1\n",
            "0    99.0    38.0\n",
            "1  7556.0 -5231.0\n",
            "\n",
            "F^ * F^_обр = \n",
            " [[1. 0.]\n",
            " [0. 1.]]\n"
          ]
        }
      ]
    },
    {
      "cell_type": "code",
      "source": [
        "#пусть матрица из собственных чисел lambda^ выглядит так:\n",
        "lambda_d = np.matrix([[-3,0],[0,-801]])\n",
        "print(\"Матрица собственных чисел:\\n\", lambda_d)"
      ],
      "metadata": {
        "colab": {
          "base_uri": "https://localhost:8080/"
        },
        "id": "E26_NunKDuoj",
        "outputId": "0c1fa396-b330-4a5e-c5f5-814b8c230a69"
      },
      "execution_count": 25,
      "outputs": [
        {
          "output_type": "stream",
          "name": "stdout",
          "text": [
            "Матрица собственных чисел:\n",
            " [[  -3    0]\n",
            " [   0 -801]]\n"
          ]
        }
      ]
    },
    {
      "cell_type": "code",
      "source": [
        "#определим коэффициенты d^:\n",
        "print(\"(p+3)*(p+801)=p^2 + 804p + 2403\")\n",
        "d1d = 804\n",
        "d2d = 2403"
      ],
      "metadata": {
        "id": "a279X5bsENdF",
        "outputId": "2ef7d155-58db-4cba-d338-64f0e4ff328f",
        "colab": {
          "base_uri": "https://localhost:8080/"
        }
      },
      "execution_count": 26,
      "outputs": [
        {
          "output_type": "stream",
          "name": "stdout",
          "text": [
            "(p+3)*(p+801)=p^2 + 804p + 2403\n"
          ]
        }
      ]
    },
    {
      "cell_type": "code",
      "source": [
        "#пусть K^ = L^ = \n",
        "Ld = np.matrix([d2d-d2, d1d-d1])\n",
        "print(\"L^ = \", Ld)\n",
        "\n",
        "L = Ld.dot(Fd_).T\n",
        "print(\"\\nL = 1/\" + str(det_Fd) + \" * \\n\" + str(L*det_Fd))"
      ],
      "metadata": {
        "id": "Fvk-zEF7E-Ou",
        "outputId": "694c411c-41ce-40e2-ce3e-d9d857b651ca",
        "colab": {
          "base_uri": "https://localhost:8080/"
        }
      },
      "execution_count": 27,
      "outputs": [
        {
          "output_type": "stream",
          "name": "stdout",
          "text": [
            "L^ =  [[4223  878]]\n",
            "\n",
            "L = 1/-804997.0 * \n",
            "[[ 7052245.]\n",
            " [-4432344.]]\n"
          ]
        }
      ]
    },
    {
      "cell_type": "code",
      "source": [
        "#контроль:\n",
        "Ad = A - L.dot(C)\n",
        "lc = L.dot(C)\n",
        "print(lc)\n",
        "print(\"A^ = 1/\" + str(det_Fd) + \" * \\n\" + str(pd.DataFrame(np.round(Ad*det_Fd))))\n",
        "\n",
        "print(\"\\ndet(p*I-A_) = 1/\" + str(det_Fd) + \"[[...],[]]\")"
      ],
      "metadata": {
        "id": "TzhcaSDKF41J",
        "outputId": "fa1971ca-fff8-4678-fdbd-fa94d2dacd17",
        "colab": {
          "base_uri": "https://localhost:8080/"
        }
      },
      "execution_count": 42,
      "outputs": [
        {
          "output_type": "stream",
          "name": "stdout",
          "text": [
            "[[ 332.90224684 -867.29795887]\n",
            " [-209.22944061  545.09775316]]\n",
            "A^ = 1/-804997.0 * \n",
            "             0            1\n",
            "0  200365562.0 -682072315.0\n",
            "1 -128984219.0  446852026.0\n",
            "\n",
            "det(p*I-A_) = 1/-804997.0[[...],[]]\n"
          ]
        }
      ]
    },
    {
      "cell_type": "code",
      "source": [
        "#искомый алгоритм управления:\n",
        "print(\"u^ = K * x^\")\n",
        "#далее разложение с х и у"
      ],
      "metadata": {
        "id": "twGMslZBGlZc",
        "outputId": "9d942d09-c763-43f3-81b5-cd5dc329f8a4",
        "colab": {
          "base_uri": "https://localhost:8080/"
        }
      },
      "execution_count": 41,
      "outputs": [
        {
          "output_type": "stream",
          "name": "stdout",
          "text": [
            "u^ = K * x^\n"
          ]
        }
      ]
    },
    {
      "cell_type": "code",
      "source": [
        "a_bk = np.matrix([[-6349603262, 6863593532],[-1255886621, -191638630]])\n",
        "_lc = np.round((L.dot(C))*det_Fd)\n",
        "coeff = det_F*det_Fd\n",
        "#print(a_bk)\n",
        "#print(_lc)\n",
        "print(coeff)\n",
        "clog1 = a_bk*det_Fd\n",
        "#print(clog1)\n",
        "clog2 = _lc*det_F\n",
        "#print(clog2)\n",
        "sum = clog1+clog2\n",
        "print(sum)"
      ],
      "metadata": {
        "id": "NVsNmVnbl0nd",
        "outputId": "3c3c160f-50b2-4d8e-d06a-14ab7d6d60d5",
        "colab": {
          "base_uri": "https://localhost:8080/"
        }
      },
      "execution_count": 68,
      "outputs": [
        {
          "output_type": "stream",
          "name": "stdout",
          "text": [
            "-19648060072143.0\n",
            "[[-1.42947177e+15  1.15155502e+16]\n",
            " [ 5.12193758e+15 -1.05558449e+16]]\n"
          ]
        }
      ]
    },
    {
      "cell_type": "markdown",
      "source": [
        "##1.3"
      ],
      "metadata": {
        "id": "FSsJNTK4Hv5B"
      }
    },
    {
      "cell_type": "code",
      "source": [
        "#дана система:\n",
        "Aa = np.matrix([[0, -49],[36, 0]])\n",
        "Bb = np.matrix([[0],[76]])\n",
        "x0 = np.matrix([[0],[7]])\n",
        "print('A = \\n', Aa)\n",
        "print('\\nB = \\n', Bb)\n",
        "print('\\nx0 = \\n', x0)"
      ],
      "metadata": {
        "id": "ITNVSJp3HoHn",
        "outputId": "3a6c7227-b45a-490f-b85f-ca31a63d6aac",
        "colab": {
          "base_uri": "https://localhost:8080/"
        }
      },
      "execution_count": 70,
      "outputs": [
        {
          "output_type": "stream",
          "name": "stdout",
          "text": [
            "A = \n",
            " [[  0 -49]\n",
            " [ 36   0]]\n",
            "\n",
            "B = \n",
            " [[ 0]\n",
            " [76]]\n",
            "\n",
            "x0 = \n",
            " [[0]\n",
            " [7]]\n"
          ]
        }
      ]
    },
    {
      "cell_type": "code",
      "source": [
        "#показатель качества:\n",
        "#J_1\\{u\\} = \\int_0^{\\infty} \\{ 7x_1^2(t) + 2x_2^2(t) - 5u^2(t)\\} dt"
      ],
      "metadata": {
        "id": "UJuIW4vxIgPv"
      },
      "execution_count": null,
      "outputs": []
    },
    {
      "cell_type": "code",
      "source": [
        "#матрица управляемости\n",
        "AaBb = Aa.dot(Bb)\n",
        "alpha = np.concatenate((np.round(Bb), np.round(AaBb)), axis=1)\n",
        "print(\"{A,B}_u = \")\n",
        "print(alpha)\n",
        "\n",
        "rang_alpha = np.linalg.matrix_rank(alpha)\n",
        "print(\"\\nРанг матрицы управляемости rg {A,B} = \" + str(rang_alpha))\n",
        "#система вполне управляема"
      ],
      "metadata": {
        "id": "ENIcE15WvpWw",
        "outputId": "2cb6bd48-c276-4c44-e0b1-097797db1e14",
        "colab": {
          "base_uri": "https://localhost:8080/"
        }
      },
      "execution_count": 72,
      "outputs": [
        {
          "output_type": "stream",
          "name": "stdout",
          "text": [
            "{A,B}_u = \n",
            "[[    0 -3724]\n",
            " [   76     0]]\n",
            "\n",
            "Ранг матрицы управляемости rg {A,B} = 2\n"
          ]
        }
      ]
    },
    {
      "cell_type": "code",
      "source": [
        ""
      ],
      "metadata": {
        "id": "ms7trutEwiUR"
      },
      "execution_count": null,
      "outputs": []
    }
  ]
}