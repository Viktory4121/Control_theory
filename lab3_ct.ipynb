{
  "nbformat": 4,
  "nbformat_minor": 0,
  "metadata": {
    "colab": {
      "name": "lab3_ct.ipynb",
      "provenance": [],
      "authorship_tag": "ABX9TyMAIv2xdrkMMJxEgLbnJtC5",
      "include_colab_link": true
    },
    "kernelspec": {
      "name": "python3",
      "display_name": "Python 3"
    },
    "language_info": {
      "name": "python"
    }
  },
  "cells": [
    {
      "cell_type": "markdown",
      "metadata": {
        "id": "view-in-github",
        "colab_type": "text"
      },
      "source": [
        "<a href=\"https://colab.research.google.com/github/Viktory4121/Control_theory/blob/main/lab3_ct.ipynb\" target=\"_parent\"><img src=\"https://colab.research.google.com/assets/colab-badge.svg\" alt=\"Open In Colab\"/></a>"
      ]
    },
    {
      "cell_type": "code",
      "execution_count": 11,
      "metadata": {
        "id": "hqKnc1oef4lF"
      },
      "outputs": [],
      "source": [
        "import pandas as pd\n",
        "import numpy as np\n",
        "import math"
      ]
    },
    {
      "cell_type": "markdown",
      "source": [
        "##1.1"
      ],
      "metadata": {
        "id": "5z6a8zFZo3Iy"
      }
    },
    {
      "cell_type": "code",
      "source": [
        "#дана система, где\n",
        "A = np.matrix([[84, -20],[-49, -10]])\n",
        "B = np.matrix([701, 5]).T\n",
        "\n",
        "print(\"A =\\n\", A)\n",
        "print(\"B =\\n\", B)"
      ],
      "metadata": {
        "colab": {
          "base_uri": "https://localhost:8080/"
        },
        "id": "tE2zy8vPod40",
        "outputId": "5871c250-ae07-4a55-d155-4fb02cbd87a5"
      },
      "execution_count": 12,
      "outputs": [
        {
          "output_type": "stream",
          "name": "stdout",
          "text": [
            "A =\n",
            " [[ 84 -20]\n",
            " [-49 -10]]\n",
            "B =\n",
            " [[701]\n",
            " [  5]]\n"
          ]
        }
      ]
    },
    {
      "cell_type": "code",
      "source": [
        "#характеристический многочлен:\n",
        "print(\"det(p*I-A)=\\n=[[p-84, 20],[49, p+10]]=\")\n",
        "print(\"=(p-84)(p+10)-20*49=\")\n",
        "print(\"=p^2-74p-840-980=p^2-74p-1820=\")\n",
        "print(\"=(p - 37 + sqrt(3189))*(p - 37 - sqrt(3189))\")\n"
      ],
      "metadata": {
        "colab": {
          "base_uri": "https://localhost:8080/"
        },
        "id": "uUkRnY1spnUW",
        "outputId": "a55dafae-4dd4-4d76-c116-f4d75b61d79d"
      },
      "execution_count": 13,
      "outputs": [
        {
          "output_type": "stream",
          "name": "stdout",
          "text": [
            "det(p*I-A)=\n",
            "=[[p-84, 20],[49, p+10]]=\n",
            "=(p-84)(p+10)-20*49=\n",
            "=p^2-74p-840-980=p^2-74p-1820=\n",
            "=(p - 37 + sqrt(3189))*(p - 37 - sqrt(3189))\n"
          ]
        }
      ]
    },
    {
      "cell_type": "code",
      "source": [
        "d1 = -74\n",
        "d2 = -1820\n",
        "p1 = 37 + math.sqrt(3189)\n",
        "p2 = 37 - math.sqrt(3189)\n",
        "\n",
        "print(\"d1 = \", d1)\n",
        "print(\"d2 = \", d2)\n",
        "print(\"p1 = \", p1)\n",
        "print(\"p2 = \", p2)\n",
        "#система неустойчива, тк один из корней положительный"
      ],
      "metadata": {
        "colab": {
          "base_uri": "https://localhost:8080/"
        },
        "id": "sERehjIss9pl",
        "outputId": "4ad4da5e-d13b-4af4-b44a-2f8559e097c1"
      },
      "execution_count": 17,
      "outputs": [
        {
          "output_type": "stream",
          "name": "stdout",
          "text": [
            "d1 =  -74\n",
            "d2 =  -1820\n",
            "p1 =  93.471231613982\n",
            "p2 =  -19.471231613982\n"
          ]
        }
      ]
    },
    {
      "cell_type": "code",
      "source": [
        "#матрица управляемости:\n",
        "#доп вычисления:\n",
        "AB = A.dot(B)\n",
        "print('A*B =\\n', AB)\n",
        "#n=2"
      ],
      "metadata": {
        "colab": {
          "base_uri": "https://localhost:8080/"
        },
        "id": "IxnOTGe9s_xh",
        "outputId": "d0c549cb-d6d5-4955-c0ae-57a18b5d904e"
      },
      "execution_count": 18,
      "outputs": [
        {
          "output_type": "stream",
          "name": "stdout",
          "text": [
            "A*B =\n",
            " [[ 58784]\n",
            " [-34399]]\n"
          ]
        }
      ]
    },
    {
      "cell_type": "code",
      "source": [
        "#матрица управляемости:\n",
        "beta = np.concatenate((np.round(B), np.round(AB)), axis=1)\n",
        "print(\"{A,B}_u = \")\n",
        "print(beta)\n",
        "\n",
        "rang_beta = np.linalg.matrix_rank(beta)\n",
        "print(\"\\nРанг матрицы управляемости rg {A,B} = \" + str(rang_beta))\n",
        "#система вполне управляема"
      ],
      "metadata": {
        "id": "09maDeU5t3Cv",
        "outputId": "b2e11a66-1588-4dab-fd18-9614e802c77e",
        "colab": {
          "base_uri": "https://localhost:8080/"
        }
      },
      "execution_count": 23,
      "outputs": [
        {
          "output_type": "stream",
          "name": "stdout",
          "text": [
            "{A,B}_u = \n",
            "[[   701  58784]\n",
            " [     5 -34399]]\n",
            "\n",
            "Ранг матрицы управляемости rg {A,B} = 2\n"
          ]
        }
      ]
    },
    {
      "cell_type": "code",
      "source": [
        ""
      ],
      "metadata": {
        "id": "TRZ13zlNuA4d"
      },
      "execution_count": null,
      "outputs": []
    }
  ]
}